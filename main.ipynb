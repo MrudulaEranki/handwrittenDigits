{
 "cells": [
  {
   "cell_type": "code",
   "execution_count": null,
   "id": "23bbd65f-d1fb-48d0-86b1-372bd482999f",
   "metadata": {},
   "outputs": [
    {
     "ename": "ModuleNotFoundError",
     "evalue": "No module named 'keras'",
     "output_type": "error",
     "traceback": [
      "\u001b[31m---------------------------------------------------------------------------\u001b[39m",
      "\u001b[31mModuleNotFoundError\u001b[39m                       Traceback (most recent call last)",
      "\u001b[36mCell\u001b[39m\u001b[36m \u001b[39m\u001b[32mIn[2]\u001b[39m\u001b[32m, line 1\u001b[39m\n\u001b[32m----> \u001b[39m\u001b[32m1\u001b[39m \u001b[38;5;28;01mimport\u001b[39;00m\u001b[38;5;250m \u001b[39m\u001b[34;01mkeras\u001b[39;00m\n\u001b[32m      2\u001b[39m \u001b[38;5;28mprint\u001b[39m(keras.__version__)\n",
      "\u001b[31mModuleNotFoundError\u001b[39m: No module named 'keras'"
     ]
    }
   ],
   "source": [
    "from tensorflow import keras\n",
    "print(keras.__version__)"
   ]
  },
  {
   "cell_type": "code",
   "execution_count": null,
   "id": "9b37a240-fbd0-4b1d-838c-1a8a03e2b1e0",
   "metadata": {},
   "outputs": [],
   "source": [
    "import numpy as np\n",
    "import pandas as pd\n",
    "from keras.models import Sequential\n",
    "from tensorflow.keras.utils import to_categorical\n",
    "from tensorflow.keras.datasets import mnist\n",
    "from sklearn.model_selection import train_test_split\n",
    "import matplotlib.pyplot as plt\n",
    "from keras.layers import Dense\n",
    "\n",
    " "
   ]
  },
  {
   "cell_type": "markdown",
   "id": "fba74934",
   "metadata": {},
   "source": [
    "Load the Dataset"
   ]
  },
  {
   "cell_type": "code",
   "execution_count": 3,
   "id": "bcef340a-1882-4f1d-b9ef-ca0a73ad5bcb",
   "metadata": {},
   "outputs": [
    {
     "name": "stdout",
     "output_type": "stream",
     "text": [
      "(70000, 785)\n"
     ]
    }
   ],
   "source": [
    "#\"E:\\handwrittenDigits\\Data\\mnist_test.csv\"\n",
    "\n",
    "tr1 = pd.read_csv(\"E:/handwrittenDigits/Data/mnist_train.csv\")\n",
    "te1 = pd.read_csv(\"E:/handwrittenDigits/Data/mnist_test.csv\")\n",
    "\n",
    "df = pd.concat([tr1, te1])\n",
    "\n",
    "print(df.shape)"
   ]
  },
  {
   "cell_type": "code",
   "execution_count": 4,
   "id": "4dd951b9-f1dd-409a-97df-2a2fe49542c7",
   "metadata": {},
   "outputs": [
    {
     "data": {
      "text/html": [
       "<div>\n",
       "<style scoped>\n",
       "    .dataframe tbody tr th:only-of-type {\n",
       "        vertical-align: middle;\n",
       "    }\n",
       "\n",
       "    .dataframe tbody tr th {\n",
       "        vertical-align: top;\n",
       "    }\n",
       "\n",
       "    .dataframe thead th {\n",
       "        text-align: right;\n",
       "    }\n",
       "</style>\n",
       "<table border=\"1\" class=\"dataframe\">\n",
       "  <thead>\n",
       "    <tr style=\"text-align: right;\">\n",
       "      <th></th>\n",
       "      <th>label</th>\n",
       "      <th>1x1</th>\n",
       "      <th>1x2</th>\n",
       "      <th>1x3</th>\n",
       "      <th>1x4</th>\n",
       "      <th>1x5</th>\n",
       "      <th>1x6</th>\n",
       "      <th>1x7</th>\n",
       "      <th>1x8</th>\n",
       "      <th>1x9</th>\n",
       "      <th>...</th>\n",
       "      <th>28x19</th>\n",
       "      <th>28x20</th>\n",
       "      <th>28x21</th>\n",
       "      <th>28x22</th>\n",
       "      <th>28x23</th>\n",
       "      <th>28x24</th>\n",
       "      <th>28x25</th>\n",
       "      <th>28x26</th>\n",
       "      <th>28x27</th>\n",
       "      <th>28x28</th>\n",
       "    </tr>\n",
       "  </thead>\n",
       "  <tbody>\n",
       "    <tr>\n",
       "      <th>0</th>\n",
       "      <td>5</td>\n",
       "      <td>0</td>\n",
       "      <td>0</td>\n",
       "      <td>0</td>\n",
       "      <td>0</td>\n",
       "      <td>0</td>\n",
       "      <td>0</td>\n",
       "      <td>0</td>\n",
       "      <td>0</td>\n",
       "      <td>0</td>\n",
       "      <td>...</td>\n",
       "      <td>0</td>\n",
       "      <td>0</td>\n",
       "      <td>0</td>\n",
       "      <td>0</td>\n",
       "      <td>0</td>\n",
       "      <td>0</td>\n",
       "      <td>0</td>\n",
       "      <td>0</td>\n",
       "      <td>0</td>\n",
       "      <td>0</td>\n",
       "    </tr>\n",
       "    <tr>\n",
       "      <th>1</th>\n",
       "      <td>0</td>\n",
       "      <td>0</td>\n",
       "      <td>0</td>\n",
       "      <td>0</td>\n",
       "      <td>0</td>\n",
       "      <td>0</td>\n",
       "      <td>0</td>\n",
       "      <td>0</td>\n",
       "      <td>0</td>\n",
       "      <td>0</td>\n",
       "      <td>...</td>\n",
       "      <td>0</td>\n",
       "      <td>0</td>\n",
       "      <td>0</td>\n",
       "      <td>0</td>\n",
       "      <td>0</td>\n",
       "      <td>0</td>\n",
       "      <td>0</td>\n",
       "      <td>0</td>\n",
       "      <td>0</td>\n",
       "      <td>0</td>\n",
       "    </tr>\n",
       "    <tr>\n",
       "      <th>2</th>\n",
       "      <td>4</td>\n",
       "      <td>0</td>\n",
       "      <td>0</td>\n",
       "      <td>0</td>\n",
       "      <td>0</td>\n",
       "      <td>0</td>\n",
       "      <td>0</td>\n",
       "      <td>0</td>\n",
       "      <td>0</td>\n",
       "      <td>0</td>\n",
       "      <td>...</td>\n",
       "      <td>0</td>\n",
       "      <td>0</td>\n",
       "      <td>0</td>\n",
       "      <td>0</td>\n",
       "      <td>0</td>\n",
       "      <td>0</td>\n",
       "      <td>0</td>\n",
       "      <td>0</td>\n",
       "      <td>0</td>\n",
       "      <td>0</td>\n",
       "    </tr>\n",
       "    <tr>\n",
       "      <th>3</th>\n",
       "      <td>1</td>\n",
       "      <td>0</td>\n",
       "      <td>0</td>\n",
       "      <td>0</td>\n",
       "      <td>0</td>\n",
       "      <td>0</td>\n",
       "      <td>0</td>\n",
       "      <td>0</td>\n",
       "      <td>0</td>\n",
       "      <td>0</td>\n",
       "      <td>...</td>\n",
       "      <td>0</td>\n",
       "      <td>0</td>\n",
       "      <td>0</td>\n",
       "      <td>0</td>\n",
       "      <td>0</td>\n",
       "      <td>0</td>\n",
       "      <td>0</td>\n",
       "      <td>0</td>\n",
       "      <td>0</td>\n",
       "      <td>0</td>\n",
       "    </tr>\n",
       "    <tr>\n",
       "      <th>4</th>\n",
       "      <td>9</td>\n",
       "      <td>0</td>\n",
       "      <td>0</td>\n",
       "      <td>0</td>\n",
       "      <td>0</td>\n",
       "      <td>0</td>\n",
       "      <td>0</td>\n",
       "      <td>0</td>\n",
       "      <td>0</td>\n",
       "      <td>0</td>\n",
       "      <td>...</td>\n",
       "      <td>0</td>\n",
       "      <td>0</td>\n",
       "      <td>0</td>\n",
       "      <td>0</td>\n",
       "      <td>0</td>\n",
       "      <td>0</td>\n",
       "      <td>0</td>\n",
       "      <td>0</td>\n",
       "      <td>0</td>\n",
       "      <td>0</td>\n",
       "    </tr>\n",
       "  </tbody>\n",
       "</table>\n",
       "<p>5 rows × 785 columns</p>\n",
       "</div>"
      ],
      "text/plain": [
       "   label  1x1  1x2  1x3  1x4  1x5  1x6  1x7  1x8  1x9  ...  28x19  28x20  \\\n",
       "0      5    0    0    0    0    0    0    0    0    0  ...      0      0   \n",
       "1      0    0    0    0    0    0    0    0    0    0  ...      0      0   \n",
       "2      4    0    0    0    0    0    0    0    0    0  ...      0      0   \n",
       "3      1    0    0    0    0    0    0    0    0    0  ...      0      0   \n",
       "4      9    0    0    0    0    0    0    0    0    0  ...      0      0   \n",
       "\n",
       "   28x21  28x22  28x23  28x24  28x25  28x26  28x27  28x28  \n",
       "0      0      0      0      0      0      0      0      0  \n",
       "1      0      0      0      0      0      0      0      0  \n",
       "2      0      0      0      0      0      0      0      0  \n",
       "3      0      0      0      0      0      0      0      0  \n",
       "4      0      0      0      0      0      0      0      0  \n",
       "\n",
       "[5 rows x 785 columns]"
      ]
     },
     "execution_count": 4,
     "metadata": {},
     "output_type": "execute_result"
    }
   ],
   "source": [
    "df.head()"
   ]
  },
  {
   "cell_type": "code",
   "execution_count": 5,
   "id": "840a9e3e-60e0-4d69-9b06-9b9e8f3b696b",
   "metadata": {},
   "outputs": [
    {
     "name": "stdout",
     "output_type": "stream",
     "text": [
      "(70000,)\n",
      "(70000, 28, 28)\n"
     ]
    }
   ],
   "source": [
    "y = df['label'].values \n",
    "print(y.shape)\n",
    "#x = df.loc[:, df.columns != 'label']\n",
    "\n",
    "x = df.drop('label', axis=1).values.reshape(-1, 28, 28)\n",
    "print(x.shape)"
   ]
  },
  {
   "cell_type": "code",
   "execution_count": 6,
   "id": "69c2b2a2-2d21-42c8-9677-e196b2e48b8f",
   "metadata": {},
   "outputs": [],
   "source": [
    "x_train, x_test, y_train, y_test = train_test_split(x, y, test_size=0.3)"
   ]
  },
  {
   "cell_type": "code",
   "execution_count": 7,
   "id": "a148d21f-ba38-47eb-b207-4018cc9121f1",
   "metadata": {},
   "outputs": [
    {
     "name": "stdout",
     "output_type": "stream",
     "text": [
      "(49000, 28, 28) (49000,)\n",
      "(21000, 28, 28) (21000,)\n"
     ]
    }
   ],
   "source": [
    "print(x_train.shape, y_train.shape)\n",
    "print(x_test.shape, y_test.shape)"
   ]
  },
  {
   "cell_type": "code",
   "execution_count": 8,
   "id": "24a07519-bc25-487c-aca9-5b4e1d94a34e",
   "metadata": {},
   "outputs": [
    {
     "data": {
      "image/png": "[encoded data removed]",
      "text/plain": [
       "<Figure size 2000x2000 with 10 Axes>"
      ]
     },
     "metadata": {},
     "output_type": "display_data"
    }
   ],
   "source": [
    "plt.figure(figsize=(20,20))\n",
    "\n",
    "for digit in range(0,10):\n",
    "    i = np.where(y==digit)[0]\n",
    "    r = np.random.choice(i)\n",
    "    plt.subplot(2,5, digit+1)\n",
    "    plt.imshow(x[r], cmap='gray')\n",
    "    plt.title(f'Label: {digit}')\n",
    "plt.tight_layout()\n",
    "plt.show()"
   ]
  },
  {
   "cell_type": "code",
   "execution_count": 9,
   "id": "282c5965-2ef7-4a37-86d4-f362850f6fa5",
   "metadata": {},
   "outputs": [
    {
     "data": {
      "text/plain": [
       "(49000,)"
      ]
     },
     "execution_count": 9,
     "metadata": {},
     "output_type": "execute_result"
    }
   ],
   "source": [
    "y_train.shape"
   ]
  },
  {
   "cell_type": "code",
   "execution_count": 10,
   "id": "c6c45bcc-d907-4447-b215-370d526bcc54",
   "metadata": {},
   "outputs": [
    {
     "name": "stdout",
     "output_type": "stream",
     "text": [
      "[1. 0. 0. 0. 0. 0. 0. 0. 0. 0.]\n",
      "[0. 0. 0. 0. 1. 0. 0. 0. 0. 0.]\n",
      "[0. 0. 0. 0. 0. 0. 1. 0. 0. 0.]\n",
      "[0. 1. 0. 0. 0. 0. 0. 0. 0. 0.]\n",
      "[0. 0. 0. 0. 0. 1. 0. 0. 0. 0.]\n",
      "[0. 0. 0. 1. 0. 0. 0. 0. 0. 0.]\n",
      "[0. 0. 0. 0. 0. 0. 0. 0. 1. 0.]\n",
      "[0. 0. 1. 0. 0. 0. 0. 0. 0. 0.]\n",
      "[0. 0. 1. 0. 0. 0. 0. 0. 0. 0.]\n",
      "[0. 0. 0. 0. 1. 0. 0. 0. 0. 0.]\n"
     ]
    }
   ],
   "source": [
    "#to convert each digit into a 1d vector\n",
    "d = 10\n",
    "y_train = keras.utils.to_categorical(y_train, d)\n",
    "y_test = keras.utils.to_categorical(y_test, d)\n",
    "\n",
    "for i in range(10):\n",
    "    print(y_train[i])"
   ]
  },
  {
   "cell_type": "code",
   "execution_count": 11,
   "id": "de0b81a9-479c-4f10-b6ac-b9f107494c2c",
   "metadata": {},
   "outputs": [],
   "source": [
    "###lmaoaooaoao (49000, 10, 10, 10, 10) HOW THE HELLY"
   ]
  },
  {
   "cell_type": "code",
   "execution_count": 12,
   "id": "a7df37b5-b402-4141-b4ae-c87463a2e811",
   "metadata": {},
   "outputs": [
    {
     "name": "stdout",
     "output_type": "stream",
     "text": [
      "(49000, 28, 28)\n",
      "(21000, 28, 28)\n"
     ]
    }
   ],
   "source": [
    "#time for normalisation\n",
    "\n",
    "x_train = x_train/255.5\n",
    "x_test = x_test/255.5\n",
    "\n",
    "print(x_train.shape)\n",
    "print(x_test.shape)"
   ]
  },
  {
   "cell_type": "code",
   "execution_count": 13,
   "id": "6c86b2d8-5e60-4c64-a978-64fbb59ad17c",
   "metadata": {},
   "outputs": [
    {
     "name": "stdout",
     "output_type": "stream",
     "text": [
      "(49000, 784)\n",
      "(21000, 784)\n"
     ]
    }
   ],
   "source": [
    "#28, 28 nadaaa we need 784, so flatten!!!!!!!\n",
    "#trallalero = x_train\n",
    "#trallala = x_test\n",
    "\n",
    "x_train = x_train.reshape(x_train.shape[0],-1)\n",
    "x_test = x_test.reshape(x_test.shape[0],-1)\n",
    "\n",
    "print(x_train.shape)\n",
    "print(x_test.shape)"
   ]
  },
  {
   "cell_type": "code",
   "execution_count": 14,
   "id": "e67588e1-d643-494d-a359-b952e6fbc79c",
   "metadata": {},
   "outputs": [],
   "source": [
    "#it's modelling time babyyyyy\n",
    "#used all 3 for learning. will keep only one later"
   ]
  },
  {
   "cell_type": "code",
   "execution_count": 15,
   "id": "c1941412-5b42-45c4-a749-f3432a01a8b6",
   "metadata": {},
   "outputs": [
    {
     "name": "stdout",
     "output_type": "stream",
     "text": [
      "activation: relu\n"
     ]
    },
    {
     "name": "stderr",
     "output_type": "stream",
     "text": [
      "c:\\Users\\Dell\\anaconda3\\Lib\\site-packages\\keras\\src\\layers\\core\\dense.py:93: UserWarning: Do not pass an `input_shape`/`input_dim` argument to a layer. When using Sequential models, prefer using an `Input(shape)` object as the first layer in the model instead.\n",
      "  super().__init__(activity_regularizer=activity_regularizer, **kwargs)\n"
     ]
    },
    {
     "data": {
      "text/html": [
       "<pre style=\"white-space:pre;overflow-x:auto;line-height:normal;font-family:Menlo,'DejaVu Sans Mono',consolas,'Courier New',monospace\"><span style=\"font-weight: bold\">Model: \"sequential\"</span>\n",
       "</pre>\n"
      ],
      "text/plain": [
       "\u001b[1mModel: \"sequential\"\u001b[0m\n"
      ]
     },
     "metadata": {},
     "output_type": "display_data"
    },
    {
     "data": {
      "text/html": [
       "<pre style=\"white-space:pre;overflow-x:auto;line-height:normal;font-family:Menlo,'DejaVu Sans Mono',consolas,'Courier New',monospace\">┏━━━━━━━━━━━━━━━━━━━━━━━━━━━━━━━━━┳━━━━━━━━━━━━━━━━━━━━━━━━┳━━━━━━━━━━━━━━━┓\n",
       "┃<span style=\"font-weight: bold\"> Layer (type)                    </span>┃<span style=\"font-weight: bold\"> Output Shape           </span>┃<span style=\"font-weight: bold\">       Param # </span>┃\n",
       "┡━━━━━━━━━━━━━━━━━━━━━━━━━━━━━━━━━╇━━━━━━━━━━━━━━━━━━━━━━━━╇━━━━━━━━━━━━━━━┩\n",
       "│ dense (<span style=\"color: #0087ff; text-decoration-color: #0087ff\">Dense</span>)                   │ (<span style=\"color: #00d7ff; text-decoration-color: #00d7ff\">None</span>, <span style=\"color: #00af00; text-decoration-color: #00af00\">784</span>)            │       <span style=\"color: #00af00; text-decoration-color: #00af00\">615,440</span> │\n",
       "├─────────────────────────────────┼────────────────────────┼───────────────┤\n",
       "│ dense_1 (<span style=\"color: #0087ff; text-decoration-color: #0087ff\">Dense</span>)                 │ (<span style=\"color: #00d7ff; text-decoration-color: #00d7ff\">None</span>, <span style=\"color: #00af00; text-decoration-color: #00af00\">100</span>)            │        <span style=\"color: #00af00; text-decoration-color: #00af00\">78,500</span> │\n",
       "├─────────────────────────────────┼────────────────────────┼───────────────┤\n",
       "│ dense_2 (<span style=\"color: #0087ff; text-decoration-color: #0087ff\">Dense</span>)                 │ (<span style=\"color: #00d7ff; text-decoration-color: #00d7ff\">None</span>, <span style=\"color: #00af00; text-decoration-color: #00af00\">100</span>)            │        <span style=\"color: #00af00; text-decoration-color: #00af00\">10,100</span> │\n",
       "├─────────────────────────────────┼────────────────────────┼───────────────┤\n",
       "│ dense_3 (<span style=\"color: #0087ff; text-decoration-color: #0087ff\">Dense</span>)                 │ (<span style=\"color: #00d7ff; text-decoration-color: #00d7ff\">None</span>, <span style=\"color: #00af00; text-decoration-color: #00af00\">10</span>)             │         <span style=\"color: #00af00; text-decoration-color: #00af00\">1,010</span> │\n",
       "└─────────────────────────────────┴────────────────────────┴───────────────┘\n",
       "</pre>\n"
      ],
      "text/plain": [
       "┏━━━━━━━━━━━━━━━━━━━━━━━━━━━━━━━━━┳━━━━━━━━━━━━━━━━━━━━━━━━┳━━━━━━━━━━━━━━━┓\n",
       "┃\u001b[1m \u001b[0m\u001b[1mLayer (type)                   \u001b[0m\u001b[1m \u001b[0m┃\u001b[1m \u001b[0m\u001b[1mOutput Shape          \u001b[0m\u001b[1m \u001b[0m┃\u001b[1m \u001b[0m\u001b[1m      Param #\u001b[0m\u001b[1m \u001b[0m┃\n",
       "┡━━━━━━━━━━━━━━━━━━━━━━━━━━━━━━━━━╇━━━━━━━━━━━━━━━━━━━━━━━━╇━━━━━━━━━━━━━━━┩\n",
       "│ dense (\u001b[38;5;33mDense\u001b[0m)                   │ (\u001b[38;5;45mNone\u001b[0m, \u001b[38;5;34m784\u001b[0m)            │       \u001b[38;5;34m615,440\u001b[0m │\n",
       "├─────────────────────────────────┼────────────────────────┼───────────────┤\n",
       "│ dense_1 (\u001b[38;5;33mDense\u001b[0m)                 │ (\u001b[38;5;45mNone\u001b[0m, \u001b[38;5;34m100\u001b[0m)            │        \u001b[38;5;34m78,500\u001b[0m │\n",
       "├─────────────────────────────────┼────────────────────────┼───────────────┤\n",
       "│ dense_2 (\u001b[38;5;33mDense\u001b[0m)                 │ (\u001b[38;5;45mNone\u001b[0m, \u001b[38;5;34m100\u001b[0m)            │        \u001b[38;5;34m10,100\u001b[0m │\n",
       "├─────────────────────────────────┼────────────────────────┼───────────────┤\n",
       "│ dense_3 (\u001b[38;5;33mDense\u001b[0m)                 │ (\u001b[38;5;45mNone\u001b[0m, \u001b[38;5;34m10\u001b[0m)             │         \u001b[38;5;34m1,010\u001b[0m │\n",
       "└─────────────────────────────────┴────────────────────────┴───────────────┘\n"
      ]
     },
     "metadata": {},
     "output_type": "display_data"
    },
    {
     "data": {
      "text/html": [
       "<pre style=\"white-space:pre;overflow-x:auto;line-height:normal;font-family:Menlo,'DejaVu Sans Mono',consolas,'Courier New',monospace\"><span style=\"font-weight: bold\"> Total params: </span><span style=\"color: #00af00; text-decoration-color: #00af00\">705,050</span> (2.69 MB)\n",
       "</pre>\n"
      ],
      "text/plain": [
       "\u001b[1m Total params: \u001b[0m\u001b[38;5;34m705,050\u001b[0m (2.69 MB)\n"
      ]
     },
     "metadata": {},
     "output_type": "display_data"
    },
    {
     "data": {
      "text/html": [
       "<pre style=\"white-space:pre;overflow-x:auto;line-height:normal;font-family:Menlo,'DejaVu Sans Mono',consolas,'Courier New',monospace\"><span style=\"font-weight: bold\"> Trainable params: </span><span style=\"color: #00af00; text-decoration-color: #00af00\">705,050</span> (2.69 MB)\n",
       "</pre>\n"
      ],
      "text/plain": [
       "\u001b[1m Trainable params: \u001b[0m\u001b[38;5;34m705,050\u001b[0m (2.69 MB)\n"
      ]
     },
     "metadata": {},
     "output_type": "display_data"
    },
    {
     "data": {
      "text/html": [
       "<pre style=\"white-space:pre;overflow-x:auto;line-height:normal;font-family:Menlo,'DejaVu Sans Mono',consolas,'Courier New',monospace\"><span style=\"font-weight: bold\"> Non-trainable params: </span><span style=\"color: #00af00; text-decoration-color: #00af00\">0</span> (0.00 B)\n",
       "</pre>\n"
      ],
      "text/plain": [
       "\u001b[1m Non-trainable params: \u001b[0m\u001b[38;5;34m0\u001b[0m (0.00 B)\n"
      ]
     },
     "metadata": {},
     "output_type": "display_data"
    },
    {
     "name": "stdout",
     "output_type": "stream",
     "text": [
      "\n",
      "activation: relu\n"
     ]
    },
    {
     "data": {
      "text/html": [
       "<pre style=\"white-space:pre;overflow-x:auto;line-height:normal;font-family:Menlo,'DejaVu Sans Mono',consolas,'Courier New',monospace\"><span style=\"font-weight: bold\">Model: \"sequential_1\"</span>\n",
       "</pre>\n"
      ],
      "text/plain": [
       "\u001b[1mModel: \"sequential_1\"\u001b[0m\n"
      ]
     },
     "metadata": {},
     "output_type": "display_data"
    },
    {
     "data": {
      "text/html": [
       "<pre style=\"white-space:pre;overflow-x:auto;line-height:normal;font-family:Menlo,'DejaVu Sans Mono',consolas,'Courier New',monospace\">┏━━━━━━━━━━━━━━━━━━━━━━━━━━━━━━━━━┳━━━━━━━━━━━━━━━━━━━━━━━━┳━━━━━━━━━━━━━━━┓\n",
       "┃<span style=\"font-weight: bold\"> Layer (type)                    </span>┃<span style=\"font-weight: bold\"> Output Shape           </span>┃<span style=\"font-weight: bold\">       Param # </span>┃\n",
       "┡━━━━━━━━━━━━━━━━━━━━━━━━━━━━━━━━━╇━━━━━━━━━━━━━━━━━━━━━━━━╇━━━━━━━━━━━━━━━┩\n",
       "│ dense_4 (<span style=\"color: #0087ff; text-decoration-color: #0087ff\">Dense</span>)                 │ (<span style=\"color: #00d7ff; text-decoration-color: #00d7ff\">None</span>, <span style=\"color: #00af00; text-decoration-color: #00af00\">784</span>)            │       <span style=\"color: #00af00; text-decoration-color: #00af00\">615,440</span> │\n",
       "├─────────────────────────────────┼────────────────────────┼───────────────┤\n",
       "│ dense_5 (<span style=\"color: #0087ff; text-decoration-color: #0087ff\">Dense</span>)                 │ (<span style=\"color: #00d7ff; text-decoration-color: #00d7ff\">None</span>, <span style=\"color: #00af00; text-decoration-color: #00af00\">150</span>)            │       <span style=\"color: #00af00; text-decoration-color: #00af00\">117,750</span> │\n",
       "├─────────────────────────────────┼────────────────────────┼───────────────┤\n",
       "│ dense_6 (<span style=\"color: #0087ff; text-decoration-color: #0087ff\">Dense</span>)                 │ (<span style=\"color: #00d7ff; text-decoration-color: #00d7ff\">None</span>, <span style=\"color: #00af00; text-decoration-color: #00af00\">150</span>)            │        <span style=\"color: #00af00; text-decoration-color: #00af00\">22,650</span> │\n",
       "├─────────────────────────────────┼────────────────────────┼───────────────┤\n",
       "│ dense_7 (<span style=\"color: #0087ff; text-decoration-color: #0087ff\">Dense</span>)                 │ (<span style=\"color: #00d7ff; text-decoration-color: #00d7ff\">None</span>, <span style=\"color: #00af00; text-decoration-color: #00af00\">150</span>)            │        <span style=\"color: #00af00; text-decoration-color: #00af00\">22,650</span> │\n",
       "├─────────────────────────────────┼────────────────────────┼───────────────┤\n",
       "│ dense_8 (<span style=\"color: #0087ff; text-decoration-color: #0087ff\">Dense</span>)                 │ (<span style=\"color: #00d7ff; text-decoration-color: #00d7ff\">None</span>, <span style=\"color: #00af00; text-decoration-color: #00af00\">10</span>)             │         <span style=\"color: #00af00; text-decoration-color: #00af00\">1,510</span> │\n",
       "└─────────────────────────────────┴────────────────────────┴───────────────┘\n",
       "</pre>\n"
      ],
      "text/plain": [
       "┏━━━━━━━━━━━━━━━━━━━━━━━━━━━━━━━━━┳━━━━━━━━━━━━━━━━━━━━━━━━┳━━━━━━━━━━━━━━━┓\n",
       "┃\u001b[1m \u001b[0m\u001b[1mLayer (type)                   \u001b[0m\u001b[1m \u001b[0m┃\u001b[1m \u001b[0m\u001b[1mOutput Shape          \u001b[0m\u001b[1m \u001b[0m┃\u001b[1m \u001b[0m\u001b[1m      Param #\u001b[0m\u001b[1m \u001b[0m┃\n",
       "┡━━━━━━━━━━━━━━━━━━━━━━━━━━━━━━━━━╇━━━━━━━━━━━━━━━━━━━━━━━━╇━━━━━━━━━━━━━━━┩\n",
       "│ dense_4 (\u001b[38;5;33mDense\u001b[0m)                 │ (\u001b[38;5;45mNone\u001b[0m, \u001b[38;5;34m784\u001b[0m)            │       \u001b[38;5;34m615,440\u001b[0m │\n",
       "├─────────────────────────────────┼────────────────────────┼───────────────┤\n",
       "│ dense_5 (\u001b[38;5;33mDense\u001b[0m)                 │ (\u001b[38;5;45mNone\u001b[0m, \u001b[38;5;34m150\u001b[0m)            │       \u001b[38;5;34m117,750\u001b[0m │\n",
       "├─────────────────────────────────┼────────────────────────┼───────────────┤\n",
       "│ dense_6 (\u001b[38;5;33mDense\u001b[0m)                 │ (\u001b[38;5;45mNone\u001b[0m, \u001b[38;5;34m150\u001b[0m)            │        \u001b[38;5;34m22,650\u001b[0m │\n",
       "├─────────────────────────────────┼────────────────────────┼───────────────┤\n",
       "│ dense_7 (\u001b[38;5;33mDense\u001b[0m)                 │ (\u001b[38;5;45mNone\u001b[0m, \u001b[38;5;34m150\u001b[0m)            │        \u001b[38;5;34m22,650\u001b[0m │\n",
       "├─────────────────────────────────┼────────────────────────┼───────────────┤\n",
       "│ dense_8 (\u001b[38;5;33mDense\u001b[0m)                 │ (\u001b[38;5;45mNone\u001b[0m, \u001b[38;5;34m10\u001b[0m)             │         \u001b[38;5;34m1,510\u001b[0m │\n",
       "└─────────────────────────────────┴────────────────────────┴───────────────┘\n"
      ]
     },
     "metadata": {},
     "output_type": "display_data"
    },
    {
     "data": {
      "text/html": [
       "<pre style=\"white-space:pre;overflow-x:auto;line-height:normal;font-family:Menlo,'DejaVu Sans Mono',consolas,'Courier New',monospace\"><span style=\"font-weight: bold\"> Total params: </span><span style=\"color: #00af00; text-decoration-color: #00af00\">780,000</span> (2.98 MB)\n",
       "</pre>\n"
      ],
      "text/plain": [
       "\u001b[1m Total params: \u001b[0m\u001b[38;5;34m780,000\u001b[0m (2.98 MB)\n"
      ]
     },
     "metadata": {},
     "output_type": "display_data"
    },
    {
     "data": {
      "text/html": [
       "<pre style=\"white-space:pre;overflow-x:auto;line-height:normal;font-family:Menlo,'DejaVu Sans Mono',consolas,'Courier New',monospace\"><span style=\"font-weight: bold\"> Trainable params: </span><span style=\"color: #00af00; text-decoration-color: #00af00\">780,000</span> (2.98 MB)\n",
       "</pre>\n"
      ],
      "text/plain": [
       "\u001b[1m Trainable params: \u001b[0m\u001b[38;5;34m780,000\u001b[0m (2.98 MB)\n"
      ]
     },
     "metadata": {},
     "output_type": "display_data"
    },
    {
     "data": {
      "text/html": [
       "<pre style=\"white-space:pre;overflow-x:auto;line-height:normal;font-family:Menlo,'DejaVu Sans Mono',consolas,'Courier New',monospace\"><span style=\"font-weight: bold\"> Non-trainable params: </span><span style=\"color: #00af00; text-decoration-color: #00af00\">0</span> (0.00 B)\n",
       "</pre>\n"
      ],
      "text/plain": [
       "\u001b[1m Non-trainable params: \u001b[0m\u001b[38;5;34m0\u001b[0m (0.00 B)\n"
      ]
     },
     "metadata": {},
     "output_type": "display_data"
    },
    {
     "name": "stdout",
     "output_type": "stream",
     "text": [
      "\n",
      "activation: sigmoid\n"
     ]
    },
    {
     "data": {
      "text/html": [
       "<pre style=\"white-space:pre;overflow-x:auto;line-height:normal;font-family:Menlo,'DejaVu Sans Mono',consolas,'Courier New',monospace\"><span style=\"font-weight: bold\">Model: \"sequential_2\"</span>\n",
       "</pre>\n"
      ],
      "text/plain": [
       "\u001b[1mModel: \"sequential_2\"\u001b[0m\n"
      ]
     },
     "metadata": {},
     "output_type": "display_data"
    },
    {
     "data": {
      "text/html": [
       "<pre style=\"white-space:pre;overflow-x:auto;line-height:normal;font-family:Menlo,'DejaVu Sans Mono',consolas,'Courier New',monospace\">┏━━━━━━━━━━━━━━━━━━━━━━━━━━━━━━━━━┳━━━━━━━━━━━━━━━━━━━━━━━━┳━━━━━━━━━━━━━━━┓\n",
       "┃<span style=\"font-weight: bold\"> Layer (type)                    </span>┃<span style=\"font-weight: bold\"> Output Shape           </span>┃<span style=\"font-weight: bold\">       Param # </span>┃\n",
       "┡━━━━━━━━━━━━━━━━━━━━━━━━━━━━━━━━━╇━━━━━━━━━━━━━━━━━━━━━━━━╇━━━━━━━━━━━━━━━┩\n",
       "│ dense_9 (<span style=\"color: #0087ff; text-decoration-color: #0087ff\">Dense</span>)                 │ (<span style=\"color: #00d7ff; text-decoration-color: #00d7ff\">None</span>, <span style=\"color: #00af00; text-decoration-color: #00af00\">784</span>)            │       <span style=\"color: #00af00; text-decoration-color: #00af00\">615,440</span> │\n",
       "├─────────────────────────────────┼────────────────────────┼───────────────┤\n",
       "│ dense_10 (<span style=\"color: #0087ff; text-decoration-color: #0087ff\">Dense</span>)                │ (<span style=\"color: #00d7ff; text-decoration-color: #00d7ff\">None</span>, <span style=\"color: #00af00; text-decoration-color: #00af00\">100</span>)            │        <span style=\"color: #00af00; text-decoration-color: #00af00\">78,500</span> │\n",
       "├─────────────────────────────────┼────────────────────────┼───────────────┤\n",
       "│ dense_11 (<span style=\"color: #0087ff; text-decoration-color: #0087ff\">Dense</span>)                │ (<span style=\"color: #00d7ff; text-decoration-color: #00d7ff\">None</span>, <span style=\"color: #00af00; text-decoration-color: #00af00\">100</span>)            │        <span style=\"color: #00af00; text-decoration-color: #00af00\">10,100</span> │\n",
       "├─────────────────────────────────┼────────────────────────┼───────────────┤\n",
       "│ dense_12 (<span style=\"color: #0087ff; text-decoration-color: #0087ff\">Dense</span>)                │ (<span style=\"color: #00d7ff; text-decoration-color: #00d7ff\">None</span>, <span style=\"color: #00af00; text-decoration-color: #00af00\">10</span>)             │         <span style=\"color: #00af00; text-decoration-color: #00af00\">1,010</span> │\n",
       "└─────────────────────────────────┴────────────────────────┴───────────────┘\n",
       "</pre>\n"
      ],
      "text/plain": [
       "┏━━━━━━━━━━━━━━━━━━━━━━━━━━━━━━━━━┳━━━━━━━━━━━━━━━━━━━━━━━━┳━━━━━━━━━━━━━━━┓\n",
       "┃\u001b[1m \u001b[0m\u001b[1mLayer (type)                   \u001b[0m\u001b[1m \u001b[0m┃\u001b[1m \u001b[0m\u001b[1mOutput Shape          \u001b[0m\u001b[1m \u001b[0m┃\u001b[1m \u001b[0m\u001b[1m      Param #\u001b[0m\u001b[1m \u001b[0m┃\n",
       "┡━━━━━━━━━━━━━━━━━━━━━━━━━━━━━━━━━╇━━━━━━━━━━━━━━━━━━━━━━━━╇━━━━━━━━━━━━━━━┩\n",
       "│ dense_9 (\u001b[38;5;33mDense\u001b[0m)                 │ (\u001b[38;5;45mNone\u001b[0m, \u001b[38;5;34m784\u001b[0m)            │       \u001b[38;5;34m615,440\u001b[0m │\n",
       "├─────────────────────────────────┼────────────────────────┼───────────────┤\n",
       "│ dense_10 (\u001b[38;5;33mDense\u001b[0m)                │ (\u001b[38;5;45mNone\u001b[0m, \u001b[38;5;34m100\u001b[0m)            │        \u001b[38;5;34m78,500\u001b[0m │\n",
       "├─────────────────────────────────┼────────────────────────┼───────────────┤\n",
       "│ dense_11 (\u001b[38;5;33mDense\u001b[0m)                │ (\u001b[38;5;45mNone\u001b[0m, \u001b[38;5;34m100\u001b[0m)            │        \u001b[38;5;34m10,100\u001b[0m │\n",
       "├─────────────────────────────────┼────────────────────────┼───────────────┤\n",
       "│ dense_12 (\u001b[38;5;33mDense\u001b[0m)                │ (\u001b[38;5;45mNone\u001b[0m, \u001b[38;5;34m10\u001b[0m)             │         \u001b[38;5;34m1,010\u001b[0m │\n",
       "└─────────────────────────────────┴────────────────────────┴───────────────┘\n"
      ]
     },
     "metadata": {},
     "output_type": "display_data"
    },
    {
     "data": {
      "text/html": [
       "<pre style=\"white-space:pre;overflow-x:auto;line-height:normal;font-family:Menlo,'DejaVu Sans Mono',consolas,'Courier New',monospace\"><span style=\"font-weight: bold\"> Total params: </span><span style=\"color: #00af00; text-decoration-color: #00af00\">705,050</span> (2.69 MB)\n",
       "</pre>\n"
      ],
      "text/plain": [
       "\u001b[1m Total params: \u001b[0m\u001b[38;5;34m705,050\u001b[0m (2.69 MB)\n"
      ]
     },
     "metadata": {},
     "output_type": "display_data"
    },
    {
     "data": {
      "text/html": [
       "<pre style=\"white-space:pre;overflow-x:auto;line-height:normal;font-family:Menlo,'DejaVu Sans Mono',consolas,'Courier New',monospace\"><span style=\"font-weight: bold\"> Trainable params: </span><span style=\"color: #00af00; text-decoration-color: #00af00\">705,050</span> (2.69 MB)\n",
       "</pre>\n"
      ],
      "text/plain": [
       "\u001b[1m Trainable params: \u001b[0m\u001b[38;5;34m705,050\u001b[0m (2.69 MB)\n"
      ]
     },
     "metadata": {},
     "output_type": "display_data"
    },
    {
     "data": {
      "text/html": [
       "<pre style=\"white-space:pre;overflow-x:auto;line-height:normal;font-family:Menlo,'DejaVu Sans Mono',consolas,'Courier New',monospace\"><span style=\"font-weight: bold\"> Non-trainable params: </span><span style=\"color: #00af00; text-decoration-color: #00af00\">0</span> (0.00 B)\n",
       "</pre>\n"
      ],
      "text/plain": [
       "\u001b[1m Non-trainable params: \u001b[0m\u001b[38;5;34m0\u001b[0m (0.00 B)\n"
      ]
     },
     "metadata": {},
     "output_type": "display_data"
    },
    {
     "name": "stdout",
     "output_type": "stream",
     "text": [
      "\n",
      "activation: sigmoid\n"
     ]
    },
    {
     "data": {
      "text/html": [
       "<pre style=\"white-space:pre;overflow-x:auto;line-height:normal;font-family:Menlo,'DejaVu Sans Mono',consolas,'Courier New',monospace\"><span style=\"font-weight: bold\">Model: \"sequential_3\"</span>\n",
       "</pre>\n"
      ],
      "text/plain": [
       "\u001b[1mModel: \"sequential_3\"\u001b[0m\n"
      ]
     },
     "metadata": {},
     "output_type": "display_data"
    },
    {
     "data": {
      "text/html": [
       "<pre style=\"white-space:pre;overflow-x:auto;line-height:normal;font-family:Menlo,'DejaVu Sans Mono',consolas,'Courier New',monospace\">┏━━━━━━━━━━━━━━━━━━━━━━━━━━━━━━━━━┳━━━━━━━━━━━━━━━━━━━━━━━━┳━━━━━━━━━━━━━━━┓\n",
       "┃<span style=\"font-weight: bold\"> Layer (type)                    </span>┃<span style=\"font-weight: bold\"> Output Shape           </span>┃<span style=\"font-weight: bold\">       Param # </span>┃\n",
       "┡━━━━━━━━━━━━━━━━━━━━━━━━━━━━━━━━━╇━━━━━━━━━━━━━━━━━━━━━━━━╇━━━━━━━━━━━━━━━┩\n",
       "│ dense_13 (<span style=\"color: #0087ff; text-decoration-color: #0087ff\">Dense</span>)                │ (<span style=\"color: #00d7ff; text-decoration-color: #00d7ff\">None</span>, <span style=\"color: #00af00; text-decoration-color: #00af00\">784</span>)            │       <span style=\"color: #00af00; text-decoration-color: #00af00\">615,440</span> │\n",
       "├─────────────────────────────────┼────────────────────────┼───────────────┤\n",
       "│ dense_14 (<span style=\"color: #0087ff; text-decoration-color: #0087ff\">Dense</span>)                │ (<span style=\"color: #00d7ff; text-decoration-color: #00d7ff\">None</span>, <span style=\"color: #00af00; text-decoration-color: #00af00\">150</span>)            │       <span style=\"color: #00af00; text-decoration-color: #00af00\">117,750</span> │\n",
       "├─────────────────────────────────┼────────────────────────┼───────────────┤\n",
       "│ dense_15 (<span style=\"color: #0087ff; text-decoration-color: #0087ff\">Dense</span>)                │ (<span style=\"color: #00d7ff; text-decoration-color: #00d7ff\">None</span>, <span style=\"color: #00af00; text-decoration-color: #00af00\">150</span>)            │        <span style=\"color: #00af00; text-decoration-color: #00af00\">22,650</span> │\n",
       "├─────────────────────────────────┼────────────────────────┼───────────────┤\n",
       "│ dense_16 (<span style=\"color: #0087ff; text-decoration-color: #0087ff\">Dense</span>)                │ (<span style=\"color: #00d7ff; text-decoration-color: #00d7ff\">None</span>, <span style=\"color: #00af00; text-decoration-color: #00af00\">150</span>)            │        <span style=\"color: #00af00; text-decoration-color: #00af00\">22,650</span> │\n",
       "├─────────────────────────────────┼────────────────────────┼───────────────┤\n",
       "│ dense_17 (<span style=\"color: #0087ff; text-decoration-color: #0087ff\">Dense</span>)                │ (<span style=\"color: #00d7ff; text-decoration-color: #00d7ff\">None</span>, <span style=\"color: #00af00; text-decoration-color: #00af00\">10</span>)             │         <span style=\"color: #00af00; text-decoration-color: #00af00\">1,510</span> │\n",
       "└─────────────────────────────────┴────────────────────────┴───────────────┘\n",
       "</pre>\n"
      ],
      "text/plain": [
       "┏━━━━━━━━━━━━━━━━━━━━━━━━━━━━━━━━━┳━━━━━━━━━━━━━━━━━━━━━━━━┳━━━━━━━━━━━━━━━┓\n",
       "┃\u001b[1m \u001b[0m\u001b[1mLayer (type)                   \u001b[0m\u001b[1m \u001b[0m┃\u001b[1m \u001b[0m\u001b[1mOutput Shape          \u001b[0m\u001b[1m \u001b[0m┃\u001b[1m \u001b[0m\u001b[1m      Param #\u001b[0m\u001b[1m \u001b[0m┃\n",
       "┡━━━━━━━━━━━━━━━━━━━━━━━━━━━━━━━━━╇━━━━━━━━━━━━━━━━━━━━━━━━╇━━━━━━━━━━━━━━━┩\n",
       "│ dense_13 (\u001b[38;5;33mDense\u001b[0m)                │ (\u001b[38;5;45mNone\u001b[0m, \u001b[38;5;34m784\u001b[0m)            │       \u001b[38;5;34m615,440\u001b[0m │\n",
       "├─────────────────────────────────┼────────────────────────┼───────────────┤\n",
       "│ dense_14 (\u001b[38;5;33mDense\u001b[0m)                │ (\u001b[38;5;45mNone\u001b[0m, \u001b[38;5;34m150\u001b[0m)            │       \u001b[38;5;34m117,750\u001b[0m │\n",
       "├─────────────────────────────────┼────────────────────────┼───────────────┤\n",
       "│ dense_15 (\u001b[38;5;33mDense\u001b[0m)                │ (\u001b[38;5;45mNone\u001b[0m, \u001b[38;5;34m150\u001b[0m)            │        \u001b[38;5;34m22,650\u001b[0m │\n",
       "├─────────────────────────────────┼────────────────────────┼───────────────┤\n",
       "│ dense_16 (\u001b[38;5;33mDense\u001b[0m)                │ (\u001b[38;5;45mNone\u001b[0m, \u001b[38;5;34m150\u001b[0m)            │        \u001b[38;5;34m22,650\u001b[0m │\n",
       "├─────────────────────────────────┼────────────────────────┼───────────────┤\n",
       "│ dense_17 (\u001b[38;5;33mDense\u001b[0m)                │ (\u001b[38;5;45mNone\u001b[0m, \u001b[38;5;34m10\u001b[0m)             │         \u001b[38;5;34m1,510\u001b[0m │\n",
       "└─────────────────────────────────┴────────────────────────┴───────────────┘\n"
      ]
     },
     "metadata": {},
     "output_type": "display_data"
    },
    {
     "data": {
      "text/html": [
       "<pre style=\"white-space:pre;overflow-x:auto;line-height:normal;font-family:Menlo,'DejaVu Sans Mono',consolas,'Courier New',monospace\"><span style=\"font-weight: bold\"> Total params: </span><span style=\"color: #00af00; text-decoration-color: #00af00\">780,000</span> (2.98 MB)\n",
       "</pre>\n"
      ],
      "text/plain": [
       "\u001b[1m Total params: \u001b[0m\u001b[38;5;34m780,000\u001b[0m (2.98 MB)\n"
      ]
     },
     "metadata": {},
     "output_type": "display_data"
    },
    {
     "data": {
      "text/html": [
       "<pre style=\"white-space:pre;overflow-x:auto;line-height:normal;font-family:Menlo,'DejaVu Sans Mono',consolas,'Courier New',monospace\"><span style=\"font-weight: bold\"> Trainable params: </span><span style=\"color: #00af00; text-decoration-color: #00af00\">780,000</span> (2.98 MB)\n",
       "</pre>\n"
      ],
      "text/plain": [
       "\u001b[1m Trainable params: \u001b[0m\u001b[38;5;34m780,000\u001b[0m (2.98 MB)\n"
      ]
     },
     "metadata": {},
     "output_type": "display_data"
    },
    {
     "data": {
      "text/html": [
       "<pre style=\"white-space:pre;overflow-x:auto;line-height:normal;font-family:Menlo,'DejaVu Sans Mono',consolas,'Courier New',monospace\"><span style=\"font-weight: bold\"> Non-trainable params: </span><span style=\"color: #00af00; text-decoration-color: #00af00\">0</span> (0.00 B)\n",
       "</pre>\n"
      ],
      "text/plain": [
       "\u001b[1m Non-trainable params: \u001b[0m\u001b[38;5;34m0\u001b[0m (0.00 B)\n"
      ]
     },
     "metadata": {},
     "output_type": "display_data"
    },
    {
     "name": "stdout",
     "output_type": "stream",
     "text": [
      "\n",
      "activation: tanh\n"
     ]
    },
    {
     "data": {
      "text/html": [
       "<pre style=\"white-space:pre;overflow-x:auto;line-height:normal;font-family:Menlo,'DejaVu Sans Mono',consolas,'Courier New',monospace\"><span style=\"font-weight: bold\">Model: \"sequential_4\"</span>\n",
       "</pre>\n"
      ],
      "text/plain": [
       "\u001b[1mModel: \"sequential_4\"\u001b[0m\n"
      ]
     },
     "metadata": {},
     "output_type": "display_data"
    },
    {
     "data": {
      "text/html": [
       "<pre style=\"white-space:pre;overflow-x:auto;line-height:normal;font-family:Menlo,'DejaVu Sans Mono',consolas,'Courier New',monospace\">┏━━━━━━━━━━━━━━━━━━━━━━━━━━━━━━━━━┳━━━━━━━━━━━━━━━━━━━━━━━━┳━━━━━━━━━━━━━━━┓\n",
       "┃<span style=\"font-weight: bold\"> Layer (type)                    </span>┃<span style=\"font-weight: bold\"> Output Shape           </span>┃<span style=\"font-weight: bold\">       Param # </span>┃\n",
       "┡━━━━━━━━━━━━━━━━━━━━━━━━━━━━━━━━━╇━━━━━━━━━━━━━━━━━━━━━━━━╇━━━━━━━━━━━━━━━┩\n",
       "│ dense_18 (<span style=\"color: #0087ff; text-decoration-color: #0087ff\">Dense</span>)                │ (<span style=\"color: #00d7ff; text-decoration-color: #00d7ff\">None</span>, <span style=\"color: #00af00; text-decoration-color: #00af00\">784</span>)            │       <span style=\"color: #00af00; text-decoration-color: #00af00\">615,440</span> │\n",
       "├─────────────────────────────────┼────────────────────────┼───────────────┤\n",
       "│ dense_19 (<span style=\"color: #0087ff; text-decoration-color: #0087ff\">Dense</span>)                │ (<span style=\"color: #00d7ff; text-decoration-color: #00d7ff\">None</span>, <span style=\"color: #00af00; text-decoration-color: #00af00\">100</span>)            │        <span style=\"color: #00af00; text-decoration-color: #00af00\">78,500</span> │\n",
       "├─────────────────────────────────┼────────────────────────┼───────────────┤\n",
       "│ dense_20 (<span style=\"color: #0087ff; text-decoration-color: #0087ff\">Dense</span>)                │ (<span style=\"color: #00d7ff; text-decoration-color: #00d7ff\">None</span>, <span style=\"color: #00af00; text-decoration-color: #00af00\">100</span>)            │        <span style=\"color: #00af00; text-decoration-color: #00af00\">10,100</span> │\n",
       "├─────────────────────────────────┼────────────────────────┼───────────────┤\n",
       "│ dense_21 (<span style=\"color: #0087ff; text-decoration-color: #0087ff\">Dense</span>)                │ (<span style=\"color: #00d7ff; text-decoration-color: #00d7ff\">None</span>, <span style=\"color: #00af00; text-decoration-color: #00af00\">10</span>)             │         <span style=\"color: #00af00; text-decoration-color: #00af00\">1,010</span> │\n",
       "└─────────────────────────────────┴────────────────────────┴───────────────┘\n",
       "</pre>\n"
      ],
      "text/plain": [
       "┏━━━━━━━━━━━━━━━━━━━━━━━━━━━━━━━━━┳━━━━━━━━━━━━━━━━━━━━━━━━┳━━━━━━━━━━━━━━━┓\n",
       "┃\u001b[1m \u001b[0m\u001b[1mLayer (type)                   \u001b[0m\u001b[1m \u001b[0m┃\u001b[1m \u001b[0m\u001b[1mOutput Shape          \u001b[0m\u001b[1m \u001b[0m┃\u001b[1m \u001b[0m\u001b[1m      Param #\u001b[0m\u001b[1m \u001b[0m┃\n",
       "┡━━━━━━━━━━━━━━━━━━━━━━━━━━━━━━━━━╇━━━━━━━━━━━━━━━━━━━━━━━━╇━━━━━━━━━━━━━━━┩\n",
       "│ dense_18 (\u001b[38;5;33mDense\u001b[0m)                │ (\u001b[38;5;45mNone\u001b[0m, \u001b[38;5;34m784\u001b[0m)            │       \u001b[38;5;34m615,440\u001b[0m │\n",
       "├─────────────────────────────────┼────────────────────────┼───────────────┤\n",
       "│ dense_19 (\u001b[38;5;33mDense\u001b[0m)                │ (\u001b[38;5;45mNone\u001b[0m, \u001b[38;5;34m100\u001b[0m)            │        \u001b[38;5;34m78,500\u001b[0m │\n",
       "├─────────────────────────────────┼────────────────────────┼───────────────┤\n",
       "│ dense_20 (\u001b[38;5;33mDense\u001b[0m)                │ (\u001b[38;5;45mNone\u001b[0m, \u001b[38;5;34m100\u001b[0m)            │        \u001b[38;5;34m10,100\u001b[0m │\n",
       "├─────────────────────────────────┼────────────────────────┼───────────────┤\n",
       "│ dense_21 (\u001b[38;5;33mDense\u001b[0m)                │ (\u001b[38;5;45mNone\u001b[0m, \u001b[38;5;34m10\u001b[0m)             │         \u001b[38;5;34m1,010\u001b[0m │\n",
       "└─────────────────────────────────┴────────────────────────┴───────────────┘\n"
      ]
     },
     "metadata": {},
     "output_type": "display_data"
    },
    {
     "data": {
      "text/html": [
       "<pre style=\"white-space:pre;overflow-x:auto;line-height:normal;font-family:Menlo,'DejaVu Sans Mono',consolas,'Courier New',monospace\"><span style=\"font-weight: bold\"> Total params: </span><span style=\"color: #00af00; text-decoration-color: #00af00\">705,050</span> (2.69 MB)\n",
       "</pre>\n"
      ],
      "text/plain": [
       "\u001b[1m Total params: \u001b[0m\u001b[38;5;34m705,050\u001b[0m (2.69 MB)\n"
      ]
     },
     "metadata": {},
     "output_type": "display_data"
    },
    {
     "data": {
      "text/html": [
       "<pre style=\"white-space:pre;overflow-x:auto;line-height:normal;font-family:Menlo,'DejaVu Sans Mono',consolas,'Courier New',monospace\"><span style=\"font-weight: bold\"> Trainable params: </span><span style=\"color: #00af00; text-decoration-color: #00af00\">705,050</span> (2.69 MB)\n",
       "</pre>\n"
      ],
      "text/plain": [
       "\u001b[1m Trainable params: \u001b[0m\u001b[38;5;34m705,050\u001b[0m (2.69 MB)\n"
      ]
     },
     "metadata": {},
     "output_type": "display_data"
    },
    {
     "data": {
      "text/html": [
       "<pre style=\"white-space:pre;overflow-x:auto;line-height:normal;font-family:Menlo,'DejaVu Sans Mono',consolas,'Courier New',monospace\"><span style=\"font-weight: bold\"> Non-trainable params: </span><span style=\"color: #00af00; text-decoration-color: #00af00\">0</span> (0.00 B)\n",
       "</pre>\n"
      ],
      "text/plain": [
       "\u001b[1m Non-trainable params: \u001b[0m\u001b[38;5;34m0\u001b[0m (0.00 B)\n"
      ]
     },
     "metadata": {},
     "output_type": "display_data"
    },
    {
     "name": "stdout",
     "output_type": "stream",
     "text": [
      "\n",
      "activation: tanh\n"
     ]
    },
    {
     "data": {
      "text/html": [
       "<pre style=\"white-space:pre;overflow-x:auto;line-height:normal;font-family:Menlo,'DejaVu Sans Mono',consolas,'Courier New',monospace\"><span style=\"font-weight: bold\">Model: \"sequential_5\"</span>\n",
       "</pre>\n"
      ],
      "text/plain": [
       "\u001b[1mModel: \"sequential_5\"\u001b[0m\n"
      ]
     },
     "metadata": {},
     "output_type": "display_data"
    },
    {
     "data": {
      "text/html": [
       "<pre style=\"white-space:pre;overflow-x:auto;line-height:normal;font-family:Menlo,'DejaVu Sans Mono',consolas,'Courier New',monospace\">┏━━━━━━━━━━━━━━━━━━━━━━━━━━━━━━━━━┳━━━━━━━━━━━━━━━━━━━━━━━━┳━━━━━━━━━━━━━━━┓\n",
       "┃<span style=\"font-weight: bold\"> Layer (type)                    </span>┃<span style=\"font-weight: bold\"> Output Shape           </span>┃<span style=\"font-weight: bold\">       Param # </span>┃\n",
       "┡━━━━━━━━━━━━━━━━━━━━━━━━━━━━━━━━━╇━━━━━━━━━━━━━━━━━━━━━━━━╇━━━━━━━━━━━━━━━┩\n",
       "│ dense_22 (<span style=\"color: #0087ff; text-decoration-color: #0087ff\">Dense</span>)                │ (<span style=\"color: #00d7ff; text-decoration-color: #00d7ff\">None</span>, <span style=\"color: #00af00; text-decoration-color: #00af00\">784</span>)            │       <span style=\"color: #00af00; text-decoration-color: #00af00\">615,440</span> │\n",
       "├─────────────────────────────────┼────────────────────────┼───────────────┤\n",
       "│ dense_23 (<span style=\"color: #0087ff; text-decoration-color: #0087ff\">Dense</span>)                │ (<span style=\"color: #00d7ff; text-decoration-color: #00d7ff\">None</span>, <span style=\"color: #00af00; text-decoration-color: #00af00\">150</span>)            │       <span style=\"color: #00af00; text-decoration-color: #00af00\">117,750</span> │\n",
       "├─────────────────────────────────┼────────────────────────┼───────────────┤\n",
       "│ dense_24 (<span style=\"color: #0087ff; text-decoration-color: #0087ff\">Dense</span>)                │ (<span style=\"color: #00d7ff; text-decoration-color: #00d7ff\">None</span>, <span style=\"color: #00af00; text-decoration-color: #00af00\">150</span>)            │        <span style=\"color: #00af00; text-decoration-color: #00af00\">22,650</span> │\n",
       "├─────────────────────────────────┼────────────────────────┼───────────────┤\n",
       "│ dense_25 (<span style=\"color: #0087ff; text-decoration-color: #0087ff\">Dense</span>)                │ (<span style=\"color: #00d7ff; text-decoration-color: #00d7ff\">None</span>, <span style=\"color: #00af00; text-decoration-color: #00af00\">150</span>)            │        <span style=\"color: #00af00; text-decoration-color: #00af00\">22,650</span> │\n",
       "├─────────────────────────────────┼────────────────────────┼───────────────┤\n",
       "│ dense_26 (<span style=\"color: #0087ff; text-decoration-color: #0087ff\">Dense</span>)                │ (<span style=\"color: #00d7ff; text-decoration-color: #00d7ff\">None</span>, <span style=\"color: #00af00; text-decoration-color: #00af00\">10</span>)             │         <span style=\"color: #00af00; text-decoration-color: #00af00\">1,510</span> │\n",
       "└─────────────────────────────────┴────────────────────────┴───────────────┘\n",
       "</pre>\n"
      ],
      "text/plain": [
       "┏━━━━━━━━━━━━━━━━━━━━━━━━━━━━━━━━━┳━━━━━━━━━━━━━━━━━━━━━━━━┳━━━━━━━━━━━━━━━┓\n",
       "┃\u001b[1m \u001b[0m\u001b[1mLayer (type)                   \u001b[0m\u001b[1m \u001b[0m┃\u001b[1m \u001b[0m\u001b[1mOutput Shape          \u001b[0m\u001b[1m \u001b[0m┃\u001b[1m \u001b[0m\u001b[1m      Param #\u001b[0m\u001b[1m \u001b[0m┃\n",
       "┡━━━━━━━━━━━━━━━━━━━━━━━━━━━━━━━━━╇━━━━━━━━━━━━━━━━━━━━━━━━╇━━━━━━━━━━━━━━━┩\n",
       "│ dense_22 (\u001b[38;5;33mDense\u001b[0m)                │ (\u001b[38;5;45mNone\u001b[0m, \u001b[38;5;34m784\u001b[0m)            │       \u001b[38;5;34m615,440\u001b[0m │\n",
       "├─────────────────────────────────┼────────────────────────┼───────────────┤\n",
       "│ dense_23 (\u001b[38;5;33mDense\u001b[0m)                │ (\u001b[38;5;45mNone\u001b[0m, \u001b[38;5;34m150\u001b[0m)            │       \u001b[38;5;34m117,750\u001b[0m │\n",
       "├─────────────────────────────────┼────────────────────────┼───────────────┤\n",
       "│ dense_24 (\u001b[38;5;33mDense\u001b[0m)                │ (\u001b[38;5;45mNone\u001b[0m, \u001b[38;5;34m150\u001b[0m)            │        \u001b[38;5;34m22,650\u001b[0m │\n",
       "├─────────────────────────────────┼────────────────────────┼───────────────┤\n",
       "│ dense_25 (\u001b[38;5;33mDense\u001b[0m)                │ (\u001b[38;5;45mNone\u001b[0m, \u001b[38;5;34m150\u001b[0m)            │        \u001b[38;5;34m22,650\u001b[0m │\n",
       "├─────────────────────────────────┼────────────────────────┼───────────────┤\n",
       "│ dense_26 (\u001b[38;5;33mDense\u001b[0m)                │ (\u001b[38;5;45mNone\u001b[0m, \u001b[38;5;34m10\u001b[0m)             │         \u001b[38;5;34m1,510\u001b[0m │\n",
       "└─────────────────────────────────┴────────────────────────┴───────────────┘\n"
      ]
     },
     "metadata": {},
     "output_type": "display_data"
    },
    {
     "data": {
      "text/html": [
       "<pre style=\"white-space:pre;overflow-x:auto;line-height:normal;font-family:Menlo,'DejaVu Sans Mono',consolas,'Courier New',monospace\"><span style=\"font-weight: bold\"> Total params: </span><span style=\"color: #00af00; text-decoration-color: #00af00\">780,000</span> (2.98 MB)\n",
       "</pre>\n"
      ],
      "text/plain": [
       "\u001b[1m Total params: \u001b[0m\u001b[38;5;34m780,000\u001b[0m (2.98 MB)\n"
      ]
     },
     "metadata": {},
     "output_type": "display_data"
    },
    {
     "data": {
      "text/html": [
       "<pre style=\"white-space:pre;overflow-x:auto;line-height:normal;font-family:Menlo,'DejaVu Sans Mono',consolas,'Courier New',monospace\"><span style=\"font-weight: bold\"> Trainable params: </span><span style=\"color: #00af00; text-decoration-color: #00af00\">780,000</span> (2.98 MB)\n",
       "</pre>\n"
      ],
      "text/plain": [
       "\u001b[1m Trainable params: \u001b[0m\u001b[38;5;34m780,000\u001b[0m (2.98 MB)\n"
      ]
     },
     "metadata": {},
     "output_type": "display_data"
    },
    {
     "data": {
      "text/html": [
       "<pre style=\"white-space:pre;overflow-x:auto;line-height:normal;font-family:Menlo,'DejaVu Sans Mono',consolas,'Courier New',monospace\"><span style=\"font-weight: bold\"> Non-trainable params: </span><span style=\"color: #00af00; text-decoration-color: #00af00\">0</span> (0.00 B)\n",
       "</pre>\n"
      ],
      "text/plain": [
       "\u001b[1m Non-trainable params: \u001b[0m\u001b[38;5;34m0\u001b[0m (0.00 B)\n"
      ]
     },
     "metadata": {},
     "output_type": "display_data"
    },
    {
     "name": "stdout",
     "output_type": "stream",
     "text": [
      "\n",
      "activation: relu\n"
     ]
    },
    {
     "data": {
      "text/html": [
       "<pre style=\"white-space:pre;overflow-x:auto;line-height:normal;font-family:Menlo,'DejaVu Sans Mono',consolas,'Courier New',monospace\"><span style=\"font-weight: bold\">Model: \"sequential_6\"</span>\n",
       "</pre>\n"
      ],
      "text/plain": [
       "\u001b[1mModel: \"sequential_6\"\u001b[0m\n"
      ]
     },
     "metadata": {},
     "output_type": "display_data"
    },
    {
     "data": {
      "text/html": [
       "<pre style=\"white-space:pre;overflow-x:auto;line-height:normal;font-family:Menlo,'DejaVu Sans Mono',consolas,'Courier New',monospace\">┏━━━━━━━━━━━━━━━━━━━━━━━━━━━━━━━━━┳━━━━━━━━━━━━━━━━━━━━━━━━┳━━━━━━━━━━━━━━━┓\n",
       "┃<span style=\"font-weight: bold\"> Layer (type)                    </span>┃<span style=\"font-weight: bold\"> Output Shape           </span>┃<span style=\"font-weight: bold\">       Param # </span>┃\n",
       "┡━━━━━━━━━━━━━━━━━━━━━━━━━━━━━━━━━╇━━━━━━━━━━━━━━━━━━━━━━━━╇━━━━━━━━━━━━━━━┩\n",
       "│ dense_27 (<span style=\"color: #0087ff; text-decoration-color: #0087ff\">Dense</span>)                │ (<span style=\"color: #00d7ff; text-decoration-color: #00d7ff\">None</span>, <span style=\"color: #00af00; text-decoration-color: #00af00\">784</span>)            │       <span style=\"color: #00af00; text-decoration-color: #00af00\">615,440</span> │\n",
       "├─────────────────────────────────┼────────────────────────┼───────────────┤\n",
       "│ dense_28 (<span style=\"color: #0087ff; text-decoration-color: #0087ff\">Dense</span>)                │ (<span style=\"color: #00d7ff; text-decoration-color: #00d7ff\">None</span>, <span style=\"color: #00af00; text-decoration-color: #00af00\">150</span>)            │       <span style=\"color: #00af00; text-decoration-color: #00af00\">117,750</span> │\n",
       "├─────────────────────────────────┼────────────────────────┼───────────────┤\n",
       "│ dense_29 (<span style=\"color: #0087ff; text-decoration-color: #0087ff\">Dense</span>)                │ (<span style=\"color: #00d7ff; text-decoration-color: #00d7ff\">None</span>, <span style=\"color: #00af00; text-decoration-color: #00af00\">150</span>)            │        <span style=\"color: #00af00; text-decoration-color: #00af00\">22,650</span> │\n",
       "├─────────────────────────────────┼────────────────────────┼───────────────┤\n",
       "│ dense_30 (<span style=\"color: #0087ff; text-decoration-color: #0087ff\">Dense</span>)                │ (<span style=\"color: #00d7ff; text-decoration-color: #00d7ff\">None</span>, <span style=\"color: #00af00; text-decoration-color: #00af00\">10</span>)             │         <span style=\"color: #00af00; text-decoration-color: #00af00\">1,510</span> │\n",
       "└─────────────────────────────────┴────────────────────────┴───────────────┘\n",
       "</pre>\n"
      ],
      "text/plain": [
       "┏━━━━━━━━━━━━━━━━━━━━━━━━━━━━━━━━━┳━━━━━━━━━━━━━━━━━━━━━━━━┳━━━━━━━━━━━━━━━┓\n",
       "┃\u001b[1m \u001b[0m\u001b[1mLayer (type)                   \u001b[0m\u001b[1m \u001b[0m┃\u001b[1m \u001b[0m\u001b[1mOutput Shape          \u001b[0m\u001b[1m \u001b[0m┃\u001b[1m \u001b[0m\u001b[1m      Param #\u001b[0m\u001b[1m \u001b[0m┃\n",
       "┡━━━━━━━━━━━━━━━━━━━━━━━━━━━━━━━━━╇━━━━━━━━━━━━━━━━━━━━━━━━╇━━━━━━━━━━━━━━━┩\n",
       "│ dense_27 (\u001b[38;5;33mDense\u001b[0m)                │ (\u001b[38;5;45mNone\u001b[0m, \u001b[38;5;34m784\u001b[0m)            │       \u001b[38;5;34m615,440\u001b[0m │\n",
       "├─────────────────────────────────┼────────────────────────┼───────────────┤\n",
       "│ dense_28 (\u001b[38;5;33mDense\u001b[0m)                │ (\u001b[38;5;45mNone\u001b[0m, \u001b[38;5;34m150\u001b[0m)            │       \u001b[38;5;34m117,750\u001b[0m │\n",
       "├─────────────────────────────────┼────────────────────────┼───────────────┤\n",
       "│ dense_29 (\u001b[38;5;33mDense\u001b[0m)                │ (\u001b[38;5;45mNone\u001b[0m, \u001b[38;5;34m150\u001b[0m)            │        \u001b[38;5;34m22,650\u001b[0m │\n",
       "├─────────────────────────────────┼────────────────────────┼───────────────┤\n",
       "│ dense_30 (\u001b[38;5;33mDense\u001b[0m)                │ (\u001b[38;5;45mNone\u001b[0m, \u001b[38;5;34m10\u001b[0m)             │         \u001b[38;5;34m1,510\u001b[0m │\n",
       "└─────────────────────────────────┴────────────────────────┴───────────────┘\n"
      ]
     },
     "metadata": {},
     "output_type": "display_data"
    },
    {
     "data": {
      "text/html": [
       "<pre style=\"white-space:pre;overflow-x:auto;line-height:normal;font-family:Menlo,'DejaVu Sans Mono',consolas,'Courier New',monospace\"><span style=\"font-weight: bold\"> Total params: </span><span style=\"color: #00af00; text-decoration-color: #00af00\">757,350</span> (2.89 MB)\n",
       "</pre>\n"
      ],
      "text/plain": [
       "\u001b[1m Total params: \u001b[0m\u001b[38;5;34m757,350\u001b[0m (2.89 MB)\n"
      ]
     },
     "metadata": {},
     "output_type": "display_data"
    },
    {
     "data": {
      "text/html": [
       "<pre style=\"white-space:pre;overflow-x:auto;line-height:normal;font-family:Menlo,'DejaVu Sans Mono',consolas,'Courier New',monospace\"><span style=\"font-weight: bold\"> Trainable params: </span><span style=\"color: #00af00; text-decoration-color: #00af00\">757,350</span> (2.89 MB)\n",
       "</pre>\n"
      ],
      "text/plain": [
       "\u001b[1m Trainable params: \u001b[0m\u001b[38;5;34m757,350\u001b[0m (2.89 MB)\n"
      ]
     },
     "metadata": {},
     "output_type": "display_data"
    },
    {
     "data": {
      "text/html": [
       "<pre style=\"white-space:pre;overflow-x:auto;line-height:normal;font-family:Menlo,'DejaVu Sans Mono',consolas,'Courier New',monospace\"><span style=\"font-weight: bold\"> Non-trainable params: </span><span style=\"color: #00af00; text-decoration-color: #00af00\">0</span> (0.00 B)\n",
       "</pre>\n"
      ],
      "text/plain": [
       "\u001b[1m Non-trainable params: \u001b[0m\u001b[38;5;34m0\u001b[0m (0.00 B)\n"
      ]
     },
     "metadata": {},
     "output_type": "display_data"
    },
    {
     "name": "stdout",
     "output_type": "stream",
     "text": [
      "\n",
      "activation: relu\n"
     ]
    },
    {
     "data": {
      "text/html": [
       "<pre style=\"white-space:pre;overflow-x:auto;line-height:normal;font-family:Menlo,'DejaVu Sans Mono',consolas,'Courier New',monospace\"><span style=\"font-weight: bold\">Model: \"sequential_7\"</span>\n",
       "</pre>\n"
      ],
      "text/plain": [
       "\u001b[1mModel: \"sequential_7\"\u001b[0m\n"
      ]
     },
     "metadata": {},
     "output_type": "display_data"
    },
    {
     "data": {
      "text/html": [
       "<pre style=\"white-space:pre;overflow-x:auto;line-height:normal;font-family:Menlo,'DejaVu Sans Mono',consolas,'Courier New',monospace\">┏━━━━━━━━━━━━━━━━━━━━━━━━━━━━━━━━━┳━━━━━━━━━━━━━━━━━━━━━━━━┳━━━━━━━━━━━━━━━┓\n",
       "┃<span style=\"font-weight: bold\"> Layer (type)                    </span>┃<span style=\"font-weight: bold\"> Output Shape           </span>┃<span style=\"font-weight: bold\">       Param # </span>┃\n",
       "┡━━━━━━━━━━━━━━━━━━━━━━━━━━━━━━━━━╇━━━━━━━━━━━━━━━━━━━━━━━━╇━━━━━━━━━━━━━━━┩\n",
       "│ dense_31 (<span style=\"color: #0087ff; text-decoration-color: #0087ff\">Dense</span>)                │ (<span style=\"color: #00d7ff; text-decoration-color: #00d7ff\">None</span>, <span style=\"color: #00af00; text-decoration-color: #00af00\">784</span>)            │       <span style=\"color: #00af00; text-decoration-color: #00af00\">615,440</span> │\n",
       "├─────────────────────────────────┼────────────────────────┼───────────────┤\n",
       "│ dense_32 (<span style=\"color: #0087ff; text-decoration-color: #0087ff\">Dense</span>)                │ (<span style=\"color: #00d7ff; text-decoration-color: #00d7ff\">None</span>, <span style=\"color: #00af00; text-decoration-color: #00af00\">100</span>)            │        <span style=\"color: #00af00; text-decoration-color: #00af00\">78,500</span> │\n",
       "├─────────────────────────────────┼────────────────────────┼───────────────┤\n",
       "│ dense_33 (<span style=\"color: #0087ff; text-decoration-color: #0087ff\">Dense</span>)                │ (<span style=\"color: #00d7ff; text-decoration-color: #00d7ff\">None</span>, <span style=\"color: #00af00; text-decoration-color: #00af00\">100</span>)            │        <span style=\"color: #00af00; text-decoration-color: #00af00\">10,100</span> │\n",
       "├─────────────────────────────────┼────────────────────────┼───────────────┤\n",
       "│ dense_34 (<span style=\"color: #0087ff; text-decoration-color: #0087ff\">Dense</span>)                │ (<span style=\"color: #00d7ff; text-decoration-color: #00d7ff\">None</span>, <span style=\"color: #00af00; text-decoration-color: #00af00\">100</span>)            │        <span style=\"color: #00af00; text-decoration-color: #00af00\">10,100</span> │\n",
       "├─────────────────────────────────┼────────────────────────┼───────────────┤\n",
       "│ dense_35 (<span style=\"color: #0087ff; text-decoration-color: #0087ff\">Dense</span>)                │ (<span style=\"color: #00d7ff; text-decoration-color: #00d7ff\">None</span>, <span style=\"color: #00af00; text-decoration-color: #00af00\">10</span>)             │         <span style=\"color: #00af00; text-decoration-color: #00af00\">1,010</span> │\n",
       "└─────────────────────────────────┴────────────────────────┴───────────────┘\n",
       "</pre>\n"
      ],
      "text/plain": [
       "┏━━━━━━━━━━━━━━━━━━━━━━━━━━━━━━━━━┳━━━━━━━━━━━━━━━━━━━━━━━━┳━━━━━━━━━━━━━━━┓\n",
       "┃\u001b[1m \u001b[0m\u001b[1mLayer (type)                   \u001b[0m\u001b[1m \u001b[0m┃\u001b[1m \u001b[0m\u001b[1mOutput Shape          \u001b[0m\u001b[1m \u001b[0m┃\u001b[1m \u001b[0m\u001b[1m      Param #\u001b[0m\u001b[1m \u001b[0m┃\n",
       "┡━━━━━━━━━━━━━━━━━━━━━━━━━━━━━━━━━╇━━━━━━━━━━━━━━━━━━━━━━━━╇━━━━━━━━━━━━━━━┩\n",
       "│ dense_31 (\u001b[38;5;33mDense\u001b[0m)                │ (\u001b[38;5;45mNone\u001b[0m, \u001b[38;5;34m784\u001b[0m)            │       \u001b[38;5;34m615,440\u001b[0m │\n",
       "├─────────────────────────────────┼────────────────────────┼───────────────┤\n",
       "│ dense_32 (\u001b[38;5;33mDense\u001b[0m)                │ (\u001b[38;5;45mNone\u001b[0m, \u001b[38;5;34m100\u001b[0m)            │        \u001b[38;5;34m78,500\u001b[0m │\n",
       "├─────────────────────────────────┼────────────────────────┼───────────────┤\n",
       "│ dense_33 (\u001b[38;5;33mDense\u001b[0m)                │ (\u001b[38;5;45mNone\u001b[0m, \u001b[38;5;34m100\u001b[0m)            │        \u001b[38;5;34m10,100\u001b[0m │\n",
       "├─────────────────────────────────┼────────────────────────┼───────────────┤\n",
       "│ dense_34 (\u001b[38;5;33mDense\u001b[0m)                │ (\u001b[38;5;45mNone\u001b[0m, \u001b[38;5;34m100\u001b[0m)            │        \u001b[38;5;34m10,100\u001b[0m │\n",
       "├─────────────────────────────────┼────────────────────────┼───────────────┤\n",
       "│ dense_35 (\u001b[38;5;33mDense\u001b[0m)                │ (\u001b[38;5;45mNone\u001b[0m, \u001b[38;5;34m10\u001b[0m)             │         \u001b[38;5;34m1,010\u001b[0m │\n",
       "└─────────────────────────────────┴────────────────────────┴───────────────┘\n"
      ]
     },
     "metadata": {},
     "output_type": "display_data"
    },
    {
     "data": {
      "text/html": [
       "<pre style=\"white-space:pre;overflow-x:auto;line-height:normal;font-family:Menlo,'DejaVu Sans Mono',consolas,'Courier New',monospace\"><span style=\"font-weight: bold\"> Total params: </span><span style=\"color: #00af00; text-decoration-color: #00af00\">715,150</span> (2.73 MB)\n",
       "</pre>\n"
      ],
      "text/plain": [
       "\u001b[1m Total params: \u001b[0m\u001b[38;5;34m715,150\u001b[0m (2.73 MB)\n"
      ]
     },
     "metadata": {},
     "output_type": "display_data"
    },
    {
     "data": {
      "text/html": [
       "<pre style=\"white-space:pre;overflow-x:auto;line-height:normal;font-family:Menlo,'DejaVu Sans Mono',consolas,'Courier New',monospace\"><span style=\"font-weight: bold\"> Trainable params: </span><span style=\"color: #00af00; text-decoration-color: #00af00\">715,150</span> (2.73 MB)\n",
       "</pre>\n"
      ],
      "text/plain": [
       "\u001b[1m Trainable params: \u001b[0m\u001b[38;5;34m715,150\u001b[0m (2.73 MB)\n"
      ]
     },
     "metadata": {},
     "output_type": "display_data"
    },
    {
     "data": {
      "text/html": [
       "<pre style=\"white-space:pre;overflow-x:auto;line-height:normal;font-family:Menlo,'DejaVu Sans Mono',consolas,'Courier New',monospace\"><span style=\"font-weight: bold\"> Non-trainable params: </span><span style=\"color: #00af00; text-decoration-color: #00af00\">0</span> (0.00 B)\n",
       "</pre>\n"
      ],
      "text/plain": [
       "\u001b[1m Non-trainable params: \u001b[0m\u001b[38;5;34m0\u001b[0m (0.00 B)\n"
      ]
     },
     "metadata": {},
     "output_type": "display_data"
    },
    {
     "name": "stdout",
     "output_type": "stream",
     "text": [
      "\n",
      "activation: sigmoid\n"
     ]
    },
    {
     "data": {
      "text/html": [
       "<pre style=\"white-space:pre;overflow-x:auto;line-height:normal;font-family:Menlo,'DejaVu Sans Mono',consolas,'Courier New',monospace\"><span style=\"font-weight: bold\">Model: \"sequential_8\"</span>\n",
       "</pre>\n"
      ],
      "text/plain": [
       "\u001b[1mModel: \"sequential_8\"\u001b[0m\n"
      ]
     },
     "metadata": {},
     "output_type": "display_data"
    },
    {
     "data": {
      "text/html": [
       "<pre style=\"white-space:pre;overflow-x:auto;line-height:normal;font-family:Menlo,'DejaVu Sans Mono',consolas,'Courier New',monospace\">┏━━━━━━━━━━━━━━━━━━━━━━━━━━━━━━━━━┳━━━━━━━━━━━━━━━━━━━━━━━━┳━━━━━━━━━━━━━━━┓\n",
       "┃<span style=\"font-weight: bold\"> Layer (type)                    </span>┃<span style=\"font-weight: bold\"> Output Shape           </span>┃<span style=\"font-weight: bold\">       Param # </span>┃\n",
       "┡━━━━━━━━━━━━━━━━━━━━━━━━━━━━━━━━━╇━━━━━━━━━━━━━━━━━━━━━━━━╇━━━━━━━━━━━━━━━┩\n",
       "│ dense_36 (<span style=\"color: #0087ff; text-decoration-color: #0087ff\">Dense</span>)                │ (<span style=\"color: #00d7ff; text-decoration-color: #00d7ff\">None</span>, <span style=\"color: #00af00; text-decoration-color: #00af00\">784</span>)            │       <span style=\"color: #00af00; text-decoration-color: #00af00\">615,440</span> │\n",
       "├─────────────────────────────────┼────────────────────────┼───────────────┤\n",
       "│ dense_37 (<span style=\"color: #0087ff; text-decoration-color: #0087ff\">Dense</span>)                │ (<span style=\"color: #00d7ff; text-decoration-color: #00d7ff\">None</span>, <span style=\"color: #00af00; text-decoration-color: #00af00\">150</span>)            │       <span style=\"color: #00af00; text-decoration-color: #00af00\">117,750</span> │\n",
       "├─────────────────────────────────┼────────────────────────┼───────────────┤\n",
       "│ dense_38 (<span style=\"color: #0087ff; text-decoration-color: #0087ff\">Dense</span>)                │ (<span style=\"color: #00d7ff; text-decoration-color: #00d7ff\">None</span>, <span style=\"color: #00af00; text-decoration-color: #00af00\">150</span>)            │        <span style=\"color: #00af00; text-decoration-color: #00af00\">22,650</span> │\n",
       "├─────────────────────────────────┼────────────────────────┼───────────────┤\n",
       "│ dense_39 (<span style=\"color: #0087ff; text-decoration-color: #0087ff\">Dense</span>)                │ (<span style=\"color: #00d7ff; text-decoration-color: #00d7ff\">None</span>, <span style=\"color: #00af00; text-decoration-color: #00af00\">10</span>)             │         <span style=\"color: #00af00; text-decoration-color: #00af00\">1,510</span> │\n",
       "└─────────────────────────────────┴────────────────────────┴───────────────┘\n",
       "</pre>\n"
      ],
      "text/plain": [
       "┏━━━━━━━━━━━━━━━━━━━━━━━━━━━━━━━━━┳━━━━━━━━━━━━━━━━━━━━━━━━┳━━━━━━━━━━━━━━━┓\n",
       "┃\u001b[1m \u001b[0m\u001b[1mLayer (type)                   \u001b[0m\u001b[1m \u001b[0m┃\u001b[1m \u001b[0m\u001b[1mOutput Shape          \u001b[0m\u001b[1m \u001b[0m┃\u001b[1m \u001b[0m\u001b[1m      Param #\u001b[0m\u001b[1m \u001b[0m┃\n",
       "┡━━━━━━━━━━━━━━━━━━━━━━━━━━━━━━━━━╇━━━━━━━━━━━━━━━━━━━━━━━━╇━━━━━━━━━━━━━━━┩\n",
       "│ dense_36 (\u001b[38;5;33mDense\u001b[0m)                │ (\u001b[38;5;45mNone\u001b[0m, \u001b[38;5;34m784\u001b[0m)            │       \u001b[38;5;34m615,440\u001b[0m │\n",
       "├─────────────────────────────────┼────────────────────────┼───────────────┤\n",
       "│ dense_37 (\u001b[38;5;33mDense\u001b[0m)                │ (\u001b[38;5;45mNone\u001b[0m, \u001b[38;5;34m150\u001b[0m)            │       \u001b[38;5;34m117,750\u001b[0m │\n",
       "├─────────────────────────────────┼────────────────────────┼───────────────┤\n",
       "│ dense_38 (\u001b[38;5;33mDense\u001b[0m)                │ (\u001b[38;5;45mNone\u001b[0m, \u001b[38;5;34m150\u001b[0m)            │        \u001b[38;5;34m22,650\u001b[0m │\n",
       "├─────────────────────────────────┼────────────────────────┼───────────────┤\n",
       "│ dense_39 (\u001b[38;5;33mDense\u001b[0m)                │ (\u001b[38;5;45mNone\u001b[0m, \u001b[38;5;34m10\u001b[0m)             │         \u001b[38;5;34m1,510\u001b[0m │\n",
       "└─────────────────────────────────┴────────────────────────┴───────────────┘\n"
      ]
     },
     "metadata": {},
     "output_type": "display_data"
    },
    {
     "data": {
      "text/html": [
       "<pre style=\"white-space:pre;overflow-x:auto;line-height:normal;font-family:Menlo,'DejaVu Sans Mono',consolas,'Courier New',monospace\"><span style=\"font-weight: bold\"> Total params: </span><span style=\"color: #00af00; text-decoration-color: #00af00\">757,350</span> (2.89 MB)\n",
       "</pre>\n"
      ],
      "text/plain": [
       "\u001b[1m Total params: \u001b[0m\u001b[38;5;34m757,350\u001b[0m (2.89 MB)\n"
      ]
     },
     "metadata": {},
     "output_type": "display_data"
    },
    {
     "data": {
      "text/html": [
       "<pre style=\"white-space:pre;overflow-x:auto;line-height:normal;font-family:Menlo,'DejaVu Sans Mono',consolas,'Courier New',monospace\"><span style=\"font-weight: bold\"> Trainable params: </span><span style=\"color: #00af00; text-decoration-color: #00af00\">757,350</span> (2.89 MB)\n",
       "</pre>\n"
      ],
      "text/plain": [
       "\u001b[1m Trainable params: \u001b[0m\u001b[38;5;34m757,350\u001b[0m (2.89 MB)\n"
      ]
     },
     "metadata": {},
     "output_type": "display_data"
    },
    {
     "data": {
      "text/html": [
       "<pre style=\"white-space:pre;overflow-x:auto;line-height:normal;font-family:Menlo,'DejaVu Sans Mono',consolas,'Courier New',monospace\"><span style=\"font-weight: bold\"> Non-trainable params: </span><span style=\"color: #00af00; text-decoration-color: #00af00\">0</span> (0.00 B)\n",
       "</pre>\n"
      ],
      "text/plain": [
       "\u001b[1m Non-trainable params: \u001b[0m\u001b[38;5;34m0\u001b[0m (0.00 B)\n"
      ]
     },
     "metadata": {},
     "output_type": "display_data"
    },
    {
     "name": "stdout",
     "output_type": "stream",
     "text": [
      "\n",
      "activation: sigmoid\n"
     ]
    },
    {
     "data": {
      "text/html": [
       "<pre style=\"white-space:pre;overflow-x:auto;line-height:normal;font-family:Menlo,'DejaVu Sans Mono',consolas,'Courier New',monospace\"><span style=\"font-weight: bold\">Model: \"sequential_9\"</span>\n",
       "</pre>\n"
      ],
      "text/plain": [
       "\u001b[1mModel: \"sequential_9\"\u001b[0m\n"
      ]
     },
     "metadata": {},
     "output_type": "display_data"
    },
    {
     "data": {
      "text/html": [
       "<pre style=\"white-space:pre;overflow-x:auto;line-height:normal;font-family:Menlo,'DejaVu Sans Mono',consolas,'Courier New',monospace\">┏━━━━━━━━━━━━━━━━━━━━━━━━━━━━━━━━━┳━━━━━━━━━━━━━━━━━━━━━━━━┳━━━━━━━━━━━━━━━┓\n",
       "┃<span style=\"font-weight: bold\"> Layer (type)                    </span>┃<span style=\"font-weight: bold\"> Output Shape           </span>┃<span style=\"font-weight: bold\">       Param # </span>┃\n",
       "┡━━━━━━━━━━━━━━━━━━━━━━━━━━━━━━━━━╇━━━━━━━━━━━━━━━━━━━━━━━━╇━━━━━━━━━━━━━━━┩\n",
       "│ dense_40 (<span style=\"color: #0087ff; text-decoration-color: #0087ff\">Dense</span>)                │ (<span style=\"color: #00d7ff; text-decoration-color: #00d7ff\">None</span>, <span style=\"color: #00af00; text-decoration-color: #00af00\">784</span>)            │       <span style=\"color: #00af00; text-decoration-color: #00af00\">615,440</span> │\n",
       "├─────────────────────────────────┼────────────────────────┼───────────────┤\n",
       "│ dense_41 (<span style=\"color: #0087ff; text-decoration-color: #0087ff\">Dense</span>)                │ (<span style=\"color: #00d7ff; text-decoration-color: #00d7ff\">None</span>, <span style=\"color: #00af00; text-decoration-color: #00af00\">100</span>)            │        <span style=\"color: #00af00; text-decoration-color: #00af00\">78,500</span> │\n",
       "├─────────────────────────────────┼────────────────────────┼───────────────┤\n",
       "│ dense_42 (<span style=\"color: #0087ff; text-decoration-color: #0087ff\">Dense</span>)                │ (<span style=\"color: #00d7ff; text-decoration-color: #00d7ff\">None</span>, <span style=\"color: #00af00; text-decoration-color: #00af00\">100</span>)            │        <span style=\"color: #00af00; text-decoration-color: #00af00\">10,100</span> │\n",
       "├─────────────────────────────────┼────────────────────────┼───────────────┤\n",
       "│ dense_43 (<span style=\"color: #0087ff; text-decoration-color: #0087ff\">Dense</span>)                │ (<span style=\"color: #00d7ff; text-decoration-color: #00d7ff\">None</span>, <span style=\"color: #00af00; text-decoration-color: #00af00\">100</span>)            │        <span style=\"color: #00af00; text-decoration-color: #00af00\">10,100</span> │\n",
       "├─────────────────────────────────┼────────────────────────┼───────────────┤\n",
       "│ dense_44 (<span style=\"color: #0087ff; text-decoration-color: #0087ff\">Dense</span>)                │ (<span style=\"color: #00d7ff; text-decoration-color: #00d7ff\">None</span>, <span style=\"color: #00af00; text-decoration-color: #00af00\">10</span>)             │         <span style=\"color: #00af00; text-decoration-color: #00af00\">1,010</span> │\n",
       "└─────────────────────────────────┴────────────────────────┴───────────────┘\n",
       "</pre>\n"
      ],
      "text/plain": [
       "┏━━━━━━━━━━━━━━━━━━━━━━━━━━━━━━━━━┳━━━━━━━━━━━━━━━━━━━━━━━━┳━━━━━━━━━━━━━━━┓\n",
       "┃\u001b[1m \u001b[0m\u001b[1mLayer (type)                   \u001b[0m\u001b[1m \u001b[0m┃\u001b[1m \u001b[0m\u001b[1mOutput Shape          \u001b[0m\u001b[1m \u001b[0m┃\u001b[1m \u001b[0m\u001b[1m      Param #\u001b[0m\u001b[1m \u001b[0m┃\n",
       "┡━━━━━━━━━━━━━━━━━━━━━━━━━━━━━━━━━╇━━━━━━━━━━━━━━━━━━━━━━━━╇━━━━━━━━━━━━━━━┩\n",
       "│ dense_40 (\u001b[38;5;33mDense\u001b[0m)                │ (\u001b[38;5;45mNone\u001b[0m, \u001b[38;5;34m784\u001b[0m)            │       \u001b[38;5;34m615,440\u001b[0m │\n",
       "├─────────────────────────────────┼────────────────────────┼───────────────┤\n",
       "│ dense_41 (\u001b[38;5;33mDense\u001b[0m)                │ (\u001b[38;5;45mNone\u001b[0m, \u001b[38;5;34m100\u001b[0m)            │        \u001b[38;5;34m78,500\u001b[0m │\n",
       "├─────────────────────────────────┼────────────────────────┼───────────────┤\n",
       "│ dense_42 (\u001b[38;5;33mDense\u001b[0m)                │ (\u001b[38;5;45mNone\u001b[0m, \u001b[38;5;34m100\u001b[0m)            │        \u001b[38;5;34m10,100\u001b[0m │\n",
       "├─────────────────────────────────┼────────────────────────┼───────────────┤\n",
       "│ dense_43 (\u001b[38;5;33mDense\u001b[0m)                │ (\u001b[38;5;45mNone\u001b[0m, \u001b[38;5;34m100\u001b[0m)            │        \u001b[38;5;34m10,100\u001b[0m │\n",
       "├─────────────────────────────────┼────────────────────────┼───────────────┤\n",
       "│ dense_44 (\u001b[38;5;33mDense\u001b[0m)                │ (\u001b[38;5;45mNone\u001b[0m, \u001b[38;5;34m10\u001b[0m)             │         \u001b[38;5;34m1,010\u001b[0m │\n",
       "└─────────────────────────────────┴────────────────────────┴───────────────┘\n"
      ]
     },
     "metadata": {},
     "output_type": "display_data"
    },
    {
     "data": {
      "text/html": [
       "<pre style=\"white-space:pre;overflow-x:auto;line-height:normal;font-family:Menlo,'DejaVu Sans Mono',consolas,'Courier New',monospace\"><span style=\"font-weight: bold\"> Total params: </span><span style=\"color: #00af00; text-decoration-color: #00af00\">715,150</span> (2.73 MB)\n",
       "</pre>\n"
      ],
      "text/plain": [
       "\u001b[1m Total params: \u001b[0m\u001b[38;5;34m715,150\u001b[0m (2.73 MB)\n"
      ]
     },
     "metadata": {},
     "output_type": "display_data"
    },
    {
     "data": {
      "text/html": [
       "<pre style=\"white-space:pre;overflow-x:auto;line-height:normal;font-family:Menlo,'DejaVu Sans Mono',consolas,'Courier New',monospace\"><span style=\"font-weight: bold\"> Trainable params: </span><span style=\"color: #00af00; text-decoration-color: #00af00\">715,150</span> (2.73 MB)\n",
       "</pre>\n"
      ],
      "text/plain": [
       "\u001b[1m Trainable params: \u001b[0m\u001b[38;5;34m715,150\u001b[0m (2.73 MB)\n"
      ]
     },
     "metadata": {},
     "output_type": "display_data"
    },
    {
     "data": {
      "text/html": [
       "<pre style=\"white-space:pre;overflow-x:auto;line-height:normal;font-family:Menlo,'DejaVu Sans Mono',consolas,'Courier New',monospace\"><span style=\"font-weight: bold\"> Non-trainable params: </span><span style=\"color: #00af00; text-decoration-color: #00af00\">0</span> (0.00 B)\n",
       "</pre>\n"
      ],
      "text/plain": [
       "\u001b[1m Non-trainable params: \u001b[0m\u001b[38;5;34m0\u001b[0m (0.00 B)\n"
      ]
     },
     "metadata": {},
     "output_type": "display_data"
    },
    {
     "name": "stdout",
     "output_type": "stream",
     "text": [
      "\n",
      "activation: tanh\n"
     ]
    },
    {
     "data": {
      "text/html": [
       "<pre style=\"white-space:pre;overflow-x:auto;line-height:normal;font-family:Menlo,'DejaVu Sans Mono',consolas,'Courier New',monospace\"><span style=\"font-weight: bold\">Model: \"sequential_10\"</span>\n",
       "</pre>\n"
      ],
      "text/plain": [
       "\u001b[1mModel: \"sequential_10\"\u001b[0m\n"
      ]
     },
     "metadata": {},
     "output_type": "display_data"
    },
    {
     "data": {
      "text/html": [
       "<pre style=\"white-space:pre;overflow-x:auto;line-height:normal;font-family:Menlo,'DejaVu Sans Mono',consolas,'Courier New',monospace\">┏━━━━━━━━━━━━━━━━━━━━━━━━━━━━━━━━━┳━━━━━━━━━━━━━━━━━━━━━━━━┳━━━━━━━━━━━━━━━┓\n",
       "┃<span style=\"font-weight: bold\"> Layer (type)                    </span>┃<span style=\"font-weight: bold\"> Output Shape           </span>┃<span style=\"font-weight: bold\">       Param # </span>┃\n",
       "┡━━━━━━━━━━━━━━━━━━━━━━━━━━━━━━━━━╇━━━━━━━━━━━━━━━━━━━━━━━━╇━━━━━━━━━━━━━━━┩\n",
       "│ dense_45 (<span style=\"color: #0087ff; text-decoration-color: #0087ff\">Dense</span>)                │ (<span style=\"color: #00d7ff; text-decoration-color: #00d7ff\">None</span>, <span style=\"color: #00af00; text-decoration-color: #00af00\">784</span>)            │       <span style=\"color: #00af00; text-decoration-color: #00af00\">615,440</span> │\n",
       "├─────────────────────────────────┼────────────────────────┼───────────────┤\n",
       "│ dense_46 (<span style=\"color: #0087ff; text-decoration-color: #0087ff\">Dense</span>)                │ (<span style=\"color: #00d7ff; text-decoration-color: #00d7ff\">None</span>, <span style=\"color: #00af00; text-decoration-color: #00af00\">150</span>)            │       <span style=\"color: #00af00; text-decoration-color: #00af00\">117,750</span> │\n",
       "├─────────────────────────────────┼────────────────────────┼───────────────┤\n",
       "│ dense_47 (<span style=\"color: #0087ff; text-decoration-color: #0087ff\">Dense</span>)                │ (<span style=\"color: #00d7ff; text-decoration-color: #00d7ff\">None</span>, <span style=\"color: #00af00; text-decoration-color: #00af00\">150</span>)            │        <span style=\"color: #00af00; text-decoration-color: #00af00\">22,650</span> │\n",
       "├─────────────────────────────────┼────────────────────────┼───────────────┤\n",
       "│ dense_48 (<span style=\"color: #0087ff; text-decoration-color: #0087ff\">Dense</span>)                │ (<span style=\"color: #00d7ff; text-decoration-color: #00d7ff\">None</span>, <span style=\"color: #00af00; text-decoration-color: #00af00\">10</span>)             │         <span style=\"color: #00af00; text-decoration-color: #00af00\">1,510</span> │\n",
       "└─────────────────────────────────┴────────────────────────┴───────────────┘\n",
       "</pre>\n"
      ],
      "text/plain": [
       "┏━━━━━━━━━━━━━━━━━━━━━━━━━━━━━━━━━┳━━━━━━━━━━━━━━━━━━━━━━━━┳━━━━━━━━━━━━━━━┓\n",
       "┃\u001b[1m \u001b[0m\u001b[1mLayer (type)                   \u001b[0m\u001b[1m \u001b[0m┃\u001b[1m \u001b[0m\u001b[1mOutput Shape          \u001b[0m\u001b[1m \u001b[0m┃\u001b[1m \u001b[0m\u001b[1m      Param #\u001b[0m\u001b[1m \u001b[0m┃\n",
       "┡━━━━━━━━━━━━━━━━━━━━━━━━━━━━━━━━━╇━━━━━━━━━━━━━━━━━━━━━━━━╇━━━━━━━━━━━━━━━┩\n",
       "│ dense_45 (\u001b[38;5;33mDense\u001b[0m)                │ (\u001b[38;5;45mNone\u001b[0m, \u001b[38;5;34m784\u001b[0m)            │       \u001b[38;5;34m615,440\u001b[0m │\n",
       "├─────────────────────────────────┼────────────────────────┼───────────────┤\n",
       "│ dense_46 (\u001b[38;5;33mDense\u001b[0m)                │ (\u001b[38;5;45mNone\u001b[0m, \u001b[38;5;34m150\u001b[0m)            │       \u001b[38;5;34m117,750\u001b[0m │\n",
       "├─────────────────────────────────┼────────────────────────┼───────────────┤\n",
       "│ dense_47 (\u001b[38;5;33mDense\u001b[0m)                │ (\u001b[38;5;45mNone\u001b[0m, \u001b[38;5;34m150\u001b[0m)            │        \u001b[38;5;34m22,650\u001b[0m │\n",
       "├─────────────────────────────────┼────────────────────────┼───────────────┤\n",
       "│ dense_48 (\u001b[38;5;33mDense\u001b[0m)                │ (\u001b[38;5;45mNone\u001b[0m, \u001b[38;5;34m10\u001b[0m)             │         \u001b[38;5;34m1,510\u001b[0m │\n",
       "└─────────────────────────────────┴────────────────────────┴───────────────┘\n"
      ]
     },
     "metadata": {},
     "output_type": "display_data"
    },
    {
     "data": {
      "text/html": [
       "<pre style=\"white-space:pre;overflow-x:auto;line-height:normal;font-family:Menlo,'DejaVu Sans Mono',consolas,'Courier New',monospace\"><span style=\"font-weight: bold\"> Total params: </span><span style=\"color: #00af00; text-decoration-color: #00af00\">757,350</span> (2.89 MB)\n",
       "</pre>\n"
      ],
      "text/plain": [
       "\u001b[1m Total params: \u001b[0m\u001b[38;5;34m757,350\u001b[0m (2.89 MB)\n"
      ]
     },
     "metadata": {},
     "output_type": "display_data"
    },
    {
     "data": {
      "text/html": [
       "<pre style=\"white-space:pre;overflow-x:auto;line-height:normal;font-family:Menlo,'DejaVu Sans Mono',consolas,'Courier New',monospace\"><span style=\"font-weight: bold\"> Trainable params: </span><span style=\"color: #00af00; text-decoration-color: #00af00\">757,350</span> (2.89 MB)\n",
       "</pre>\n"
      ],
      "text/plain": [
       "\u001b[1m Trainable params: \u001b[0m\u001b[38;5;34m757,350\u001b[0m (2.89 MB)\n"
      ]
     },
     "metadata": {},
     "output_type": "display_data"
    },
    {
     "data": {
      "text/html": [
       "<pre style=\"white-space:pre;overflow-x:auto;line-height:normal;font-family:Menlo,'DejaVu Sans Mono',consolas,'Courier New',monospace\"><span style=\"font-weight: bold\"> Non-trainable params: </span><span style=\"color: #00af00; text-decoration-color: #00af00\">0</span> (0.00 B)\n",
       "</pre>\n"
      ],
      "text/plain": [
       "\u001b[1m Non-trainable params: \u001b[0m\u001b[38;5;34m0\u001b[0m (0.00 B)\n"
      ]
     },
     "metadata": {},
     "output_type": "display_data"
    },
    {
     "name": "stdout",
     "output_type": "stream",
     "text": [
      "\n",
      "activation: tanh\n"
     ]
    },
    {
     "data": {
      "text/html": [
       "<pre style=\"white-space:pre;overflow-x:auto;line-height:normal;font-family:Menlo,'DejaVu Sans Mono',consolas,'Courier New',monospace\"><span style=\"font-weight: bold\">Model: \"sequential_11\"</span>\n",
       "</pre>\n"
      ],
      "text/plain": [
       "\u001b[1mModel: \"sequential_11\"\u001b[0m\n"
      ]
     },
     "metadata": {},
     "output_type": "display_data"
    },
    {
     "data": {
      "text/html": [
       "<pre style=\"white-space:pre;overflow-x:auto;line-height:normal;font-family:Menlo,'DejaVu Sans Mono',consolas,'Courier New',monospace\">┏━━━━━━━━━━━━━━━━━━━━━━━━━━━━━━━━━┳━━━━━━━━━━━━━━━━━━━━━━━━┳━━━━━━━━━━━━━━━┓\n",
       "┃<span style=\"font-weight: bold\"> Layer (type)                    </span>┃<span style=\"font-weight: bold\"> Output Shape           </span>┃<span style=\"font-weight: bold\">       Param # </span>┃\n",
       "┡━━━━━━━━━━━━━━━━━━━━━━━━━━━━━━━━━╇━━━━━━━━━━━━━━━━━━━━━━━━╇━━━━━━━━━━━━━━━┩\n",
       "│ dense_49 (<span style=\"color: #0087ff; text-decoration-color: #0087ff\">Dense</span>)                │ (<span style=\"color: #00d7ff; text-decoration-color: #00d7ff\">None</span>, <span style=\"color: #00af00; text-decoration-color: #00af00\">784</span>)            │       <span style=\"color: #00af00; text-decoration-color: #00af00\">615,440</span> │\n",
       "├─────────────────────────────────┼────────────────────────┼───────────────┤\n",
       "│ dense_50 (<span style=\"color: #0087ff; text-decoration-color: #0087ff\">Dense</span>)                │ (<span style=\"color: #00d7ff; text-decoration-color: #00d7ff\">None</span>, <span style=\"color: #00af00; text-decoration-color: #00af00\">100</span>)            │        <span style=\"color: #00af00; text-decoration-color: #00af00\">78,500</span> │\n",
       "├─────────────────────────────────┼────────────────────────┼───────────────┤\n",
       "│ dense_51 (<span style=\"color: #0087ff; text-decoration-color: #0087ff\">Dense</span>)                │ (<span style=\"color: #00d7ff; text-decoration-color: #00d7ff\">None</span>, <span style=\"color: #00af00; text-decoration-color: #00af00\">100</span>)            │        <span style=\"color: #00af00; text-decoration-color: #00af00\">10,100</span> │\n",
       "├─────────────────────────────────┼────────────────────────┼───────────────┤\n",
       "│ dense_52 (<span style=\"color: #0087ff; text-decoration-color: #0087ff\">Dense</span>)                │ (<span style=\"color: #00d7ff; text-decoration-color: #00d7ff\">None</span>, <span style=\"color: #00af00; text-decoration-color: #00af00\">100</span>)            │        <span style=\"color: #00af00; text-decoration-color: #00af00\">10,100</span> │\n",
       "├─────────────────────────────────┼────────────────────────┼───────────────┤\n",
       "│ dense_53 (<span style=\"color: #0087ff; text-decoration-color: #0087ff\">Dense</span>)                │ (<span style=\"color: #00d7ff; text-decoration-color: #00d7ff\">None</span>, <span style=\"color: #00af00; text-decoration-color: #00af00\">10</span>)             │         <span style=\"color: #00af00; text-decoration-color: #00af00\">1,010</span> │\n",
       "└─────────────────────────────────┴────────────────────────┴───────────────┘\n",
       "</pre>\n"
      ],
      "text/plain": [
       "┏━━━━━━━━━━━━━━━━━━━━━━━━━━━━━━━━━┳━━━━━━━━━━━━━━━━━━━━━━━━┳━━━━━━━━━━━━━━━┓\n",
       "┃\u001b[1m \u001b[0m\u001b[1mLayer (type)                   \u001b[0m\u001b[1m \u001b[0m┃\u001b[1m \u001b[0m\u001b[1mOutput Shape          \u001b[0m\u001b[1m \u001b[0m┃\u001b[1m \u001b[0m\u001b[1m      Param #\u001b[0m\u001b[1m \u001b[0m┃\n",
       "┡━━━━━━━━━━━━━━━━━━━━━━━━━━━━━━━━━╇━━━━━━━━━━━━━━━━━━━━━━━━╇━━━━━━━━━━━━━━━┩\n",
       "│ dense_49 (\u001b[38;5;33mDense\u001b[0m)                │ (\u001b[38;5;45mNone\u001b[0m, \u001b[38;5;34m784\u001b[0m)            │       \u001b[38;5;34m615,440\u001b[0m │\n",
       "├─────────────────────────────────┼────────────────────────┼───────────────┤\n",
       "│ dense_50 (\u001b[38;5;33mDense\u001b[0m)                │ (\u001b[38;5;45mNone\u001b[0m, \u001b[38;5;34m100\u001b[0m)            │        \u001b[38;5;34m78,500\u001b[0m │\n",
       "├─────────────────────────────────┼────────────────────────┼───────────────┤\n",
       "│ dense_51 (\u001b[38;5;33mDense\u001b[0m)                │ (\u001b[38;5;45mNone\u001b[0m, \u001b[38;5;34m100\u001b[0m)            │        \u001b[38;5;34m10,100\u001b[0m │\n",
       "├─────────────────────────────────┼────────────────────────┼───────────────┤\n",
       "│ dense_52 (\u001b[38;5;33mDense\u001b[0m)                │ (\u001b[38;5;45mNone\u001b[0m, \u001b[38;5;34m100\u001b[0m)            │        \u001b[38;5;34m10,100\u001b[0m │\n",
       "├─────────────────────────────────┼────────────────────────┼───────────────┤\n",
       "│ dense_53 (\u001b[38;5;33mDense\u001b[0m)                │ (\u001b[38;5;45mNone\u001b[0m, \u001b[38;5;34m10\u001b[0m)             │         \u001b[38;5;34m1,010\u001b[0m │\n",
       "└─────────────────────────────────┴────────────────────────┴───────────────┘\n"
      ]
     },
     "metadata": {},
     "output_type": "display_data"
    },
    {
     "data": {
      "text/html": [
       "<pre style=\"white-space:pre;overflow-x:auto;line-height:normal;font-family:Menlo,'DejaVu Sans Mono',consolas,'Courier New',monospace\"><span style=\"font-weight: bold\"> Total params: </span><span style=\"color: #00af00; text-decoration-color: #00af00\">715,150</span> (2.73 MB)\n",
       "</pre>\n"
      ],
      "text/plain": [
       "\u001b[1m Total params: \u001b[0m\u001b[38;5;34m715,150\u001b[0m (2.73 MB)\n"
      ]
     },
     "metadata": {},
     "output_type": "display_data"
    },
    {
     "data": {
      "text/html": [
       "<pre style=\"white-space:pre;overflow-x:auto;line-height:normal;font-family:Menlo,'DejaVu Sans Mono',consolas,'Courier New',monospace\"><span style=\"font-weight: bold\"> Trainable params: </span><span style=\"color: #00af00; text-decoration-color: #00af00\">715,150</span> (2.73 MB)\n",
       "</pre>\n"
      ],
      "text/plain": [
       "\u001b[1m Trainable params: \u001b[0m\u001b[38;5;34m715,150\u001b[0m (2.73 MB)\n"
      ]
     },
     "metadata": {},
     "output_type": "display_data"
    },
    {
     "data": {
      "text/html": [
       "<pre style=\"white-space:pre;overflow-x:auto;line-height:normal;font-family:Menlo,'DejaVu Sans Mono',consolas,'Courier New',monospace\"><span style=\"font-weight: bold\"> Non-trainable params: </span><span style=\"color: #00af00; text-decoration-color: #00af00\">0</span> (0.00 B)\n",
       "</pre>\n"
      ],
      "text/plain": [
       "\u001b[1m Non-trainable params: \u001b[0m\u001b[38;5;34m0\u001b[0m (0.00 B)\n"
      ]
     },
     "metadata": {},
     "output_type": "display_data"
    },
    {
     "name": "stdout",
     "output_type": "stream",
     "text": [
      "\n",
      "activation: sigmoid\n"
     ]
    },
    {
     "data": {
      "text/html": [
       "<pre style=\"white-space:pre;overflow-x:auto;line-height:normal;font-family:Menlo,'DejaVu Sans Mono',consolas,'Courier New',monospace\"><span style=\"font-weight: bold\">Model: \"sequential_12\"</span>\n",
       "</pre>\n"
      ],
      "text/plain": [
       "\u001b[1mModel: \"sequential_12\"\u001b[0m\n"
      ]
     },
     "metadata": {},
     "output_type": "display_data"
    },
    {
     "data": {
      "text/html": [
       "<pre style=\"white-space:pre;overflow-x:auto;line-height:normal;font-family:Menlo,'DejaVu Sans Mono',consolas,'Courier New',monospace\">┏━━━━━━━━━━━━━━━━━━━━━━━━━━━━━━━━━┳━━━━━━━━━━━━━━━━━━━━━━━━┳━━━━━━━━━━━━━━━┓\n",
       "┃<span style=\"font-weight: bold\"> Layer (type)                    </span>┃<span style=\"font-weight: bold\"> Output Shape           </span>┃<span style=\"font-weight: bold\">       Param # </span>┃\n",
       "┡━━━━━━━━━━━━━━━━━━━━━━━━━━━━━━━━━╇━━━━━━━━━━━━━━━━━━━━━━━━╇━━━━━━━━━━━━━━━┩\n",
       "│ dense_54 (<span style=\"color: #0087ff; text-decoration-color: #0087ff\">Dense</span>)                │ (<span style=\"color: #00d7ff; text-decoration-color: #00d7ff\">None</span>, <span style=\"color: #00af00; text-decoration-color: #00af00\">784</span>)            │       <span style=\"color: #00af00; text-decoration-color: #00af00\">615,440</span> │\n",
       "├─────────────────────────────────┼────────────────────────┼───────────────┤\n",
       "│ dense_55 (<span style=\"color: #0087ff; text-decoration-color: #0087ff\">Dense</span>)                │ (<span style=\"color: #00d7ff; text-decoration-color: #00d7ff\">None</span>, <span style=\"color: #00af00; text-decoration-color: #00af00\">117</span>)            │        <span style=\"color: #00af00; text-decoration-color: #00af00\">91,845</span> │\n",
       "├─────────────────────────────────┼────────────────────────┼───────────────┤\n",
       "│ dense_56 (<span style=\"color: #0087ff; text-decoration-color: #0087ff\">Dense</span>)                │ (<span style=\"color: #00d7ff; text-decoration-color: #00d7ff\">None</span>, <span style=\"color: #00af00; text-decoration-color: #00af00\">33</span>)             │         <span style=\"color: #00af00; text-decoration-color: #00af00\">3,894</span> │\n",
       "├─────────────────────────────────┼────────────────────────┼───────────────┤\n",
       "│ dense_57 (<span style=\"color: #0087ff; text-decoration-color: #0087ff\">Dense</span>)                │ (<span style=\"color: #00d7ff; text-decoration-color: #00d7ff\">None</span>, <span style=\"color: #00af00; text-decoration-color: #00af00\">10</span>)             │           <span style=\"color: #00af00; text-decoration-color: #00af00\">340</span> │\n",
       "└─────────────────────────────────┴────────────────────────┴───────────────┘\n",
       "</pre>\n"
      ],
      "text/plain": [
       "┏━━━━━━━━━━━━━━━━━━━━━━━━━━━━━━━━━┳━━━━━━━━━━━━━━━━━━━━━━━━┳━━━━━━━━━━━━━━━┓\n",
       "┃\u001b[1m \u001b[0m\u001b[1mLayer (type)                   \u001b[0m\u001b[1m \u001b[0m┃\u001b[1m \u001b[0m\u001b[1mOutput Shape          \u001b[0m\u001b[1m \u001b[0m┃\u001b[1m \u001b[0m\u001b[1m      Param #\u001b[0m\u001b[1m \u001b[0m┃\n",
       "┡━━━━━━━━━━━━━━━━━━━━━━━━━━━━━━━━━╇━━━━━━━━━━━━━━━━━━━━━━━━╇━━━━━━━━━━━━━━━┩\n",
       "│ dense_54 (\u001b[38;5;33mDense\u001b[0m)                │ (\u001b[38;5;45mNone\u001b[0m, \u001b[38;5;34m784\u001b[0m)            │       \u001b[38;5;34m615,440\u001b[0m │\n",
       "├─────────────────────────────────┼────────────────────────┼───────────────┤\n",
       "│ dense_55 (\u001b[38;5;33mDense\u001b[0m)                │ (\u001b[38;5;45mNone\u001b[0m, \u001b[38;5;34m117\u001b[0m)            │        \u001b[38;5;34m91,845\u001b[0m │\n",
       "├─────────────────────────────────┼────────────────────────┼───────────────┤\n",
       "│ dense_56 (\u001b[38;5;33mDense\u001b[0m)                │ (\u001b[38;5;45mNone\u001b[0m, \u001b[38;5;34m33\u001b[0m)             │         \u001b[38;5;34m3,894\u001b[0m │\n",
       "├─────────────────────────────────┼────────────────────────┼───────────────┤\n",
       "│ dense_57 (\u001b[38;5;33mDense\u001b[0m)                │ (\u001b[38;5;45mNone\u001b[0m, \u001b[38;5;34m10\u001b[0m)             │           \u001b[38;5;34m340\u001b[0m │\n",
       "└─────────────────────────────────┴────────────────────────┴───────────────┘\n"
      ]
     },
     "metadata": {},
     "output_type": "display_data"
    },
    {
     "data": {
      "text/html": [
       "<pre style=\"white-space:pre;overflow-x:auto;line-height:normal;font-family:Menlo,'DejaVu Sans Mono',consolas,'Courier New',monospace\"><span style=\"font-weight: bold\"> Total params: </span><span style=\"color: #00af00; text-decoration-color: #00af00\">711,519</span> (2.71 MB)\n",
       "</pre>\n"
      ],
      "text/plain": [
       "\u001b[1m Total params: \u001b[0m\u001b[38;5;34m711,519\u001b[0m (2.71 MB)\n"
      ]
     },
     "metadata": {},
     "output_type": "display_data"
    },
    {
     "data": {
      "text/html": [
       "<pre style=\"white-space:pre;overflow-x:auto;line-height:normal;font-family:Menlo,'DejaVu Sans Mono',consolas,'Courier New',monospace\"><span style=\"font-weight: bold\"> Trainable params: </span><span style=\"color: #00af00; text-decoration-color: #00af00\">711,519</span> (2.71 MB)\n",
       "</pre>\n"
      ],
      "text/plain": [
       "\u001b[1m Trainable params: \u001b[0m\u001b[38;5;34m711,519\u001b[0m (2.71 MB)\n"
      ]
     },
     "metadata": {},
     "output_type": "display_data"
    },
    {
     "data": {
      "text/html": [
       "<pre style=\"white-space:pre;overflow-x:auto;line-height:normal;font-family:Menlo,'DejaVu Sans Mono',consolas,'Courier New',monospace\"><span style=\"font-weight: bold\"> Non-trainable params: </span><span style=\"color: #00af00; text-decoration-color: #00af00\">0</span> (0.00 B)\n",
       "</pre>\n"
      ],
      "text/plain": [
       "\u001b[1m Non-trainable params: \u001b[0m\u001b[38;5;34m0\u001b[0m (0.00 B)\n"
      ]
     },
     "metadata": {},
     "output_type": "display_data"
    },
    {
     "name": "stdout",
     "output_type": "stream",
     "text": [
      "\n",
      "activation: tanh\n"
     ]
    },
    {
     "data": {
      "text/html": [
       "<pre style=\"white-space:pre;overflow-x:auto;line-height:normal;font-family:Menlo,'DejaVu Sans Mono',consolas,'Courier New',monospace\"><span style=\"font-weight: bold\">Model: \"sequential_13\"</span>\n",
       "</pre>\n"
      ],
      "text/plain": [
       "\u001b[1mModel: \"sequential_13\"\u001b[0m\n"
      ]
     },
     "metadata": {},
     "output_type": "display_data"
    },
    {
     "data": {
      "text/html": [
       "<pre style=\"white-space:pre;overflow-x:auto;line-height:normal;font-family:Menlo,'DejaVu Sans Mono',consolas,'Courier New',monospace\">┏━━━━━━━━━━━━━━━━━━━━━━━━━━━━━━━━━┳━━━━━━━━━━━━━━━━━━━━━━━━┳━━━━━━━━━━━━━━━┓\n",
       "┃<span style=\"font-weight: bold\"> Layer (type)                    </span>┃<span style=\"font-weight: bold\"> Output Shape           </span>┃<span style=\"font-weight: bold\">       Param # </span>┃\n",
       "┡━━━━━━━━━━━━━━━━━━━━━━━━━━━━━━━━━╇━━━━━━━━━━━━━━━━━━━━━━━━╇━━━━━━━━━━━━━━━┩\n",
       "│ dense_58 (<span style=\"color: #0087ff; text-decoration-color: #0087ff\">Dense</span>)                │ (<span style=\"color: #00d7ff; text-decoration-color: #00d7ff\">None</span>, <span style=\"color: #00af00; text-decoration-color: #00af00\">784</span>)            │       <span style=\"color: #00af00; text-decoration-color: #00af00\">615,440</span> │\n",
       "├─────────────────────────────────┼────────────────────────┼───────────────┤\n",
       "│ dense_59 (<span style=\"color: #0087ff; text-decoration-color: #0087ff\">Dense</span>)                │ (<span style=\"color: #00d7ff; text-decoration-color: #00d7ff\">None</span>, <span style=\"color: #00af00; text-decoration-color: #00af00\">120</span>)            │        <span style=\"color: #00af00; text-decoration-color: #00af00\">94,200</span> │\n",
       "├─────────────────────────────────┼────────────────────────┼───────────────┤\n",
       "│ dense_60 (<span style=\"color: #0087ff; text-decoration-color: #0087ff\">Dense</span>)                │ (<span style=\"color: #00d7ff; text-decoration-color: #00d7ff\">None</span>, <span style=\"color: #00af00; text-decoration-color: #00af00\">30</span>)             │         <span style=\"color: #00af00; text-decoration-color: #00af00\">3,630</span> │\n",
       "├─────────────────────────────────┼────────────────────────┼───────────────┤\n",
       "│ dense_61 (<span style=\"color: #0087ff; text-decoration-color: #0087ff\">Dense</span>)                │ (<span style=\"color: #00d7ff; text-decoration-color: #00d7ff\">None</span>, <span style=\"color: #00af00; text-decoration-color: #00af00\">10</span>)             │           <span style=\"color: #00af00; text-decoration-color: #00af00\">310</span> │\n",
       "└─────────────────────────────────┴────────────────────────┴───────────────┘\n",
       "</pre>\n"
      ],
      "text/plain": [
       "┏━━━━━━━━━━━━━━━━━━━━━━━━━━━━━━━━━┳━━━━━━━━━━━━━━━━━━━━━━━━┳━━━━━━━━━━━━━━━┓\n",
       "┃\u001b[1m \u001b[0m\u001b[1mLayer (type)                   \u001b[0m\u001b[1m \u001b[0m┃\u001b[1m \u001b[0m\u001b[1mOutput Shape          \u001b[0m\u001b[1m \u001b[0m┃\u001b[1m \u001b[0m\u001b[1m      Param #\u001b[0m\u001b[1m \u001b[0m┃\n",
       "┡━━━━━━━━━━━━━━━━━━━━━━━━━━━━━━━━━╇━━━━━━━━━━━━━━━━━━━━━━━━╇━━━━━━━━━━━━━━━┩\n",
       "│ dense_58 (\u001b[38;5;33mDense\u001b[0m)                │ (\u001b[38;5;45mNone\u001b[0m, \u001b[38;5;34m784\u001b[0m)            │       \u001b[38;5;34m615,440\u001b[0m │\n",
       "├─────────────────────────────────┼────────────────────────┼───────────────┤\n",
       "│ dense_59 (\u001b[38;5;33mDense\u001b[0m)                │ (\u001b[38;5;45mNone\u001b[0m, \u001b[38;5;34m120\u001b[0m)            │        \u001b[38;5;34m94,200\u001b[0m │\n",
       "├─────────────────────────────────┼────────────────────────┼───────────────┤\n",
       "│ dense_60 (\u001b[38;5;33mDense\u001b[0m)                │ (\u001b[38;5;45mNone\u001b[0m, \u001b[38;5;34m30\u001b[0m)             │         \u001b[38;5;34m3,630\u001b[0m │\n",
       "├─────────────────────────────────┼────────────────────────┼───────────────┤\n",
       "│ dense_61 (\u001b[38;5;33mDense\u001b[0m)                │ (\u001b[38;5;45mNone\u001b[0m, \u001b[38;5;34m10\u001b[0m)             │           \u001b[38;5;34m310\u001b[0m │\n",
       "└─────────────────────────────────┴────────────────────────┴───────────────┘\n"
      ]
     },
     "metadata": {},
     "output_type": "display_data"
    },
    {
     "data": {
      "text/html": [
       "<pre style=\"white-space:pre;overflow-x:auto;line-height:normal;font-family:Menlo,'DejaVu Sans Mono',consolas,'Courier New',monospace\"><span style=\"font-weight: bold\"> Total params: </span><span style=\"color: #00af00; text-decoration-color: #00af00\">713,580</span> (2.72 MB)\n",
       "</pre>\n"
      ],
      "text/plain": [
       "\u001b[1m Total params: \u001b[0m\u001b[38;5;34m713,580\u001b[0m (2.72 MB)\n"
      ]
     },
     "metadata": {},
     "output_type": "display_data"
    },
    {
     "data": {
      "text/html": [
       "<pre style=\"white-space:pre;overflow-x:auto;line-height:normal;font-family:Menlo,'DejaVu Sans Mono',consolas,'Courier New',monospace\"><span style=\"font-weight: bold\"> Trainable params: </span><span style=\"color: #00af00; text-decoration-color: #00af00\">713,580</span> (2.72 MB)\n",
       "</pre>\n"
      ],
      "text/plain": [
       "\u001b[1m Trainable params: \u001b[0m\u001b[38;5;34m713,580\u001b[0m (2.72 MB)\n"
      ]
     },
     "metadata": {},
     "output_type": "display_data"
    },
    {
     "data": {
      "text/html": [
       "<pre style=\"white-space:pre;overflow-x:auto;line-height:normal;font-family:Menlo,'DejaVu Sans Mono',consolas,'Courier New',monospace\"><span style=\"font-weight: bold\"> Non-trainable params: </span><span style=\"color: #00af00; text-decoration-color: #00af00\">0</span> (0.00 B)\n",
       "</pre>\n"
      ],
      "text/plain": [
       "\u001b[1m Non-trainable params: \u001b[0m\u001b[38;5;34m0\u001b[0m (0.00 B)\n"
      ]
     },
     "metadata": {},
     "output_type": "display_data"
    },
    {
     "name": "stdout",
     "output_type": "stream",
     "text": [
      "\n",
      "activation: relu\n"
     ]
    },
    {
     "data": {
      "text/html": [
       "<pre style=\"white-space:pre;overflow-x:auto;line-height:normal;font-family:Menlo,'DejaVu Sans Mono',consolas,'Courier New',monospace\"><span style=\"font-weight: bold\">Model: \"sequential_14\"</span>\n",
       "</pre>\n"
      ],
      "text/plain": [
       "\u001b[1mModel: \"sequential_14\"\u001b[0m\n"
      ]
     },
     "metadata": {},
     "output_type": "display_data"
    },
    {
     "data": {
      "text/html": [
       "<pre style=\"white-space:pre;overflow-x:auto;line-height:normal;font-family:Menlo,'DejaVu Sans Mono',consolas,'Courier New',monospace\">┏━━━━━━━━━━━━━━━━━━━━━━━━━━━━━━━━━┳━━━━━━━━━━━━━━━━━━━━━━━━┳━━━━━━━━━━━━━━━┓\n",
       "┃<span style=\"font-weight: bold\"> Layer (type)                    </span>┃<span style=\"font-weight: bold\"> Output Shape           </span>┃<span style=\"font-weight: bold\">       Param # </span>┃\n",
       "┡━━━━━━━━━━━━━━━━━━━━━━━━━━━━━━━━━╇━━━━━━━━━━━━━━━━━━━━━━━━╇━━━━━━━━━━━━━━━┩\n",
       "│ dense_62 (<span style=\"color: #0087ff; text-decoration-color: #0087ff\">Dense</span>)                │ (<span style=\"color: #00d7ff; text-decoration-color: #00d7ff\">None</span>, <span style=\"color: #00af00; text-decoration-color: #00af00\">784</span>)            │       <span style=\"color: #00af00; text-decoration-color: #00af00\">615,440</span> │\n",
       "├─────────────────────────────────┼────────────────────────┼───────────────┤\n",
       "│ dense_63 (<span style=\"color: #0087ff; text-decoration-color: #0087ff\">Dense</span>)                │ (<span style=\"color: #00d7ff; text-decoration-color: #00d7ff\">None</span>, <span style=\"color: #00af00; text-decoration-color: #00af00\">111</span>)            │        <span style=\"color: #00af00; text-decoration-color: #00af00\">87,135</span> │\n",
       "├─────────────────────────────────┼────────────────────────┼───────────────┤\n",
       "│ dense_64 (<span style=\"color: #0087ff; text-decoration-color: #0087ff\">Dense</span>)                │ (<span style=\"color: #00d7ff; text-decoration-color: #00d7ff\">None</span>, <span style=\"color: #00af00; text-decoration-color: #00af00\">39</span>)             │         <span style=\"color: #00af00; text-decoration-color: #00af00\">4,368</span> │\n",
       "├─────────────────────────────────┼────────────────────────┼───────────────┤\n",
       "│ dense_65 (<span style=\"color: #0087ff; text-decoration-color: #0087ff\">Dense</span>)                │ (<span style=\"color: #00d7ff; text-decoration-color: #00d7ff\">None</span>, <span style=\"color: #00af00; text-decoration-color: #00af00\">10</span>)             │           <span style=\"color: #00af00; text-decoration-color: #00af00\">400</span> │\n",
       "└─────────────────────────────────┴────────────────────────┴───────────────┘\n",
       "</pre>\n"
      ],
      "text/plain": [
       "┏━━━━━━━━━━━━━━━━━━━━━━━━━━━━━━━━━┳━━━━━━━━━━━━━━━━━━━━━━━━┳━━━━━━━━━━━━━━━┓\n",
       "┃\u001b[1m \u001b[0m\u001b[1mLayer (type)                   \u001b[0m\u001b[1m \u001b[0m┃\u001b[1m \u001b[0m\u001b[1mOutput Shape          \u001b[0m\u001b[1m \u001b[0m┃\u001b[1m \u001b[0m\u001b[1m      Param #\u001b[0m\u001b[1m \u001b[0m┃\n",
       "┡━━━━━━━━━━━━━━━━━━━━━━━━━━━━━━━━━╇━━━━━━━━━━━━━━━━━━━━━━━━╇━━━━━━━━━━━━━━━┩\n",
       "│ dense_62 (\u001b[38;5;33mDense\u001b[0m)                │ (\u001b[38;5;45mNone\u001b[0m, \u001b[38;5;34m784\u001b[0m)            │       \u001b[38;5;34m615,440\u001b[0m │\n",
       "├─────────────────────────────────┼────────────────────────┼───────────────┤\n",
       "│ dense_63 (\u001b[38;5;33mDense\u001b[0m)                │ (\u001b[38;5;45mNone\u001b[0m, \u001b[38;5;34m111\u001b[0m)            │        \u001b[38;5;34m87,135\u001b[0m │\n",
       "├─────────────────────────────────┼────────────────────────┼───────────────┤\n",
       "│ dense_64 (\u001b[38;5;33mDense\u001b[0m)                │ (\u001b[38;5;45mNone\u001b[0m, \u001b[38;5;34m39\u001b[0m)             │         \u001b[38;5;34m4,368\u001b[0m │\n",
       "├─────────────────────────────────┼────────────────────────┼───────────────┤\n",
       "│ dense_65 (\u001b[38;5;33mDense\u001b[0m)                │ (\u001b[38;5;45mNone\u001b[0m, \u001b[38;5;34m10\u001b[0m)             │           \u001b[38;5;34m400\u001b[0m │\n",
       "└─────────────────────────────────┴────────────────────────┴───────────────┘\n"
      ]
     },
     "metadata": {},
     "output_type": "display_data"
    },
    {
     "data": {
      "text/html": [
       "<pre style=\"white-space:pre;overflow-x:auto;line-height:normal;font-family:Menlo,'DejaVu Sans Mono',consolas,'Courier New',monospace\"><span style=\"font-weight: bold\"> Total params: </span><span style=\"color: #00af00; text-decoration-color: #00af00\">707,343</span> (2.70 MB)\n",
       "</pre>\n"
      ],
      "text/plain": [
       "\u001b[1m Total params: \u001b[0m\u001b[38;5;34m707,343\u001b[0m (2.70 MB)\n"
      ]
     },
     "metadata": {},
     "output_type": "display_data"
    },
    {
     "data": {
      "text/html": [
       "<pre style=\"white-space:pre;overflow-x:auto;line-height:normal;font-family:Menlo,'DejaVu Sans Mono',consolas,'Courier New',monospace\"><span style=\"font-weight: bold\"> Trainable params: </span><span style=\"color: #00af00; text-decoration-color: #00af00\">707,343</span> (2.70 MB)\n",
       "</pre>\n"
      ],
      "text/plain": [
       "\u001b[1m Trainable params: \u001b[0m\u001b[38;5;34m707,343\u001b[0m (2.70 MB)\n"
      ]
     },
     "metadata": {},
     "output_type": "display_data"
    },
    {
     "data": {
      "text/html": [
       "<pre style=\"white-space:pre;overflow-x:auto;line-height:normal;font-family:Menlo,'DejaVu Sans Mono',consolas,'Courier New',monospace\"><span style=\"font-weight: bold\"> Non-trainable params: </span><span style=\"color: #00af00; text-decoration-color: #00af00\">0</span> (0.00 B)\n",
       "</pre>\n"
      ],
      "text/plain": [
       "\u001b[1m Non-trainable params: \u001b[0m\u001b[38;5;34m0\u001b[0m (0.00 B)\n"
      ]
     },
     "metadata": {},
     "output_type": "display_data"
    },
    {
     "name": "stdout",
     "output_type": "stream",
     "text": [
      "\n"
     ]
    }
   ],
   "source": [
    "import random\n",
    "activation_function = ['relu', 'sigmoid', 'tanh']\n",
    "hide_and_seek=[2,3]\n",
    "nodes1=[100,150]\n",
    "nodes2=[150,100]\n",
    "\n",
    "models=[]\n",
    "\n",
    "for i in range(0,3):\n",
    "    for layers in range(2):\n",
    "        print(\"activation:\", activation_function[i])\n",
    "        \n",
    "        model=Sequential()\n",
    "        \n",
    "        model.add(Dense(input_shape = (784,), units=784,  activation=activation_function[i]))\n",
    "        \n",
    "        for ii in range(hide_and_seek[layers]):\n",
    "            model.add(Dense(units=nodes1[layers], activation= activation_function[i]))\n",
    "            \n",
    "        model.add(Dense(units=10, activation='softmax'))\n",
    "        \n",
    "        model.compile(loss='categorical_crossentropy', optimizer='adam', metrics=['accuracy'])\n",
    "        models.append(model)\n",
    "        \n",
    "        model.summary()\n",
    "        print()\n",
    "\n",
    "for i in range(0,3):\n",
    "    for layers in range(2):\n",
    "        print(\"activation:\", activation_function[i])\n",
    "        model=Sequential()\n",
    "        model.add(Dense(input_shape = (784,), units=784,  activation=activation_function[i]))\n",
    "        for ii in range(hide_and_seek[layers]):\n",
    "            model.add(Dense(units=nodes2[layers], activation= activation_function[i]))\n",
    "        model.add(Dense(units=10, activation='softmax'))\n",
    "        model.compile(loss='categorical_crossentropy', optimizer='adam', metrics=['accuracy'])\n",
    "        models.append(model)\n",
    "        model.summary()\n",
    "        print()\n",
    "\n",
    "for i in range(0,3):\n",
    "    custom_activation = random.choice(activation_function)\n",
    "    print(\"activation:\", custom_activation)\n",
    "    model = Sequential() \n",
    "    \n",
    "    model.add(Dense(input_shape = (784,), units=784,  activation=custom_activation))\n",
    "    l1 = random.randint(70,120)\n",
    "    l2 = 150 - l1\n",
    "\n",
    "    model.add(Dense(units=l1, activation=custom_activation))\n",
    "    model.add(Dense(units=l2, activation=custom_activation))\n",
    "\n",
    "    model.add(Dense(units=10,activation='softmax'))\n",
    "\n",
    "    model.compile(loss='categorical_crossentropy', optimizer='adam', metrics=['accuracy'])\n",
    "    models.append(model)\n",
    "    model.summary()\n",
    "    print()"
   ]
  },
  {
   "cell_type": "code",
   "execution_count": 16,
   "id": "73718bc3-b270-4e16-999d-a9bed38bf7f9",
   "metadata": {},
   "outputs": [
    {
     "name": "stdout",
     "output_type": "stream",
     "text": [
      "fit: 1\n"
     ]
    },
    {
     "name": "stdout",
     "output_type": "stream",
     "text": [
      "Epoch 1/10\n",
      "\u001b[1m1532/1532\u001b[0m \u001b[32m━━━━━━━━━━━━━━━━━━━━\u001b[0m\u001b[37m\u001b[0m \u001b[1m14s\u001b[0m 8ms/step - accuracy: 0.8884 - loss: 0.3653\n",
      "Epoch 2/10\n",
      "\u001b[1m1532/1532\u001b[0m \u001b[32m━━━━━━━━━━━━━━━━━━━━\u001b[0m\u001b[37m\u001b[0m \u001b[1m11s\u001b[0m 7ms/step - accuracy: 0.9708 - loss: 0.0945\n",
      "Epoch 3/10\n",
      "\u001b[1m1532/1532\u001b[0m \u001b[32m━━━━━━━━━━━━━━━━━━━━\u001b[0m\u001b[37m\u001b[0m \u001b[1m11s\u001b[0m 7ms/step - accuracy: 0.9813 - loss: 0.0591\n",
      "Epoch 4/10\n",
      "\u001b[1m1532/1532\u001b[0m \u001b[32m━━━━━━━━━━━━━━━━━━━━\u001b[0m\u001b[37m\u001b[0m \u001b[1m12s\u001b[0m 8ms/step - accuracy: 0.9853 - loss: 0.0454\n",
      "Epoch 5/10\n",
      "\u001b[1m1532/1532\u001b[0m \u001b[32m━━━━━━━━━━━━━━━━━━━━\u001b[0m\u001b[37m\u001b[0m \u001b[1m12s\u001b[0m 8ms/step - accuracy: 0.9877 - loss: 0.0391\n",
      "Epoch 6/10\n",
      "\u001b[1m1532/1532\u001b[0m \u001b[32m━━━━━━━━━━━━━━━━━━━━\u001b[0m\u001b[37m\u001b[0m \u001b[1m12s\u001b[0m 8ms/step - accuracy: 0.9905 - loss: 0.0296\n",
      "Epoch 7/10\n",
      "\u001b[1m1532/1532\u001b[0m \u001b[32m━━━━━━━━━━━━━━━━━━━━\u001b[0m\u001b[37m\u001b[0m \u001b[1m12s\u001b[0m 8ms/step - accuracy: 0.9916 - loss: 0.0266\n",
      "Epoch 8/10\n",
      "\u001b[1m1532/1532\u001b[0m \u001b[32m━━━━━━━━━━━━━━━━━━━━\u001b[0m\u001b[37m\u001b[0m \u001b[1m11s\u001b[0m 7ms/step - accuracy: 0.9934 - loss: 0.0205\n",
      "Epoch 9/10\n",
      "\u001b[1m1532/1532\u001b[0m \u001b[32m━━━━━━━━━━━━━━━━━━━━\u001b[0m\u001b[37m\u001b[0m \u001b[1m12s\u001b[0m 8ms/step - accuracy: 0.9942 - loss: 0.0196\n",
      "Epoch 10/10\n",
      "\u001b[1m1532/1532\u001b[0m \u001b[32m━━━━━━━━━━━━━━━━━━━━\u001b[0m\u001b[37m\u001b[0m \u001b[1m12s\u001b[0m 8ms/step - accuracy: 0.9954 - loss: 0.0145\n",
      "\n",
      "fit: 2\n",
      "Epoch 1/10\n",
      "\u001b[1m1532/1532\u001b[0m \u001b[32m━━━━━━━━━━━━━━━━━━━━\u001b[0m\u001b[37m\u001b[0m \u001b[1m15s\u001b[0m 9ms/step - accuracy: 0.8793 - loss: 0.3873\n",
      "Epoch 2/10\n",
      "\u001b[1m1532/1532\u001b[0m \u001b[32m━━━━━━━━━━━━━━━━━━━━\u001b[0m\u001b[37m\u001b[0m \u001b[1m13s\u001b[0m 8ms/step - accuracy: 0.9678 - loss: 0.1052\n",
      "Epoch 3/10\n",
      "\u001b[1m1532/1532\u001b[0m \u001b[32m━━━━━━━━━━━━━━━━━━━━\u001b[0m\u001b[37m\u001b[0m \u001b[1m13s\u001b[0m 9ms/step - accuracy: 0.9788 - loss: 0.0672\n",
      "Epoch 4/10\n",
      "\u001b[1m1532/1532\u001b[0m \u001b[32m━━━━━━━━━━━━━━━━━━━━\u001b[0m\u001b[37m\u001b[0m \u001b[1m13s\u001b[0m 8ms/step - accuracy: 0.9846 - loss: 0.0525\n",
      "Epoch 5/10\n",
      "\u001b[1m1532/1532\u001b[0m \u001b[32m━━━━━━━━━━━━━━━━━━━━\u001b[0m\u001b[37m\u001b[0m \u001b[1m13s\u001b[0m 9ms/step - accuracy: 0.9868 - loss: 0.0423\n",
      "Epoch 6/10\n",
      "\u001b[1m1532/1532\u001b[0m \u001b[32m━━━━━━━━━━━━━━━━━━━━\u001b[0m\u001b[37m\u001b[0m \u001b[1m13s\u001b[0m 8ms/step - accuracy: 0.9896 - loss: 0.0354\n",
      "Epoch 7/10\n",
      "\u001b[1m1532/1532\u001b[0m \u001b[32m━━━━━━━━━━━━━━━━━━━━\u001b[0m\u001b[37m\u001b[0m \u001b[1m13s\u001b[0m 8ms/step - accuracy: 0.9893 - loss: 0.0331\n",
      "Epoch 8/10\n",
      "\u001b[1m1532/1532\u001b[0m \u001b[32m━━━━━━━━━━━━━━━━━━━━\u001b[0m\u001b[37m\u001b[0m \u001b[1m13s\u001b[0m 8ms/step - accuracy: 0.9929 - loss: 0.0256\n",
      "Epoch 9/10\n",
      "\u001b[1m1532/1532\u001b[0m \u001b[32m━━━━━━━━━━━━━━━━━━━━\u001b[0m\u001b[37m\u001b[0m \u001b[1m13s\u001b[0m 9ms/step - accuracy: 0.9930 - loss: 0.0225\n",
      "Epoch 10/10\n",
      "\u001b[1m1532/1532\u001b[0m \u001b[32m━━━━━━━━━━━━━━━━━━━━\u001b[0m\u001b[37m\u001b[0m \u001b[1m13s\u001b[0m 9ms/step - accuracy: 0.9943 - loss: 0.0218\n",
      "\n",
      "fit: 3\n",
      "Epoch 1/10\n",
      "\u001b[1m1532/1532\u001b[0m \u001b[32m━━━━━━━━━━━━━━━━━━━━\u001b[0m\u001b[37m\u001b[0m \u001b[1m13s\u001b[0m 7ms/step - accuracy: 0.7629 - loss: 0.8567\n",
      "Epoch 2/10\n",
      "\u001b[1m1532/1532\u001b[0m \u001b[32m━━━━━━━━━━━━━━━━━━━━\u001b[0m\u001b[37m\u001b[0m \u001b[1m11s\u001b[0m 7ms/step - accuracy: 0.9511 - loss: 0.1646\n",
      "Epoch 3/10\n",
      "\u001b[1m1532/1532\u001b[0m \u001b[32m━━━━━━━━━━━━━━━━━━━━\u001b[0m\u001b[37m\u001b[0m \u001b[1m12s\u001b[0m 8ms/step - accuracy: 0.9698 - loss: 0.0999\n",
      "Epoch 4/10\n",
      "\u001b[1m1532/1532\u001b[0m \u001b[32m━━━━━━━━━━━━━━━━━━━━\u001b[0m\u001b[37m\u001b[0m \u001b[1m12s\u001b[0m 8ms/step - accuracy: 0.9788 - loss: 0.0663\n",
      "Epoch 5/10\n",
      "\u001b[1m1532/1532\u001b[0m \u001b[32m━━━━━━━━━━━━━━━━━━━━\u001b[0m\u001b[37m\u001b[0m \u001b[1m12s\u001b[0m 8ms/step - accuracy: 0.9848 - loss: 0.0485\n",
      "Epoch 6/10\n",
      "\u001b[1m1532/1532\u001b[0m \u001b[32m━━━━━━━━━━━━━━━━━━━━\u001b[0m\u001b[37m\u001b[0m \u001b[1m12s\u001b[0m 8ms/step - accuracy: 0.9889 - loss: 0.0351\n",
      "Epoch 7/10\n",
      "\u001b[1m1532/1532\u001b[0m \u001b[32m━━━━━━━━━━━━━━━━━━━━\u001b[0m\u001b[37m\u001b[0m \u001b[1m12s\u001b[0m 8ms/step - accuracy: 0.9924 - loss: 0.0254\n",
      "Epoch 8/10\n",
      "\u001b[1m1532/1532\u001b[0m \u001b[32m━━━━━━━━━━━━━━━━━━━━\u001b[0m\u001b[37m\u001b[0m \u001b[1m12s\u001b[0m 8ms/step - accuracy: 0.9939 - loss: 0.0199\n",
      "Epoch 9/10\n",
      "\u001b[1m1532/1532\u001b[0m \u001b[32m━━━━━━━━━━━━━━━━━━━━\u001b[0m\u001b[37m\u001b[0m \u001b[1m12s\u001b[0m 8ms/step - accuracy: 0.9949 - loss: 0.0164\n",
      "Epoch 10/10\n",
      "\u001b[1m1532/1532\u001b[0m \u001b[32m━━━━━━━━━━━━━━━━━━━━\u001b[0m\u001b[37m\u001b[0m \u001b[1m12s\u001b[0m 8ms/step - accuracy: 0.9963 - loss: 0.0114\n",
      "\n",
      "fit: 4\n",
      "Epoch 1/10\n",
      "\u001b[1m1532/1532\u001b[0m \u001b[32m━━━━━━━━━━━━━━━━━━━━\u001b[0m\u001b[37m\u001b[0m \u001b[1m15s\u001b[0m 8ms/step - accuracy: 0.6979 - loss: 0.9324\n",
      "Epoch 2/10\n",
      "\u001b[1m1532/1532\u001b[0m \u001b[32m━━━━━━━━━━━━━━━━━━━━\u001b[0m\u001b[37m\u001b[0m \u001b[1m13s\u001b[0m 8ms/step - accuracy: 0.9467 - loss: 0.1799\n",
      "Epoch 3/10\n",
      "\u001b[1m1532/1532\u001b[0m \u001b[32m━━━━━━━━━━━━━━━━━━━━\u001b[0m\u001b[37m\u001b[0m \u001b[1m14s\u001b[0m 9ms/step - accuracy: 0.9679 - loss: 0.1112\n",
      "Epoch 4/10\n",
      "\u001b[1m1532/1532\u001b[0m \u001b[32m━━━━━━━━━━━━━━━━━━━━\u001b[0m\u001b[37m\u001b[0m \u001b[1m13s\u001b[0m 8ms/step - accuracy: 0.9759 - loss: 0.0807\n",
      "Epoch 5/10\n",
      "\u001b[1m1532/1532\u001b[0m \u001b[32m━━━━━━━━━━━━━━━━━━━━\u001b[0m\u001b[37m\u001b[0m \u001b[1m13s\u001b[0m 8ms/step - accuracy: 0.9822 - loss: 0.0590\n",
      "Epoch 6/10\n",
      "\u001b[1m1532/1532\u001b[0m \u001b[32m━━━━━━━━━━━━━━━━━━━━\u001b[0m\u001b[37m\u001b[0m \u001b[1m13s\u001b[0m 8ms/step - accuracy: 0.9859 - loss: 0.0451\n",
      "Epoch 7/10\n",
      "\u001b[1m1532/1532\u001b[0m \u001b[32m━━━━━━━━━━━━━━━━━━━━\u001b[0m\u001b[37m\u001b[0m \u001b[1m13s\u001b[0m 8ms/step - accuracy: 0.9892 - loss: 0.0359\n",
      "Epoch 8/10\n",
      "\u001b[1m1532/1532\u001b[0m \u001b[32m━━━━━━━━━━━━━━━━━━━━\u001b[0m\u001b[37m\u001b[0m \u001b[1m17s\u001b[0m 11ms/step - accuracy: 0.9906 - loss: 0.0296\n",
      "Epoch 9/10\n",
      "\u001b[1m1532/1532\u001b[0m \u001b[32m━━━━━━━━━━━━━━━━━━━━\u001b[0m\u001b[37m\u001b[0m \u001b[1m16s\u001b[0m 10ms/step - accuracy: 0.9934 - loss: 0.0218\n",
      "Epoch 10/10\n",
      "\u001b[1m1532/1532\u001b[0m \u001b[32m━━━━━━━━━━━━━━━━━━━━\u001b[0m\u001b[37m\u001b[0m \u001b[1m17s\u001b[0m 11ms/step - accuracy: 0.9935 - loss: 0.0207\n",
      "\n",
      "fit: 5\n",
      "Epoch 1/10\n",
      "\u001b[1m1532/1532\u001b[0m \u001b[32m━━━━━━━━━━━━━━━━━━━━\u001b[0m\u001b[37m\u001b[0m \u001b[1m17s\u001b[0m 9ms/step - accuracy: 0.8866 - loss: 0.3731\n",
      "Epoch 2/10\n",
      "\u001b[1m1532/1532\u001b[0m \u001b[32m━━━━━━━━━━━━━━━━━━━━\u001b[0m\u001b[37m\u001b[0m \u001b[1m14s\u001b[0m 9ms/step - accuracy: 0.9574 - loss: 0.1409\n",
      "Epoch 3/10\n",
      "\u001b[1m1532/1532\u001b[0m \u001b[32m━━━━━━━━━━━━━━━━━━━━\u001b[0m\u001b[37m\u001b[0m \u001b[1m16s\u001b[0m 10ms/step - accuracy: 0.9668 - loss: 0.1080\n",
      "Epoch 4/10\n",
      "\u001b[1m1532/1532\u001b[0m \u001b[32m━━━━━━━━━━━━━━━━━━━━\u001b[0m\u001b[37m\u001b[0m \u001b[1m16s\u001b[0m 10ms/step - accuracy: 0.9714 - loss: 0.0934\n",
      "Epoch 5/10\n",
      "\u001b[1m1532/1532\u001b[0m \u001b[32m━━━━━━━━━━━━━━━━━━━━\u001b[0m\u001b[37m\u001b[0m \u001b[1m16s\u001b[0m 10ms/step - accuracy: 0.9757 - loss: 0.0764\n",
      "Epoch 6/10\n",
      "\u001b[1m1532/1532\u001b[0m \u001b[32m━━━━━━━━━━━━━━━━━━━━\u001b[0m\u001b[37m\u001b[0m \u001b[1m14s\u001b[0m 9ms/step - accuracy: 0.9783 - loss: 0.0680\n",
      "Epoch 7/10\n",
      "\u001b[1m1532/1532\u001b[0m \u001b[32m━━━━━━━━━━━━━━━━━━━━\u001b[0m\u001b[37m\u001b[0m \u001b[1m15s\u001b[0m 10ms/step - accuracy: 0.9813 - loss: 0.0577\n",
      "Epoch 8/10\n",
      "\u001b[1m1532/1532\u001b[0m \u001b[32m━━━━━━━━━━━━━━━━━━━━\u001b[0m\u001b[37m\u001b[0m \u001b[1m15s\u001b[0m 10ms/step - accuracy: 0.9815 - loss: 0.0552\n",
      "Epoch 9/10\n",
      "\u001b[1m1532/1532\u001b[0m \u001b[32m━━━━━━━━━━━━━━━━━━━━\u001b[0m\u001b[37m\u001b[0m \u001b[1m15s\u001b[0m 10ms/step - accuracy: 0.9836 - loss: 0.0520\n",
      "Epoch 10/10\n",
      "\u001b[1m1532/1532\u001b[0m \u001b[32m━━━━━━━━━━━━━━━━━━━━\u001b[0m\u001b[37m\u001b[0m \u001b[1m15s\u001b[0m 10ms/step - accuracy: 0.9853 - loss: 0.0451\n",
      "\n",
      "fit: 6\n",
      "Epoch 1/10\n",
      "\u001b[1m1532/1532\u001b[0m \u001b[32m━━━━━━━━━━━━━━━━━━━━\u001b[0m\u001b[37m\u001b[0m \u001b[1m19s\u001b[0m 11ms/step - accuracy: 0.8870 - loss: 0.3679\n",
      "Epoch 2/10\n",
      "\u001b[1m1532/1532\u001b[0m \u001b[32m━━━━━━━━━━━━━━━━━━━━\u001b[0m\u001b[37m\u001b[0m \u001b[1m16s\u001b[0m 11ms/step - accuracy: 0.9555 - loss: 0.1395\n",
      "Epoch 3/10\n",
      "\u001b[1m1532/1532\u001b[0m \u001b[32m━━━━━━━━━━━━━━━━━━━━\u001b[0m\u001b[37m\u001b[0m \u001b[1m16s\u001b[0m 10ms/step - accuracy: 0.9666 - loss: 0.1083\n",
      "Epoch 4/10\n",
      "\u001b[1m1532/1532\u001b[0m \u001b[32m━━━━━━━━━━━━━━━━━━━━\u001b[0m\u001b[37m\u001b[0m \u001b[1m16s\u001b[0m 11ms/step - accuracy: 0.9709 - loss: 0.0948\n",
      "Epoch 5/10\n",
      "\u001b[1m1532/1532\u001b[0m \u001b[32m━━━━━━━━━━━━━━━━━━━━\u001b[0m\u001b[37m\u001b[0m \u001b[1m17s\u001b[0m 11ms/step - accuracy: 0.9758 - loss: 0.0756\n",
      "Epoch 6/10\n",
      "\u001b[1m1532/1532\u001b[0m \u001b[32m━━━━━━━━━━━━━━━━━━━━\u001b[0m\u001b[37m\u001b[0m \u001b[1m16s\u001b[0m 10ms/step - accuracy: 0.9783 - loss: 0.0689\n",
      "Epoch 7/10\n",
      "\u001b[1m1532/1532\u001b[0m \u001b[32m━━━━━━━━━━━━━━━━━━━━\u001b[0m\u001b[37m\u001b[0m \u001b[1m17s\u001b[0m 11ms/step - accuracy: 0.9798 - loss: 0.0628\n",
      "Epoch 8/10\n",
      "\u001b[1m1532/1532\u001b[0m \u001b[32m━━━━━━━━━━━━━━━━━━━━\u001b[0m\u001b[37m\u001b[0m \u001b[1m16s\u001b[0m 10ms/step - accuracy: 0.9820 - loss: 0.0544\n",
      "Epoch 9/10\n",
      "\u001b[1m1532/1532\u001b[0m \u001b[32m━━━━━━━━━━━━━━━━━━━━\u001b[0m\u001b[37m\u001b[0m \u001b[1m17s\u001b[0m 11ms/step - accuracy: 0.9829 - loss: 0.0524\n",
      "Epoch 10/10\n",
      "\u001b[1m1532/1532\u001b[0m \u001b[32m━━━━━━━━━━━━━━━━━━━━\u001b[0m\u001b[37m\u001b[0m \u001b[1m16s\u001b[0m 11ms/step - accuracy: 0.9833 - loss: 0.0483\n",
      "\n",
      "fit: 7\n",
      "Epoch 1/10\n",
      "\u001b[1m1532/1532\u001b[0m \u001b[32m━━━━━━━━━━━━━━━━━━━━\u001b[0m\u001b[37m\u001b[0m \u001b[1m19s\u001b[0m 11ms/step - accuracy: 0.8916 - loss: 0.3514\n",
      "Epoch 2/10\n",
      "\u001b[1m1532/1532\u001b[0m \u001b[32m━━━━━━━━━━━━━━━━━━━━\u001b[0m\u001b[37m\u001b[0m \u001b[1m17s\u001b[0m 11ms/step - accuracy: 0.9724 - loss: 0.0882\n",
      "Epoch 3/10\n",
      "\u001b[1m1532/1532\u001b[0m \u001b[32m━━━━━━━━━━━━━━━━━━━━\u001b[0m\u001b[37m\u001b[0m \u001b[1m16s\u001b[0m 11ms/step - accuracy: 0.9809 - loss: 0.0599\n",
      "Epoch 4/10\n",
      "\u001b[1m1532/1532\u001b[0m \u001b[32m━━━━━━━━━━━━━━━━━━━━\u001b[0m\u001b[37m\u001b[0m \u001b[1m17s\u001b[0m 11ms/step - accuracy: 0.9850 - loss: 0.0481\n",
      "Epoch 5/10\n",
      "\u001b[1m1532/1532\u001b[0m \u001b[32m━━━━━━━━━━━━━━━━━━━━\u001b[0m\u001b[37m\u001b[0m \u001b[1m17s\u001b[0m 11ms/step - accuracy: 0.9891 - loss: 0.0355\n",
      "Epoch 6/10\n",
      "\u001b[1m1532/1532\u001b[0m \u001b[32m━━━━━━━━━━━━━━━━━━━━\u001b[0m\u001b[37m\u001b[0m \u001b[1m17s\u001b[0m 11ms/step - accuracy: 0.9909 - loss: 0.0300\n",
      "Epoch 7/10\n",
      "\u001b[1m1532/1532\u001b[0m \u001b[32m━━━━━━━━━━━━━━━━━━━━\u001b[0m\u001b[37m\u001b[0m \u001b[1m17s\u001b[0m 11ms/step - accuracy: 0.9901 - loss: 0.0304\n",
      "Epoch 8/10\n",
      "\u001b[1m1532/1532\u001b[0m \u001b[32m━━━━━━━━━━━━━━━━━━━━\u001b[0m\u001b[37m\u001b[0m \u001b[1m15s\u001b[0m 10ms/step - accuracy: 0.9925 - loss: 0.0244\n",
      "Epoch 9/10\n",
      "\u001b[1m1532/1532\u001b[0m \u001b[32m━━━━━━━━━━━━━━━━━━━━\u001b[0m\u001b[37m\u001b[0m \u001b[1m16s\u001b[0m 10ms/step - accuracy: 0.9941 - loss: 0.0196\n",
      "Epoch 10/10\n",
      "\u001b[1m1532/1532\u001b[0m \u001b[32m━━━━━━━━━━━━━━━━━━━━\u001b[0m\u001b[37m\u001b[0m \u001b[1m16s\u001b[0m 11ms/step - accuracy: 0.9948 - loss: 0.0172\n",
      "\n",
      "fit: 8\n",
      "Epoch 1/10\n",
      "\u001b[1m1532/1532\u001b[0m \u001b[32m━━━━━━━━━━━━━━━━━━━━\u001b[0m\u001b[37m\u001b[0m \u001b[1m19s\u001b[0m 10ms/step - accuracy: 0.8827 - loss: 0.3895\n",
      "Epoch 2/10\n",
      "\u001b[1m1532/1532\u001b[0m \u001b[32m━━━━━━━━━━━━━━━━━━━━\u001b[0m\u001b[37m\u001b[0m \u001b[1m17s\u001b[0m 11ms/step - accuracy: 0.9701 - loss: 0.0969\n",
      "Epoch 3/10\n",
      "\u001b[1m1532/1532\u001b[0m \u001b[32m━━━━━━━━━━━━━━━━━━━━\u001b[0m\u001b[37m\u001b[0m \u001b[1m17s\u001b[0m 11ms/step - accuracy: 0.9801 - loss: 0.0672\n",
      "Epoch 4/10\n",
      "\u001b[1m1532/1532\u001b[0m \u001b[32m━━━━━━━━━━━━━━━━━━━━\u001b[0m\u001b[37m\u001b[0m \u001b[1m16s\u001b[0m 10ms/step - accuracy: 0.9852 - loss: 0.0497\n",
      "Epoch 5/10\n",
      "\u001b[1m1532/1532\u001b[0m \u001b[32m━━━━━━━━━━━━━━━━━━━━\u001b[0m\u001b[37m\u001b[0m \u001b[1m16s\u001b[0m 11ms/step - accuracy: 0.9874 - loss: 0.0406\n",
      "Epoch 6/10\n",
      "\u001b[1m1532/1532\u001b[0m \u001b[32m━━━━━━━━━━━━━━━━━━━━\u001b[0m\u001b[37m\u001b[0m \u001b[1m17s\u001b[0m 11ms/step - accuracy: 0.9886 - loss: 0.0355\n",
      "Epoch 7/10\n",
      "\u001b[1m1532/1532\u001b[0m \u001b[32m━━━━━━━━━━━━━━━━━━━━\u001b[0m\u001b[37m\u001b[0m \u001b[1m17s\u001b[0m 11ms/step - accuracy: 0.9918 - loss: 0.0270\n",
      "Epoch 8/10\n",
      "\u001b[1m1532/1532\u001b[0m \u001b[32m━━━━━━━━━━━━━━━━━━━━\u001b[0m\u001b[37m\u001b[0m \u001b[1m16s\u001b[0m 10ms/step - accuracy: 0.9932 - loss: 0.0231\n",
      "Epoch 9/10\n",
      "\u001b[1m1532/1532\u001b[0m \u001b[32m━━━━━━━━━━━━━━━━━━━━\u001b[0m\u001b[37m\u001b[0m \u001b[1m17s\u001b[0m 11ms/step - accuracy: 0.9935 - loss: 0.0223\n",
      "Epoch 10/10\n",
      "\u001b[1m1532/1532\u001b[0m \u001b[32m━━━━━━━━━━━━━━━━━━━━\u001b[0m\u001b[37m\u001b[0m \u001b[1m17s\u001b[0m 11ms/step - accuracy: 0.9949 - loss: 0.0185\n",
      "\n",
      "fit: 9\n",
      "Epoch 1/10\n",
      "\u001b[1m1532/1532\u001b[0m \u001b[32m━━━━━━━━━━━━━━━━━━━━\u001b[0m\u001b[37m\u001b[0m \u001b[1m18s\u001b[0m 10ms/step - accuracy: 0.7713 - loss: 0.7650\n",
      "Epoch 2/10\n",
      "\u001b[1m1532/1532\u001b[0m \u001b[32m━━━━━━━━━━━━━━━━━━━━\u001b[0m\u001b[37m\u001b[0m \u001b[1m16s\u001b[0m 11ms/step - accuracy: 0.9505 - loss: 0.1683\n",
      "Epoch 3/10\n",
      "\u001b[1m1532/1532\u001b[0m \u001b[32m━━━━━━━━━━━━━━━━━━━━\u001b[0m\u001b[37m\u001b[0m \u001b[1m17s\u001b[0m 11ms/step - accuracy: 0.9687 - loss: 0.1041\n",
      "Epoch 4/10\n",
      "\u001b[1m1532/1532\u001b[0m \u001b[32m━━━━━━━━━━━━━━━━━━━━\u001b[0m\u001b[37m\u001b[0m \u001b[1m16s\u001b[0m 10ms/step - accuracy: 0.9776 - loss: 0.0722\n",
      "Epoch 5/10\n",
      "\u001b[1m1532/1532\u001b[0m \u001b[32m━━━━━━━━━━━━━━━━━━━━\u001b[0m\u001b[37m\u001b[0m \u001b[1m17s\u001b[0m 11ms/step - accuracy: 0.9841 - loss: 0.0507\n",
      "Epoch 6/10\n",
      "\u001b[1m1532/1532\u001b[0m \u001b[32m━━━━━━━━━━━━━━━━━━━━\u001b[0m\u001b[37m\u001b[0m \u001b[1m17s\u001b[0m 11ms/step - accuracy: 0.9898 - loss: 0.0324\n",
      "Epoch 7/10\n",
      "\u001b[1m1532/1532\u001b[0m \u001b[32m━━━━━━━━━━━━━━━━━━━━\u001b[0m\u001b[37m\u001b[0m \u001b[1m16s\u001b[0m 10ms/step - accuracy: 0.9913 - loss: 0.0276\n",
      "Epoch 8/10\n",
      "\u001b[1m1532/1532\u001b[0m \u001b[32m━━━━━━━━━━━━━━━━━━━━\u001b[0m\u001b[37m\u001b[0m \u001b[1m15s\u001b[0m 10ms/step - accuracy: 0.9933 - loss: 0.0221\n",
      "Epoch 9/10\n",
      "\u001b[1m1532/1532\u001b[0m \u001b[32m━━━━━━━━━━━━━━━━━━━━\u001b[0m\u001b[37m\u001b[0m \u001b[1m15s\u001b[0m 10ms/step - accuracy: 0.9945 - loss: 0.0162\n",
      "Epoch 10/10\n",
      "\u001b[1m1532/1532\u001b[0m \u001b[32m━━━━━━━━━━━━━━━━━━━━\u001b[0m\u001b[37m\u001b[0m \u001b[1m15s\u001b[0m 10ms/step - accuracy: 0.9961 - loss: 0.0117\n",
      "\n",
      "fit: 10\n",
      "Epoch 1/10\n",
      "\u001b[1m1532/1532\u001b[0m \u001b[32m━━━━━━━━━━━━━━━━━━━━\u001b[0m\u001b[37m\u001b[0m \u001b[1m16s\u001b[0m 9ms/step - accuracy: 0.6642 - loss: 1.0734\n",
      "Epoch 2/10\n",
      "\u001b[1m1532/1532\u001b[0m \u001b[32m━━━━━━━━━━━━━━━━━━━━\u001b[0m\u001b[37m\u001b[0m \u001b[1m14s\u001b[0m 9ms/step - accuracy: 0.9537 - loss: 0.1698\n",
      "Epoch 3/10\n",
      "\u001b[1m1532/1532\u001b[0m \u001b[32m━━━━━━━━━━━━━━━━━━━━\u001b[0m\u001b[37m\u001b[0m \u001b[1m14s\u001b[0m 9ms/step - accuracy: 0.9688 - loss: 0.1063\n",
      "Epoch 4/10\n",
      "\u001b[1m1532/1532\u001b[0m \u001b[32m━━━━━━━━━━━━━━━━━━━━\u001b[0m\u001b[37m\u001b[0m \u001b[1m14s\u001b[0m 9ms/step - accuracy: 0.9770 - loss: 0.0783\n",
      "Epoch 5/10\n",
      "\u001b[1m1532/1532\u001b[0m \u001b[32m━━━━━━━━━━━━━━━━━━━━\u001b[0m\u001b[37m\u001b[0m \u001b[1m14s\u001b[0m 9ms/step - accuracy: 0.9827 - loss: 0.0574\n",
      "Epoch 6/10\n",
      "\u001b[1m1532/1532\u001b[0m \u001b[32m━━━━━━━━━━━━━━━━━━━━\u001b[0m\u001b[37m\u001b[0m \u001b[1m16s\u001b[0m 10ms/step - accuracy: 0.9875 - loss: 0.0450\n",
      "Epoch 7/10\n",
      "\u001b[1m1532/1532\u001b[0m \u001b[32m━━━━━━━━━━━━━━━━━━━━\u001b[0m\u001b[37m\u001b[0m \u001b[1m17s\u001b[0m 11ms/step - accuracy: 0.9905 - loss: 0.0316\n",
      "Epoch 8/10\n",
      "\u001b[1m1532/1532\u001b[0m \u001b[32m━━━━━━━━━━━━━━━━━━━━\u001b[0m\u001b[37m\u001b[0m \u001b[1m15s\u001b[0m 10ms/step - accuracy: 0.9925 - loss: 0.0233\n",
      "Epoch 9/10\n",
      "\u001b[1m1532/1532\u001b[0m \u001b[32m━━━━━━━━━━━━━━━━━━━━\u001b[0m\u001b[37m\u001b[0m \u001b[1m14s\u001b[0m 9ms/step - accuracy: 0.9929 - loss: 0.0223\n",
      "Epoch 10/10\n",
      "\u001b[1m1532/1532\u001b[0m \u001b[32m━━━━━━━━━━━━━━━━━━━━\u001b[0m\u001b[37m\u001b[0m \u001b[1m15s\u001b[0m 10ms/step - accuracy: 0.9956 - loss: 0.0147\n",
      "\n",
      "fit: 11\n",
      "Epoch 1/10\n",
      "\u001b[1m1532/1532\u001b[0m \u001b[32m━━━━━━━━━━━━━━━━━━━━\u001b[0m\u001b[37m\u001b[0m \u001b[1m17s\u001b[0m 10ms/step - accuracy: 0.8888 - loss: 0.3615\n",
      "Epoch 2/10\n",
      "\u001b[1m1532/1532\u001b[0m \u001b[32m━━━━━━━━━━━━━━━━━━━━\u001b[0m\u001b[37m\u001b[0m \u001b[1m15s\u001b[0m 10ms/step - accuracy: 0.9587 - loss: 0.1347\n",
      "Epoch 3/10\n",
      "\u001b[1m1532/1532\u001b[0m \u001b[32m━━━━━━━━━━━━━━━━━━━━\u001b[0m\u001b[37m\u001b[0m \u001b[1m16s\u001b[0m 11ms/step - accuracy: 0.9672 - loss: 0.1036\n",
      "Epoch 4/10\n",
      "\u001b[1m1532/1532\u001b[0m \u001b[32m━━━━━━━━━━━━━━━━━━━━\u001b[0m\u001b[37m\u001b[0m \u001b[1m15s\u001b[0m 10ms/step - accuracy: 0.9738 - loss: 0.0820\n",
      "Epoch 5/10\n",
      "\u001b[1m1532/1532\u001b[0m \u001b[32m━━━━━━━━━━━━━━━━━━━━\u001b[0m\u001b[37m\u001b[0m \u001b[1m16s\u001b[0m 10ms/step - accuracy: 0.9786 - loss: 0.0675\n",
      "Epoch 6/10\n",
      "\u001b[1m1532/1532\u001b[0m \u001b[32m━━━━━━━━━━━━━━━━━━━━\u001b[0m\u001b[37m\u001b[0m \u001b[1m16s\u001b[0m 10ms/step - accuracy: 0.9819 - loss: 0.0569\n",
      "Epoch 7/10\n",
      "\u001b[1m1532/1532\u001b[0m \u001b[32m━━━━━━━━━━━━━━━━━━━━\u001b[0m\u001b[37m\u001b[0m \u001b[1m16s\u001b[0m 11ms/step - accuracy: 0.9825 - loss: 0.0542\n",
      "Epoch 8/10\n",
      "\u001b[1m1532/1532\u001b[0m \u001b[32m━━━━━━━━━━━━━━━━━━━━\u001b[0m\u001b[37m\u001b[0m \u001b[1m16s\u001b[0m 10ms/step - accuracy: 0.9837 - loss: 0.0466\n",
      "Epoch 9/10\n",
      "\u001b[1m1532/1532\u001b[0m \u001b[32m━━━━━━━━━━━━━━━━━━━━\u001b[0m\u001b[37m\u001b[0m \u001b[1m15s\u001b[0m 10ms/step - accuracy: 0.9860 - loss: 0.0418\n",
      "Epoch 10/10\n",
      "\u001b[1m1532/1532\u001b[0m \u001b[32m━━━━━━━━━━━━━━━━━━━━\u001b[0m\u001b[37m\u001b[0m \u001b[1m16s\u001b[0m 10ms/step - accuracy: 0.9864 - loss: 0.0416\n",
      "\n",
      "fit: 12\n",
      "Epoch 1/10\n",
      "\u001b[1m1532/1532\u001b[0m \u001b[32m━━━━━━━━━━━━━━━━━━━━\u001b[0m\u001b[37m\u001b[0m \u001b[1m16s\u001b[0m 9ms/step - accuracy: 0.8842 - loss: 0.3849\n",
      "Epoch 2/10\n",
      "\u001b[1m1532/1532\u001b[0m \u001b[32m━━━━━━━━━━━━━━━━━━━━\u001b[0m\u001b[37m\u001b[0m \u001b[1m15s\u001b[0m 10ms/step - accuracy: 0.9543 - loss: 0.1506\n",
      "Epoch 3/10\n",
      "\u001b[1m1532/1532\u001b[0m \u001b[32m━━━━━━━━━━━━━━━━━━━━\u001b[0m\u001b[37m\u001b[0m \u001b[1m14s\u001b[0m 9ms/step - accuracy: 0.9639 - loss: 0.1181\n",
      "Epoch 4/10\n",
      "\u001b[1m1532/1532\u001b[0m \u001b[32m━━━━━━━━━━━━━━━━━━━━\u001b[0m\u001b[37m\u001b[0m \u001b[1m14s\u001b[0m 9ms/step - accuracy: 0.9687 - loss: 0.0981\n",
      "Epoch 5/10\n",
      "\u001b[1m1532/1532\u001b[0m \u001b[32m━━━━━━━━━━━━━━━━━━━━\u001b[0m\u001b[37m\u001b[0m \u001b[1m14s\u001b[0m 9ms/step - accuracy: 0.9717 - loss: 0.0900\n",
      "Epoch 6/10\n",
      "\u001b[1m1532/1532\u001b[0m \u001b[32m━━━━━━━━━━━━━━━━━━━━\u001b[0m\u001b[37m\u001b[0m \u001b[1m15s\u001b[0m 10ms/step - accuracy: 0.9740 - loss: 0.0787\n",
      "Epoch 7/10\n",
      "\u001b[1m1532/1532\u001b[0m \u001b[32m━━━━━━━━━━━━━━━━━━━━\u001b[0m\u001b[37m\u001b[0m \u001b[1m14s\u001b[0m 9ms/step - accuracy: 0.9778 - loss: 0.0718\n",
      "Epoch 8/10\n",
      "\u001b[1m1532/1532\u001b[0m \u001b[32m━━━━━━━━━━━━━━━━━━━━\u001b[0m\u001b[37m\u001b[0m \u001b[1m14s\u001b[0m 9ms/step - accuracy: 0.9781 - loss: 0.0684\n",
      "Epoch 9/10\n",
      "\u001b[1m1532/1532\u001b[0m \u001b[32m━━━━━━━━━━━━━━━━━━━━\u001b[0m\u001b[37m\u001b[0m \u001b[1m14s\u001b[0m 9ms/step - accuracy: 0.9817 - loss: 0.0555\n",
      "Epoch 10/10\n",
      "\u001b[1m1532/1532\u001b[0m \u001b[32m━━━━━━━━━━━━━━━━━━━━\u001b[0m\u001b[37m\u001b[0m \u001b[1m15s\u001b[0m 9ms/step - accuracy: 0.9837 - loss: 0.0533\n",
      "\n",
      "fit: 13\n",
      "Epoch 1/10\n",
      "\u001b[1m1532/1532\u001b[0m \u001b[32m━━━━━━━━━━━━━━━━━━━━\u001b[0m\u001b[37m\u001b[0m \u001b[1m16s\u001b[0m 9ms/step - accuracy: 0.7514 - loss: 0.9603\n",
      "Epoch 2/10\n",
      "\u001b[1m1532/1532\u001b[0m \u001b[32m━━━━━━━━━━━━━━━━━━━━\u001b[0m\u001b[37m\u001b[0m \u001b[1m14s\u001b[0m 9ms/step - accuracy: 0.9496 - loss: 0.1794\n",
      "Epoch 3/10\n",
      "\u001b[1m1532/1532\u001b[0m \u001b[32m━━━━━━━━━━━━━━━━━━━━\u001b[0m\u001b[37m\u001b[0m \u001b[1m14s\u001b[0m 9ms/step - accuracy: 0.9678 - loss: 0.1117\n",
      "Epoch 4/10\n",
      "\u001b[1m1532/1532\u001b[0m \u001b[32m━━━━━━━━━━━━━━━━━━━━\u001b[0m\u001b[37m\u001b[0m \u001b[1m14s\u001b[0m 9ms/step - accuracy: 0.9796 - loss: 0.0716\n",
      "Epoch 5/10\n",
      "\u001b[1m1532/1532\u001b[0m \u001b[32m━━━━━━━━━━━━━━━━━━━━\u001b[0m\u001b[37m\u001b[0m \u001b[1m14s\u001b[0m 9ms/step - accuracy: 0.9840 - loss: 0.0543\n",
      "Epoch 6/10\n",
      "\u001b[1m1532/1532\u001b[0m \u001b[32m━━━━━━━━━━━━━━━━━━━━\u001b[0m\u001b[37m\u001b[0m \u001b[1m14s\u001b[0m 9ms/step - accuracy: 0.9881 - loss: 0.0399\n",
      "Epoch 7/10\n",
      "\u001b[1m1532/1532\u001b[0m \u001b[32m━━━━━━━━━━━━━━━━━━━━\u001b[0m\u001b[37m\u001b[0m \u001b[1m14s\u001b[0m 9ms/step - accuracy: 0.9926 - loss: 0.0274\n",
      "Epoch 8/10\n",
      "\u001b[1m1532/1532\u001b[0m \u001b[32m━━━━━━━━━━━━━━━━━━━━\u001b[0m\u001b[37m\u001b[0m \u001b[1m14s\u001b[0m 9ms/step - accuracy: 0.9935 - loss: 0.0229\n",
      "Epoch 9/10\n",
      "\u001b[1m1532/1532\u001b[0m \u001b[32m━━━━━━━━━━━━━━━━━━━━\u001b[0m\u001b[37m\u001b[0m \u001b[1m14s\u001b[0m 9ms/step - accuracy: 0.9954 - loss: 0.0152\n",
      "Epoch 10/10\n",
      "\u001b[1m1532/1532\u001b[0m \u001b[32m━━━━━━━━━━━━━━━━━━━━\u001b[0m\u001b[37m\u001b[0m \u001b[1m14s\u001b[0m 9ms/step - accuracy: 0.9966 - loss: 0.0114\n",
      "\n",
      "fit: 14\n",
      "Epoch 1/10\n",
      "\u001b[1m1532/1532\u001b[0m \u001b[32m━━━━━━━━━━━━━━━━━━━━\u001b[0m\u001b[37m\u001b[0m \u001b[1m16s\u001b[0m 9ms/step - accuracy: 0.8790 - loss: 0.4282\n",
      "Epoch 2/10\n",
      "\u001b[1m1532/1532\u001b[0m \u001b[32m━━━━━━━━━━━━━━━━━━━━\u001b[0m\u001b[37m\u001b[0m \u001b[1m14s\u001b[0m 9ms/step - accuracy: 0.9524 - loss: 0.1588\n",
      "Epoch 3/10\n",
      "\u001b[1m1532/1532\u001b[0m \u001b[32m━━━━━━━━━━━━━━━━━━━━\u001b[0m\u001b[37m\u001b[0m \u001b[1m14s\u001b[0m 9ms/step - accuracy: 0.9671 - loss: 0.1138\n",
      "Epoch 4/10\n",
      "\u001b[1m1532/1532\u001b[0m \u001b[32m━━━━━━━━━━━━━━━━━━━━\u001b[0m\u001b[37m\u001b[0m \u001b[1m20s\u001b[0m 9ms/step - accuracy: 0.9707 - loss: 0.0946\n",
      "Epoch 5/10\n",
      "\u001b[1m1532/1532\u001b[0m \u001b[32m━━━━━━━━━━━━━━━━━━━━\u001b[0m\u001b[37m\u001b[0m \u001b[1m14s\u001b[0m 9ms/step - accuracy: 0.9749 - loss: 0.0822\n",
      "Epoch 6/10\n",
      "\u001b[1m1532/1532\u001b[0m \u001b[32m━━━━━━━━━━━━━━━━━━━━\u001b[0m\u001b[37m\u001b[0m \u001b[1m15s\u001b[0m 9ms/step - accuracy: 0.9760 - loss: 0.0756\n",
      "Epoch 7/10\n",
      "\u001b[1m1532/1532\u001b[0m \u001b[32m━━━━━━━━━━━━━━━━━━━━\u001b[0m\u001b[37m\u001b[0m \u001b[1m14s\u001b[0m 9ms/step - accuracy: 0.9783 - loss: 0.0680\n",
      "Epoch 8/10\n",
      "\u001b[1m1532/1532\u001b[0m \u001b[32m━━━━━━━━━━━━━━━━━━━━\u001b[0m\u001b[37m\u001b[0m \u001b[1m14s\u001b[0m 9ms/step - accuracy: 0.9818 - loss: 0.0582\n",
      "Epoch 9/10\n",
      "\u001b[1m1532/1532\u001b[0m \u001b[32m━━━━━━━━━━━━━━━━━━━━\u001b[0m\u001b[37m\u001b[0m \u001b[1m14s\u001b[0m 9ms/step - accuracy: 0.9820 - loss: 0.0595\n",
      "Epoch 10/10\n",
      "\u001b[1m1532/1532\u001b[0m \u001b[32m━━━━━━━━━━━━━━━━━━━━\u001b[0m\u001b[37m\u001b[0m \u001b[1m14s\u001b[0m 9ms/step - accuracy: 0.9843 - loss: 0.0478\n",
      "\n",
      "fit: 15\n",
      "Epoch 1/10\n",
      "\u001b[1m1532/1532\u001b[0m \u001b[32m━━━━━━━━━━━━━━━━━━━━\u001b[0m\u001b[37m\u001b[0m \u001b[1m16s\u001b[0m 9ms/step - accuracy: 0.8924 - loss: 0.3757\n",
      "Epoch 2/10\n",
      "\u001b[1m1532/1532\u001b[0m \u001b[32m━━━━━━━━━━━━━━━━━━━━\u001b[0m\u001b[37m\u001b[0m \u001b[1m14s\u001b[0m 9ms/step - accuracy: 0.9709 - loss: 0.0967\n",
      "Epoch 3/10\n",
      "\u001b[1m1532/1532\u001b[0m \u001b[32m━━━━━━━━━━━━━━━━━━━━\u001b[0m\u001b[37m\u001b[0m \u001b[1m14s\u001b[0m 9ms/step - accuracy: 0.9804 - loss: 0.0621\n",
      "Epoch 4/10\n",
      "\u001b[1m1532/1532\u001b[0m \u001b[32m━━━━━━━━━━━━━━━━━━━━\u001b[0m\u001b[37m\u001b[0m \u001b[1m14s\u001b[0m 9ms/step - accuracy: 0.9868 - loss: 0.0427\n",
      "Epoch 5/10\n",
      "\u001b[1m1532/1532\u001b[0m \u001b[32m━━━━━━━━━━━━━━━━━━━━\u001b[0m\u001b[37m\u001b[0m \u001b[1m14s\u001b[0m 9ms/step - accuracy: 0.9885 - loss: 0.0364\n",
      "Epoch 6/10\n",
      "\u001b[1m1532/1532\u001b[0m \u001b[32m━━━━━━━━━━━━━━━━━━━━\u001b[0m\u001b[37m\u001b[0m \u001b[1m14s\u001b[0m 9ms/step - accuracy: 0.9904 - loss: 0.0280\n",
      "Epoch 7/10\n",
      "\u001b[1m1532/1532\u001b[0m \u001b[32m━━━━━━━━━━━━━━━━━━━━\u001b[0m\u001b[37m\u001b[0m \u001b[1m14s\u001b[0m 9ms/step - accuracy: 0.9927 - loss: 0.0242\n",
      "Epoch 8/10\n",
      "\u001b[1m1532/1532\u001b[0m \u001b[32m━━━━━━━━━━━━━━━━━━━━\u001b[0m\u001b[37m\u001b[0m \u001b[1m14s\u001b[0m 9ms/step - accuracy: 0.9934 - loss: 0.0223\n",
      "Epoch 9/10\n",
      "\u001b[1m1532/1532\u001b[0m \u001b[32m━━━━━━━━━━━━━━━━━━━━\u001b[0m\u001b[37m\u001b[0m \u001b[1m14s\u001b[0m 9ms/step - accuracy: 0.9933 - loss: 0.0195\n",
      "Epoch 10/10\n",
      "\u001b[1m1532/1532\u001b[0m \u001b[32m━━━━━━━━━━━━━━━━━━━━\u001b[0m\u001b[37m\u001b[0m \u001b[1m14s\u001b[0m 9ms/step - accuracy: 0.9953 - loss: 0.0168\n",
      "\n"
     ]
    }
   ],
   "source": [
    "epochs = 10\n",
    "\n",
    "for i in range(len(models)):\n",
    "    print(\"fit:\",i+1)\n",
    "    models[i].fit(x=x_train, y=y_train, epochs=epochs)\n",
    "    print()"
   ]
  },
  {
   "cell_type": "code",
   "execution_count": 17,
   "id": "6ac1e42d-7104-4c06-8a0b-81214f0b8397",
   "metadata": {},
   "outputs": [
    {
     "name": "stdout",
     "output_type": "stream",
     "text": [
      "(21000, 784) (21000, 10)\n"
     ]
    }
   ],
   "source": [
    "print(x_test.shape,y_test.shape)"
   ]
  },
  {
   "cell_type": "code",
   "execution_count": 18,
   "id": "f8720dbe-61e0-4f01-a971-0ade1ece1173",
   "metadata": {},
   "outputs": [
    {
     "name": "stdout",
     "output_type": "stream",
     "text": [
      "\u001b[1m657/657\u001b[0m \u001b[32m━━━━━━━━━━━━━━━━━━━━\u001b[0m\u001b[37m\u001b[0m \u001b[1m2s\u001b[0m 2ms/step - accuracy: 0.9790 - loss: 0.1032\n",
      "loss for model 1 : 0.10178357362747192, accuracy for model 1 : 0.9789524078369141\n",
      "\n",
      "\u001b[1m657/657\u001b[0m \u001b[32m━━━━━━━━━━━━━━━━━━━━\u001b[0m\u001b[37m\u001b[0m \u001b[1m2s\u001b[0m 2ms/step - accuracy: 0.9761 - loss: 0.1088\n",
      "loss for model 2 : 0.10664847493171692, accuracy for model 2 : 0.9777619242668152\n",
      "\n",
      "\u001b[1m657/657\u001b[0m \u001b[32m━━━━━━━━━━━━━━━━━━━━\u001b[0m\u001b[37m\u001b[0m \u001b[1m2s\u001b[0m 2ms/step - accuracy: 0.9757 - loss: 0.1005\n",
      "loss for model 3 : 0.09598889946937561, accuracy for model 3 : 0.976190447807312\n",
      "\n",
      "\u001b[1m657/657\u001b[0m \u001b[32m━━━━━━━━━━━━━━━━━━━━\u001b[0m\u001b[37m\u001b[0m \u001b[1m2s\u001b[0m 2ms/step - accuracy: 0.9703 - loss: 0.1286\n",
      "loss for model 4 : 0.11839110404253006, accuracy for model 4 : 0.9717618823051453\n",
      "\n",
      "\u001b[1m657/657\u001b[0m \u001b[32m━━━━━━━━━━━━━━━━━━━━\u001b[0m\u001b[37m\u001b[0m \u001b[1m2s\u001b[0m 2ms/step - accuracy: 0.9727 - loss: 0.1013\n",
      "loss for model 5 : 0.10063855350017548, accuracy for model 5 : 0.973714292049408\n",
      "\n",
      "\u001b[1m657/657\u001b[0m \u001b[32m━━━━━━━━━━━━━━━━━━━━\u001b[0m\u001b[37m\u001b[0m \u001b[1m2s\u001b[0m 2ms/step - accuracy: 0.9676 - loss: 0.1204\n",
      "loss for model 6 : 0.11907979846000671, accuracy for model 6 : 0.9679047465324402\n",
      "\n",
      "\u001b[1m657/657\u001b[0m \u001b[32m━━━━━━━━━━━━━━━━━━━━\u001b[0m\u001b[37m\u001b[0m \u001b[1m2s\u001b[0m 2ms/step - accuracy: 0.9779 - loss: 0.1148\n",
      "loss for model 7 : 0.11684730648994446, accuracy for model 7 : 0.9770952463150024\n",
      "\n",
      "\u001b[1m657/657\u001b[0m \u001b[32m━━━━━━━━━━━━━━━━━━━━\u001b[0m\u001b[37m\u001b[0m \u001b[1m2s\u001b[0m 2ms/step - accuracy: 0.9778 - loss: 0.1101\n",
      "loss for model 8 : 0.11197090893983841, accuracy for model 8 : 0.9770952463150024\n",
      "\n",
      "\u001b[1m657/657\u001b[0m \u001b[32m━━━━━━━━━━━━━━━━━━━━\u001b[0m\u001b[37m\u001b[0m \u001b[1m2s\u001b[0m 2ms/step - accuracy: 0.9764 - loss: 0.0979\n",
      "loss for model 9 : 0.08983060717582703, accuracy for model 9 : 0.9770952463150024\n",
      "\n",
      "\u001b[1m657/657\u001b[0m \u001b[32m━━━━━━━━━━━━━━━━━━━━\u001b[0m\u001b[37m\u001b[0m \u001b[1m2s\u001b[0m 2ms/step - accuracy: 0.9722 - loss: 0.1087\n",
      "loss for model 10 : 0.1048358902335167, accuracy for model 10 : 0.9731904864311218\n",
      "\n",
      "\u001b[1m657/657\u001b[0m \u001b[32m━━━━━━━━━━━━━━━━━━━━\u001b[0m\u001b[37m\u001b[0m \u001b[1m2s\u001b[0m 2ms/step - accuracy: 0.9720 - loss: 0.0980\n",
      "loss for model 11 : 0.09894692897796631, accuracy for model 11 : 0.9722381234169006\n",
      "\n",
      "\u001b[1m657/657\u001b[0m \u001b[32m━━━━━━━━━━━━━━━━━━━━\u001b[0m\u001b[37m\u001b[0m \u001b[1m2s\u001b[0m 3ms/step - accuracy: 0.9600 - loss: 0.1381\n",
      "loss for model 12 : 0.13469669222831726, accuracy for model 12 : 0.9620476365089417\n",
      "\n",
      "\u001b[1m657/657\u001b[0m \u001b[32m━━━━━━━━━━━━━━━━━━━━\u001b[0m\u001b[37m\u001b[0m \u001b[1m2s\u001b[0m 2ms/step - accuracy: 0.9789 - loss: 0.0845\n",
      "loss for model 13 : 0.08327876776456833, accuracy for model 13 : 0.9788095355033875\n",
      "\n",
      "\u001b[1m657/657\u001b[0m \u001b[32m━━━━━━━━━━━━━━━━━━━━\u001b[0m\u001b[37m\u001b[0m \u001b[1m2s\u001b[0m 2ms/step - accuracy: 0.9704 - loss: 0.0985\n",
      "loss for model 14 : 0.09939339011907578, accuracy for model 14 : 0.970380961894989\n",
      "\n",
      "\u001b[1m657/657\u001b[0m \u001b[32m━━━━━━━━━━━━━━━━━━━━\u001b[0m\u001b[37m\u001b[0m \u001b[1m2s\u001b[0m 2ms/step - accuracy: 0.9742 - loss: 0.1171\n",
      "loss for model 15 : 0.1186743825674057, accuracy for model 15 : 0.9737619161605835\n",
      "\n"
     ]
    }
   ],
   "source": [
    "tloss =  [0, 0, 0, 0, 0, 0, 0, 0, 0, 0, 0, 0, 0, 0, 0]\n",
    "taccuracy =  [0, 0, 0, 0, 0, 0, 0, 0, 0, 0, 0, 0, 0, 0, 0]\n",
    "\n",
    "for i in range(len(models)):\n",
    "    tloss[i], taccuracy[i] = models[i].evaluate(x_test, y_test)\n",
    "    print(\"loss for model {} : {}, accuracy for model {} : {}\".format(i+1, tloss[i], i+1, taccuracy[i]))\n",
    "    print()"
   ]
  },
  {
   "cell_type": "code",
   "execution_count": 19,
   "id": "d3c6dee5-642a-4428-ba52-1f53ddc23b17",
   "metadata": {},
   "outputs": [
    {
     "name": "stdout",
     "output_type": "stream",
     "text": [
      "Model:1\n",
      "\u001b[1m657/657\u001b[0m \u001b[32m━━━━━━━━━━━━━━━━━━━━\u001b[0m\u001b[37m\u001b[0m \u001b[1m1s\u001b[0m 2ms/step\n",
      "[array([[3.86293131e-09, 1.87981497e-09, 3.10755581e-08, ...,\n",
      "        1.00000000e+00, 1.21787858e-09, 3.44385995e-08],\n",
      "       [1.00000000e+00, 3.41053678e-11, 8.24212254e-09, ...,\n",
      "        2.14059916e-11, 3.18579563e-09, 8.88305596e-10],\n",
      "       [3.12591940e-15, 4.72522965e-10, 1.53104578e-11, ...,\n",
      "        1.30852225e-14, 1.48923015e-13, 1.01296564e-07],\n",
      "       ...,\n",
      "       [1.00000000e+00, 1.04341498e-24, 2.16925965e-18, ...,\n",
      "        4.84270789e-20, 1.09879163e-24, 6.53226515e-17],\n",
      "       [9.50715709e-15, 3.83009666e-11, 1.00000000e+00, ...,\n",
      "        4.54949571e-08, 4.49784476e-09, 1.81806593e-14],\n",
      "       [5.92502603e-10, 7.38358766e-12, 1.80206577e-12, ...,\n",
      "        7.63732466e-10, 1.72557790e-09, 1.00000000e+00]], dtype=float32)]\n",
      "[array([7, 0, 4, ..., 0, 2, 9], dtype=int64)]\n",
      "\n",
      "Model:2\n",
      "\u001b[1m657/657\u001b[0m \u001b[32m━━━━━━━━━━━━━━━━━━━━\u001b[0m\u001b[37m\u001b[0m \u001b[1m1s\u001b[0m 2ms/step\n",
      "[array([[3.86293131e-09, 1.87981497e-09, 3.10755581e-08, ...,\n",
      "        1.00000000e+00, 1.21787858e-09, 3.44385995e-08],\n",
      "       [1.00000000e+00, 3.41053678e-11, 8.24212254e-09, ...,\n",
      "        2.14059916e-11, 3.18579563e-09, 8.88305596e-10],\n",
      "       [3.12591940e-15, 4.72522965e-10, 1.53104578e-11, ...,\n",
      "        1.30852225e-14, 1.48923015e-13, 1.01296564e-07],\n",
      "       ...,\n",
      "       [1.00000000e+00, 1.04341498e-24, 2.16925965e-18, ...,\n",
      "        4.84270789e-20, 1.09879163e-24, 6.53226515e-17],\n",
      "       [9.50715709e-15, 3.83009666e-11, 1.00000000e+00, ...,\n",
      "        4.54949571e-08, 4.49784476e-09, 1.81806593e-14],\n",
      "       [5.92502603e-10, 7.38358766e-12, 1.80206577e-12, ...,\n",
      "        7.63732466e-10, 1.72557790e-09, 1.00000000e+00]], dtype=float32), array([[8.9507533e-11, 1.0150946e-07, 3.9055628e-10, ..., 9.9998975e-01,\n",
      "        3.1622244e-10, 9.9524932e-06],\n",
      "       [9.9995446e-01, 5.5134759e-08, 3.0470183e-06, ..., 7.2731127e-06,\n",
      "        1.2922625e-06, 2.8912033e-05],\n",
      "       [1.5021455e-31, 9.2841612e-30, 2.4442867e-22, ..., 1.0578576e-27,\n",
      "        2.5699723e-27, 8.1285444e-17],\n",
      "       ...,\n",
      "       [1.0000000e+00, 3.7489365e-15, 5.7775701e-10, ..., 7.2592404e-11,\n",
      "        2.0291644e-12, 4.7682029e-08],\n",
      "       [2.7386055e-10, 7.3188612e-13, 1.0000000e+00, ..., 1.4179767e-09,\n",
      "        7.1494544e-10, 3.3885169e-11],\n",
      "       [5.9196749e-12, 5.5752356e-14, 7.3031824e-14, ..., 9.3431585e-10,\n",
      "        1.4742203e-09, 9.9999976e-01]], dtype=float32)]\n",
      "[array([7, 0, 4, ..., 0, 2, 9], dtype=int64), array([7, 0, 4, ..., 0, 2, 9], dtype=int64)]\n",
      "\n",
      "Model:3\n",
      "\u001b[1m657/657\u001b[0m \u001b[32m━━━━━━━━━━━━━━━━━━━━\u001b[0m\u001b[37m\u001b[0m \u001b[1m1s\u001b[0m 2ms/step\n",
      "[array([[3.86293131e-09, 1.87981497e-09, 3.10755581e-08, ...,\n",
      "        1.00000000e+00, 1.21787858e-09, 3.44385995e-08],\n",
      "       [1.00000000e+00, 3.41053678e-11, 8.24212254e-09, ...,\n",
      "        2.14059916e-11, 3.18579563e-09, 8.88305596e-10],\n",
      "       [3.12591940e-15, 4.72522965e-10, 1.53104578e-11, ...,\n",
      "        1.30852225e-14, 1.48923015e-13, 1.01296564e-07],\n",
      "       ...,\n",
      "       [1.00000000e+00, 1.04341498e-24, 2.16925965e-18, ...,\n",
      "        4.84270789e-20, 1.09879163e-24, 6.53226515e-17],\n",
      "       [9.50715709e-15, 3.83009666e-11, 1.00000000e+00, ...,\n",
      "        4.54949571e-08, 4.49784476e-09, 1.81806593e-14],\n",
      "       [5.92502603e-10, 7.38358766e-12, 1.80206577e-12, ...,\n",
      "        7.63732466e-10, 1.72557790e-09, 1.00000000e+00]], dtype=float32), array([[8.9507533e-11, 1.0150946e-07, 3.9055628e-10, ..., 9.9998975e-01,\n",
      "        3.1622244e-10, 9.9524932e-06],\n",
      "       [9.9995446e-01, 5.5134759e-08, 3.0470183e-06, ..., 7.2731127e-06,\n",
      "        1.2922625e-06, 2.8912033e-05],\n",
      "       [1.5021455e-31, 9.2841612e-30, 2.4442867e-22, ..., 1.0578576e-27,\n",
      "        2.5699723e-27, 8.1285444e-17],\n",
      "       ...,\n",
      "       [1.0000000e+00, 3.7489365e-15, 5.7775701e-10, ..., 7.2592404e-11,\n",
      "        2.0291644e-12, 4.7682029e-08],\n",
      "       [2.7386055e-10, 7.3188612e-13, 1.0000000e+00, ..., 1.4179767e-09,\n",
      "        7.1494544e-10, 3.3885169e-11],\n",
      "       [5.9196749e-12, 5.5752356e-14, 7.3031824e-14, ..., 9.3431585e-10,\n",
      "        1.4742203e-09, 9.9999976e-01]], dtype=float32), array([[6.7551387e-05, 3.3141472e-04, 1.5235701e-05, ..., 9.9612051e-01,\n",
      "        8.3088553e-06, 1.6944320e-03],\n",
      "       [9.9996006e-01, 1.9402669e-06, 3.3291681e-06, ..., 6.9794146e-07,\n",
      "        1.3653097e-06, 1.9340853e-06],\n",
      "       [5.7982827e-08, 3.8747876e-07, 6.9573332e-07, ..., 9.0547945e-07,\n",
      "        1.9617207e-07, 2.7099670e-05],\n",
      "       ...,\n",
      "       [9.9993992e-01, 1.9114229e-06, 1.7990301e-06, ..., 3.2038304e-07,\n",
      "        3.5003723e-08, 5.7036658e-07],\n",
      "       [1.5980012e-07, 8.2130470e-07, 9.9999368e-01, ..., 1.7576696e-06,\n",
      "        1.9789338e-06, 1.0080000e-08],\n",
      "       [1.6337478e-07, 7.2221820e-07, 1.8204562e-09, ..., 1.0887284e-06,\n",
      "        3.7960515e-06, 9.9995530e-01]], dtype=float32)]\n",
      "[array([7, 0, 4, ..., 0, 2, 9], dtype=int64), array([7, 0, 4, ..., 0, 2, 9], dtype=int64), array([7, 0, 4, ..., 0, 2, 9], dtype=int64)]\n",
      "\n",
      "Model:4\n",
      "\u001b[1m657/657\u001b[0m \u001b[32m━━━━━━━━━━━━━━━━━━━━\u001b[0m\u001b[37m\u001b[0m \u001b[1m1s\u001b[0m 2ms/step\n",
      "[array([[3.86293131e-09, 1.87981497e-09, 3.10755581e-08, ...,\n",
      "        1.00000000e+00, 1.21787858e-09, 3.44385995e-08],\n",
      "       [1.00000000e+00, 3.41053678e-11, 8.24212254e-09, ...,\n",
      "        2.14059916e-11, 3.18579563e-09, 8.88305596e-10],\n",
      "       [3.12591940e-15, 4.72522965e-10, 1.53104578e-11, ...,\n",
      "        1.30852225e-14, 1.48923015e-13, 1.01296564e-07],\n",
      "       ...,\n",
      "       [1.00000000e+00, 1.04341498e-24, 2.16925965e-18, ...,\n",
      "        4.84270789e-20, 1.09879163e-24, 6.53226515e-17],\n",
      "       [9.50715709e-15, 3.83009666e-11, 1.00000000e+00, ...,\n",
      "        4.54949571e-08, 4.49784476e-09, 1.81806593e-14],\n",
      "       [5.92502603e-10, 7.38358766e-12, 1.80206577e-12, ...,\n",
      "        7.63732466e-10, 1.72557790e-09, 1.00000000e+00]], dtype=float32), array([[8.9507533e-11, 1.0150946e-07, 3.9055628e-10, ..., 9.9998975e-01,\n",
      "        3.1622244e-10, 9.9524932e-06],\n",
      "       [9.9995446e-01, 5.5134759e-08, 3.0470183e-06, ..., 7.2731127e-06,\n",
      "        1.2922625e-06, 2.8912033e-05],\n",
      "       [1.5021455e-31, 9.2841612e-30, 2.4442867e-22, ..., 1.0578576e-27,\n",
      "        2.5699723e-27, 8.1285444e-17],\n",
      "       ...,\n",
      "       [1.0000000e+00, 3.7489365e-15, 5.7775701e-10, ..., 7.2592404e-11,\n",
      "        2.0291644e-12, 4.7682029e-08],\n",
      "       [2.7386055e-10, 7.3188612e-13, 1.0000000e+00, ..., 1.4179767e-09,\n",
      "        7.1494544e-10, 3.3885169e-11],\n",
      "       [5.9196749e-12, 5.5752356e-14, 7.3031824e-14, ..., 9.3431585e-10,\n",
      "        1.4742203e-09, 9.9999976e-01]], dtype=float32), array([[6.7551387e-05, 3.3141472e-04, 1.5235701e-05, ..., 9.9612051e-01,\n",
      "        8.3088553e-06, 1.6944320e-03],\n",
      "       [9.9996006e-01, 1.9402669e-06, 3.3291681e-06, ..., 6.9794146e-07,\n",
      "        1.3653097e-06, 1.9340853e-06],\n",
      "       [5.7982827e-08, 3.8747876e-07, 6.9573332e-07, ..., 9.0547945e-07,\n",
      "        1.9617207e-07, 2.7099670e-05],\n",
      "       ...,\n",
      "       [9.9993992e-01, 1.9114229e-06, 1.7990301e-06, ..., 3.2038304e-07,\n",
      "        3.5003723e-08, 5.7036658e-07],\n",
      "       [1.5980012e-07, 8.2130470e-07, 9.9999368e-01, ..., 1.7576696e-06,\n",
      "        1.9789338e-06, 1.0080000e-08],\n",
      "       [1.6337478e-07, 7.2221820e-07, 1.8204562e-09, ..., 1.0887284e-06,\n",
      "        3.7960515e-06, 9.9995530e-01]], dtype=float32), array([[5.1995080e-06, 6.9845119e-05, 9.0539535e-05, ..., 9.9969280e-01,\n",
      "        4.3712280e-08, 1.2238520e-04],\n",
      "       [9.9994183e-01, 5.4828666e-09, 3.3036806e-05, ..., 1.1622059e-06,\n",
      "        1.0216382e-07, 1.3561588e-05],\n",
      "       [5.0786280e-06, 1.6569247e-05, 1.7521455e-05, ..., 3.7529804e-05,\n",
      "        6.4677641e-07, 2.1211893e-04],\n",
      "       ...,\n",
      "       [9.9992001e-01, 1.5395996e-08, 1.8769690e-05, ..., 1.4630813e-06,\n",
      "        2.3340894e-08, 1.2781384e-05],\n",
      "       [4.9334371e-06, 1.3318666e-05, 9.9991238e-01, ..., 5.2869356e-05,\n",
      "        5.1314164e-06, 3.6881593e-09],\n",
      "       [1.2033365e-05, 1.0260150e-06, 1.8380923e-08, ..., 6.2966883e-06,\n",
      "        2.2796694e-05, 9.9988377e-01]], dtype=float32)]\n",
      "[array([7, 0, 4, ..., 0, 2, 9], dtype=int64), array([7, 0, 4, ..., 0, 2, 9], dtype=int64), array([7, 0, 4, ..., 0, 2, 9], dtype=int64), array([7, 0, 4, ..., 0, 2, 9], dtype=int64)]\n",
      "\n",
      "Model:5\n",
      "\u001b[1m657/657\u001b[0m \u001b[32m━━━━━━━━━━━━━━━━━━━━\u001b[0m\u001b[37m\u001b[0m \u001b[1m1s\u001b[0m 2ms/step\n",
      "[array([[3.86293131e-09, 1.87981497e-09, 3.10755581e-08, ...,\n",
      "        1.00000000e+00, 1.21787858e-09, 3.44385995e-08],\n",
      "       [1.00000000e+00, 3.41053678e-11, 8.24212254e-09, ...,\n",
      "        2.14059916e-11, 3.18579563e-09, 8.88305596e-10],\n",
      "       [3.12591940e-15, 4.72522965e-10, 1.53104578e-11, ...,\n",
      "        1.30852225e-14, 1.48923015e-13, 1.01296564e-07],\n",
      "       ...,\n",
      "       [1.00000000e+00, 1.04341498e-24, 2.16925965e-18, ...,\n",
      "        4.84270789e-20, 1.09879163e-24, 6.53226515e-17],\n",
      "       [9.50715709e-15, 3.83009666e-11, 1.00000000e+00, ...,\n",
      "        4.54949571e-08, 4.49784476e-09, 1.81806593e-14],\n",
      "       [5.92502603e-10, 7.38358766e-12, 1.80206577e-12, ...,\n",
      "        7.63732466e-10, 1.72557790e-09, 1.00000000e+00]], dtype=float32), array([[8.9507533e-11, 1.0150946e-07, 3.9055628e-10, ..., 9.9998975e-01,\n",
      "        3.1622244e-10, 9.9524932e-06],\n",
      "       [9.9995446e-01, 5.5134759e-08, 3.0470183e-06, ..., 7.2731127e-06,\n",
      "        1.2922625e-06, 2.8912033e-05],\n",
      "       [1.5021455e-31, 9.2841612e-30, 2.4442867e-22, ..., 1.0578576e-27,\n",
      "        2.5699723e-27, 8.1285444e-17],\n",
      "       ...,\n",
      "       [1.0000000e+00, 3.7489365e-15, 5.7775701e-10, ..., 7.2592404e-11,\n",
      "        2.0291644e-12, 4.7682029e-08],\n",
      "       [2.7386055e-10, 7.3188612e-13, 1.0000000e+00, ..., 1.4179767e-09,\n",
      "        7.1494544e-10, 3.3885169e-11],\n",
      "       [5.9196749e-12, 5.5752356e-14, 7.3031824e-14, ..., 9.3431585e-10,\n",
      "        1.4742203e-09, 9.9999976e-01]], dtype=float32), array([[6.7551387e-05, 3.3141472e-04, 1.5235701e-05, ..., 9.9612051e-01,\n",
      "        8.3088553e-06, 1.6944320e-03],\n",
      "       [9.9996006e-01, 1.9402669e-06, 3.3291681e-06, ..., 6.9794146e-07,\n",
      "        1.3653097e-06, 1.9340853e-06],\n",
      "       [5.7982827e-08, 3.8747876e-07, 6.9573332e-07, ..., 9.0547945e-07,\n",
      "        1.9617207e-07, 2.7099670e-05],\n",
      "       ...,\n",
      "       [9.9993992e-01, 1.9114229e-06, 1.7990301e-06, ..., 3.2038304e-07,\n",
      "        3.5003723e-08, 5.7036658e-07],\n",
      "       [1.5980012e-07, 8.2130470e-07, 9.9999368e-01, ..., 1.7576696e-06,\n",
      "        1.9789338e-06, 1.0080000e-08],\n",
      "       [1.6337478e-07, 7.2221820e-07, 1.8204562e-09, ..., 1.0887284e-06,\n",
      "        3.7960515e-06, 9.9995530e-01]], dtype=float32), array([[5.1995080e-06, 6.9845119e-05, 9.0539535e-05, ..., 9.9969280e-01,\n",
      "        4.3712280e-08, 1.2238520e-04],\n",
      "       [9.9994183e-01, 5.4828666e-09, 3.3036806e-05, ..., 1.1622059e-06,\n",
      "        1.0216382e-07, 1.3561588e-05],\n",
      "       [5.0786280e-06, 1.6569247e-05, 1.7521455e-05, ..., 3.7529804e-05,\n",
      "        6.4677641e-07, 2.1211893e-04],\n",
      "       ...,\n",
      "       [9.9992001e-01, 1.5395996e-08, 1.8769690e-05, ..., 1.4630813e-06,\n",
      "        2.3340894e-08, 1.2781384e-05],\n",
      "       [4.9334371e-06, 1.3318666e-05, 9.9991238e-01, ..., 5.2869356e-05,\n",
      "        5.1314164e-06, 3.6881593e-09],\n",
      "       [1.2033365e-05, 1.0260150e-06, 1.8380923e-08, ..., 6.2966883e-06,\n",
      "        2.2796694e-05, 9.9988377e-01]], dtype=float32), array([[9.7483835e-06, 1.7284974e-06, 4.3718680e-07, ..., 9.9592185e-01,\n",
      "        7.7611994e-06, 3.1239614e-03],\n",
      "       [9.9970645e-01, 1.9052199e-07, 1.6458142e-05, ..., 1.6292590e-05,\n",
      "        8.5514666e-06, 2.2832213e-04],\n",
      "       [1.6062953e-06, 1.6155408e-10, 5.3050172e-07, ..., 1.3703506e-06,\n",
      "        5.7569338e-07, 1.3317590e-05],\n",
      "       ...,\n",
      "       [9.9996877e-01, 3.2933320e-07, 2.6234272e-06, ..., 4.4906417e-07,\n",
      "        5.5816571e-07, 9.9859540e-07],\n",
      "       [1.0142967e-06, 1.1299592e-05, 9.9959975e-01, ..., 7.3342992e-05,\n",
      "        9.0372829e-05, 9.9524492e-05],\n",
      "       [7.7226732e-09, 1.0149250e-08, 5.2672267e-10, ..., 1.9938739e-07,\n",
      "        6.9008966e-06, 9.9996424e-01]], dtype=float32)]\n",
      "[array([7, 0, 4, ..., 0, 2, 9], dtype=int64), array([7, 0, 4, ..., 0, 2, 9], dtype=int64), array([7, 0, 4, ..., 0, 2, 9], dtype=int64), array([7, 0, 4, ..., 0, 2, 9], dtype=int64), array([7, 0, 4, ..., 0, 2, 9], dtype=int64)]\n",
      "\n",
      "Model:6\n",
      "\u001b[1m657/657\u001b[0m \u001b[32m━━━━━━━━━━━━━━━━━━━━\u001b[0m\u001b[37m\u001b[0m \u001b[1m1s\u001b[0m 2ms/step\n",
      "[array([[3.86293131e-09, 1.87981497e-09, 3.10755581e-08, ...,\n",
      "        1.00000000e+00, 1.21787858e-09, 3.44385995e-08],\n",
      "       [1.00000000e+00, 3.41053678e-11, 8.24212254e-09, ...,\n",
      "        2.14059916e-11, 3.18579563e-09, 8.88305596e-10],\n",
      "       [3.12591940e-15, 4.72522965e-10, 1.53104578e-11, ...,\n",
      "        1.30852225e-14, 1.48923015e-13, 1.01296564e-07],\n",
      "       ...,\n",
      "       [1.00000000e+00, 1.04341498e-24, 2.16925965e-18, ...,\n",
      "        4.84270789e-20, 1.09879163e-24, 6.53226515e-17],\n",
      "       [9.50715709e-15, 3.83009666e-11, 1.00000000e+00, ...,\n",
      "        4.54949571e-08, 4.49784476e-09, 1.81806593e-14],\n",
      "       [5.92502603e-10, 7.38358766e-12, 1.80206577e-12, ...,\n",
      "        7.63732466e-10, 1.72557790e-09, 1.00000000e+00]], dtype=float32), array([[8.9507533e-11, 1.0150946e-07, 3.9055628e-10, ..., 9.9998975e-01,\n",
      "        3.1622244e-10, 9.9524932e-06],\n",
      "       [9.9995446e-01, 5.5134759e-08, 3.0470183e-06, ..., 7.2731127e-06,\n",
      "        1.2922625e-06, 2.8912033e-05],\n",
      "       [1.5021455e-31, 9.2841612e-30, 2.4442867e-22, ..., 1.0578576e-27,\n",
      "        2.5699723e-27, 8.1285444e-17],\n",
      "       ...,\n",
      "       [1.0000000e+00, 3.7489365e-15, 5.7775701e-10, ..., 7.2592404e-11,\n",
      "        2.0291644e-12, 4.7682029e-08],\n",
      "       [2.7386055e-10, 7.3188612e-13, 1.0000000e+00, ..., 1.4179767e-09,\n",
      "        7.1494544e-10, 3.3885169e-11],\n",
      "       [5.9196749e-12, 5.5752356e-14, 7.3031824e-14, ..., 9.3431585e-10,\n",
      "        1.4742203e-09, 9.9999976e-01]], dtype=float32), array([[6.7551387e-05, 3.3141472e-04, 1.5235701e-05, ..., 9.9612051e-01,\n",
      "        8.3088553e-06, 1.6944320e-03],\n",
      "       [9.9996006e-01, 1.9402669e-06, 3.3291681e-06, ..., 6.9794146e-07,\n",
      "        1.3653097e-06, 1.9340853e-06],\n",
      "       [5.7982827e-08, 3.8747876e-07, 6.9573332e-07, ..., 9.0547945e-07,\n",
      "        1.9617207e-07, 2.7099670e-05],\n",
      "       ...,\n",
      "       [9.9993992e-01, 1.9114229e-06, 1.7990301e-06, ..., 3.2038304e-07,\n",
      "        3.5003723e-08, 5.7036658e-07],\n",
      "       [1.5980012e-07, 8.2130470e-07, 9.9999368e-01, ..., 1.7576696e-06,\n",
      "        1.9789338e-06, 1.0080000e-08],\n",
      "       [1.6337478e-07, 7.2221820e-07, 1.8204562e-09, ..., 1.0887284e-06,\n",
      "        3.7960515e-06, 9.9995530e-01]], dtype=float32), array([[5.1995080e-06, 6.9845119e-05, 9.0539535e-05, ..., 9.9969280e-01,\n",
      "        4.3712280e-08, 1.2238520e-04],\n",
      "       [9.9994183e-01, 5.4828666e-09, 3.3036806e-05, ..., 1.1622059e-06,\n",
      "        1.0216382e-07, 1.3561588e-05],\n",
      "       [5.0786280e-06, 1.6569247e-05, 1.7521455e-05, ..., 3.7529804e-05,\n",
      "        6.4677641e-07, 2.1211893e-04],\n",
      "       ...,\n",
      "       [9.9992001e-01, 1.5395996e-08, 1.8769690e-05, ..., 1.4630813e-06,\n",
      "        2.3340894e-08, 1.2781384e-05],\n",
      "       [4.9334371e-06, 1.3318666e-05, 9.9991238e-01, ..., 5.2869356e-05,\n",
      "        5.1314164e-06, 3.6881593e-09],\n",
      "       [1.2033365e-05, 1.0260150e-06, 1.8380923e-08, ..., 6.2966883e-06,\n",
      "        2.2796694e-05, 9.9988377e-01]], dtype=float32), array([[9.7483835e-06, 1.7284974e-06, 4.3718680e-07, ..., 9.9592185e-01,\n",
      "        7.7611994e-06, 3.1239614e-03],\n",
      "       [9.9970645e-01, 1.9052199e-07, 1.6458142e-05, ..., 1.6292590e-05,\n",
      "        8.5514666e-06, 2.2832213e-04],\n",
      "       [1.6062953e-06, 1.6155408e-10, 5.3050172e-07, ..., 1.3703506e-06,\n",
      "        5.7569338e-07, 1.3317590e-05],\n",
      "       ...,\n",
      "       [9.9996877e-01, 3.2933320e-07, 2.6234272e-06, ..., 4.4906417e-07,\n",
      "        5.5816571e-07, 9.9859540e-07],\n",
      "       [1.0142967e-06, 1.1299592e-05, 9.9959975e-01, ..., 7.3342992e-05,\n",
      "        9.0372829e-05, 9.9524492e-05],\n",
      "       [7.7226732e-09, 1.0149250e-08, 5.2672267e-10, ..., 1.9938739e-07,\n",
      "        6.9008966e-06, 9.9996424e-01]], dtype=float32), array([[6.88427244e-04, 9.60431935e-05, 2.90097250e-06, ...,\n",
      "        9.85679090e-01, 1.80791525e-04, 1.12669375e-02],\n",
      "       [9.99961138e-01, 1.11373852e-08, 2.28590761e-06, ...,\n",
      "        1.50476481e-07, 5.02967168e-06, 2.60916604e-05],\n",
      "       [6.00458770e-06, 1.00442756e-08, 2.95602094e-05, ...,\n",
      "        4.46243439e-06, 1.32481819e-06, 3.61666607e-04],\n",
      "       ...,\n",
      "       [9.99660373e-01, 3.58918487e-06, 1.29888082e-04, ...,\n",
      "        2.24475691e-08, 5.19853165e-06, 4.21310972e-07],\n",
      "       [4.61727240e-07, 2.66891913e-08, 9.99835610e-01, ...,\n",
      "        6.62291257e-07, 1.22056706e-04, 3.76518500e-07],\n",
      "       [1.69553456e-08, 1.83132851e-08, 4.82791673e-09, ...,\n",
      "        6.99727821e-07, 4.85546207e-06, 9.99952793e-01]], dtype=float32)]\n",
      "[array([7, 0, 4, ..., 0, 2, 9], dtype=int64), array([7, 0, 4, ..., 0, 2, 9], dtype=int64), array([7, 0, 4, ..., 0, 2, 9], dtype=int64), array([7, 0, 4, ..., 0, 2, 9], dtype=int64), array([7, 0, 4, ..., 0, 2, 9], dtype=int64), array([7, 0, 4, ..., 0, 2, 9], dtype=int64)]\n",
      "\n",
      "Model:7\n",
      "\u001b[1m657/657\u001b[0m \u001b[32m━━━━━━━━━━━━━━━━━━━━\u001b[0m\u001b[37m\u001b[0m \u001b[1m1s\u001b[0m 2ms/step\n",
      "[array([[3.86293131e-09, 1.87981497e-09, 3.10755581e-08, ...,\n",
      "        1.00000000e+00, 1.21787858e-09, 3.44385995e-08],\n",
      "       [1.00000000e+00, 3.41053678e-11, 8.24212254e-09, ...,\n",
      "        2.14059916e-11, 3.18579563e-09, 8.88305596e-10],\n",
      "       [3.12591940e-15, 4.72522965e-10, 1.53104578e-11, ...,\n",
      "        1.30852225e-14, 1.48923015e-13, 1.01296564e-07],\n",
      "       ...,\n",
      "       [1.00000000e+00, 1.04341498e-24, 2.16925965e-18, ...,\n",
      "        4.84270789e-20, 1.09879163e-24, 6.53226515e-17],\n",
      "       [9.50715709e-15, 3.83009666e-11, 1.00000000e+00, ...,\n",
      "        4.54949571e-08, 4.49784476e-09, 1.81806593e-14],\n",
      "       [5.92502603e-10, 7.38358766e-12, 1.80206577e-12, ...,\n",
      "        7.63732466e-10, 1.72557790e-09, 1.00000000e+00]], dtype=float32), array([[8.9507533e-11, 1.0150946e-07, 3.9055628e-10, ..., 9.9998975e-01,\n",
      "        3.1622244e-10, 9.9524932e-06],\n",
      "       [9.9995446e-01, 5.5134759e-08, 3.0470183e-06, ..., 7.2731127e-06,\n",
      "        1.2922625e-06, 2.8912033e-05],\n",
      "       [1.5021455e-31, 9.2841612e-30, 2.4442867e-22, ..., 1.0578576e-27,\n",
      "        2.5699723e-27, 8.1285444e-17],\n",
      "       ...,\n",
      "       [1.0000000e+00, 3.7489365e-15, 5.7775701e-10, ..., 7.2592404e-11,\n",
      "        2.0291644e-12, 4.7682029e-08],\n",
      "       [2.7386055e-10, 7.3188612e-13, 1.0000000e+00, ..., 1.4179767e-09,\n",
      "        7.1494544e-10, 3.3885169e-11],\n",
      "       [5.9196749e-12, 5.5752356e-14, 7.3031824e-14, ..., 9.3431585e-10,\n",
      "        1.4742203e-09, 9.9999976e-01]], dtype=float32), array([[6.7551387e-05, 3.3141472e-04, 1.5235701e-05, ..., 9.9612051e-01,\n",
      "        8.3088553e-06, 1.6944320e-03],\n",
      "       [9.9996006e-01, 1.9402669e-06, 3.3291681e-06, ..., 6.9794146e-07,\n",
      "        1.3653097e-06, 1.9340853e-06],\n",
      "       [5.7982827e-08, 3.8747876e-07, 6.9573332e-07, ..., 9.0547945e-07,\n",
      "        1.9617207e-07, 2.7099670e-05],\n",
      "       ...,\n",
      "       [9.9993992e-01, 1.9114229e-06, 1.7990301e-06, ..., 3.2038304e-07,\n",
      "        3.5003723e-08, 5.7036658e-07],\n",
      "       [1.5980012e-07, 8.2130470e-07, 9.9999368e-01, ..., 1.7576696e-06,\n",
      "        1.9789338e-06, 1.0080000e-08],\n",
      "       [1.6337478e-07, 7.2221820e-07, 1.8204562e-09, ..., 1.0887284e-06,\n",
      "        3.7960515e-06, 9.9995530e-01]], dtype=float32), array([[5.1995080e-06, 6.9845119e-05, 9.0539535e-05, ..., 9.9969280e-01,\n",
      "        4.3712280e-08, 1.2238520e-04],\n",
      "       [9.9994183e-01, 5.4828666e-09, 3.3036806e-05, ..., 1.1622059e-06,\n",
      "        1.0216382e-07, 1.3561588e-05],\n",
      "       [5.0786280e-06, 1.6569247e-05, 1.7521455e-05, ..., 3.7529804e-05,\n",
      "        6.4677641e-07, 2.1211893e-04],\n",
      "       ...,\n",
      "       [9.9992001e-01, 1.5395996e-08, 1.8769690e-05, ..., 1.4630813e-06,\n",
      "        2.3340894e-08, 1.2781384e-05],\n",
      "       [4.9334371e-06, 1.3318666e-05, 9.9991238e-01, ..., 5.2869356e-05,\n",
      "        5.1314164e-06, 3.6881593e-09],\n",
      "       [1.2033365e-05, 1.0260150e-06, 1.8380923e-08, ..., 6.2966883e-06,\n",
      "        2.2796694e-05, 9.9988377e-01]], dtype=float32), array([[9.7483835e-06, 1.7284974e-06, 4.3718680e-07, ..., 9.9592185e-01,\n",
      "        7.7611994e-06, 3.1239614e-03],\n",
      "       [9.9970645e-01, 1.9052199e-07, 1.6458142e-05, ..., 1.6292590e-05,\n",
      "        8.5514666e-06, 2.2832213e-04],\n",
      "       [1.6062953e-06, 1.6155408e-10, 5.3050172e-07, ..., 1.3703506e-06,\n",
      "        5.7569338e-07, 1.3317590e-05],\n",
      "       ...,\n",
      "       [9.9996877e-01, 3.2933320e-07, 2.6234272e-06, ..., 4.4906417e-07,\n",
      "        5.5816571e-07, 9.9859540e-07],\n",
      "       [1.0142967e-06, 1.1299592e-05, 9.9959975e-01, ..., 7.3342992e-05,\n",
      "        9.0372829e-05, 9.9524492e-05],\n",
      "       [7.7226732e-09, 1.0149250e-08, 5.2672267e-10, ..., 1.9938739e-07,\n",
      "        6.9008966e-06, 9.9996424e-01]], dtype=float32), array([[6.88427244e-04, 9.60431935e-05, 2.90097250e-06, ...,\n",
      "        9.85679090e-01, 1.80791525e-04, 1.12669375e-02],\n",
      "       [9.99961138e-01, 1.11373852e-08, 2.28590761e-06, ...,\n",
      "        1.50476481e-07, 5.02967168e-06, 2.60916604e-05],\n",
      "       [6.00458770e-06, 1.00442756e-08, 2.95602094e-05, ...,\n",
      "        4.46243439e-06, 1.32481819e-06, 3.61666607e-04],\n",
      "       ...,\n",
      "       [9.99660373e-01, 3.58918487e-06, 1.29888082e-04, ...,\n",
      "        2.24475691e-08, 5.19853165e-06, 4.21310972e-07],\n",
      "       [4.61727240e-07, 2.66891913e-08, 9.99835610e-01, ...,\n",
      "        6.62291257e-07, 1.22056706e-04, 3.76518500e-07],\n",
      "       [1.69553456e-08, 1.83132851e-08, 4.82791673e-09, ...,\n",
      "        6.99727821e-07, 4.85546207e-06, 9.99952793e-01]], dtype=float32), array([[1.9614429e-06, 7.7661367e-05, 1.1691414e-05, ..., 9.9906033e-01,\n",
      "        3.4960028e-06, 6.1964209e-04],\n",
      "       [9.9996555e-01, 4.0184216e-09, 6.2117761e-07, ..., 4.0607213e-07,\n",
      "        6.5702930e-06, 2.0077356e-05],\n",
      "       [1.7400195e-26, 5.8715435e-25, 8.3287082e-24, ..., 3.9605243e-24,\n",
      "        9.1966860e-27, 7.3505340e-13],\n",
      "       ...,\n",
      "       [1.0000000e+00, 9.6734802e-19, 1.3740520e-08, ..., 5.9302145e-14,\n",
      "        1.4800659e-14, 1.1235854e-13],\n",
      "       [2.2527728e-20, 5.5899109e-21, 1.0000000e+00, ..., 4.1834252e-21,\n",
      "        1.2661534e-18, 4.9849349e-27],\n",
      "       [1.2597678e-12, 2.7410241e-13, 1.4910212e-11, ..., 9.1548505e-12,\n",
      "        3.7489849e-07, 9.9999928e-01]], dtype=float32)]\n",
      "[array([7, 0, 4, ..., 0, 2, 9], dtype=int64), array([7, 0, 4, ..., 0, 2, 9], dtype=int64), array([7, 0, 4, ..., 0, 2, 9], dtype=int64), array([7, 0, 4, ..., 0, 2, 9], dtype=int64), array([7, 0, 4, ..., 0, 2, 9], dtype=int64), array([7, 0, 4, ..., 0, 2, 9], dtype=int64), array([7, 0, 4, ..., 0, 2, 9], dtype=int64)]\n",
      "\n",
      "Model:8\n",
      "\u001b[1m657/657\u001b[0m \u001b[32m━━━━━━━━━━━━━━━━━━━━\u001b[0m\u001b[37m\u001b[0m \u001b[1m1s\u001b[0m 2ms/step\n",
      "[array([[3.86293131e-09, 1.87981497e-09, 3.10755581e-08, ...,\n",
      "        1.00000000e+00, 1.21787858e-09, 3.44385995e-08],\n",
      "       [1.00000000e+00, 3.41053678e-11, 8.24212254e-09, ...,\n",
      "        2.14059916e-11, 3.18579563e-09, 8.88305596e-10],\n",
      "       [3.12591940e-15, 4.72522965e-10, 1.53104578e-11, ...,\n",
      "        1.30852225e-14, 1.48923015e-13, 1.01296564e-07],\n",
      "       ...,\n",
      "       [1.00000000e+00, 1.04341498e-24, 2.16925965e-18, ...,\n",
      "        4.84270789e-20, 1.09879163e-24, 6.53226515e-17],\n",
      "       [9.50715709e-15, 3.83009666e-11, 1.00000000e+00, ...,\n",
      "        4.54949571e-08, 4.49784476e-09, 1.81806593e-14],\n",
      "       [5.92502603e-10, 7.38358766e-12, 1.80206577e-12, ...,\n",
      "        7.63732466e-10, 1.72557790e-09, 1.00000000e+00]], dtype=float32), array([[8.9507533e-11, 1.0150946e-07, 3.9055628e-10, ..., 9.9998975e-01,\n",
      "        3.1622244e-10, 9.9524932e-06],\n",
      "       [9.9995446e-01, 5.5134759e-08, 3.0470183e-06, ..., 7.2731127e-06,\n",
      "        1.2922625e-06, 2.8912033e-05],\n",
      "       [1.5021455e-31, 9.2841612e-30, 2.4442867e-22, ..., 1.0578576e-27,\n",
      "        2.5699723e-27, 8.1285444e-17],\n",
      "       ...,\n",
      "       [1.0000000e+00, 3.7489365e-15, 5.7775701e-10, ..., 7.2592404e-11,\n",
      "        2.0291644e-12, 4.7682029e-08],\n",
      "       [2.7386055e-10, 7.3188612e-13, 1.0000000e+00, ..., 1.4179767e-09,\n",
      "        7.1494544e-10, 3.3885169e-11],\n",
      "       [5.9196749e-12, 5.5752356e-14, 7.3031824e-14, ..., 9.3431585e-10,\n",
      "        1.4742203e-09, 9.9999976e-01]], dtype=float32), array([[6.7551387e-05, 3.3141472e-04, 1.5235701e-05, ..., 9.9612051e-01,\n",
      "        8.3088553e-06, 1.6944320e-03],\n",
      "       [9.9996006e-01, 1.9402669e-06, 3.3291681e-06, ..., 6.9794146e-07,\n",
      "        1.3653097e-06, 1.9340853e-06],\n",
      "       [5.7982827e-08, 3.8747876e-07, 6.9573332e-07, ..., 9.0547945e-07,\n",
      "        1.9617207e-07, 2.7099670e-05],\n",
      "       ...,\n",
      "       [9.9993992e-01, 1.9114229e-06, 1.7990301e-06, ..., 3.2038304e-07,\n",
      "        3.5003723e-08, 5.7036658e-07],\n",
      "       [1.5980012e-07, 8.2130470e-07, 9.9999368e-01, ..., 1.7576696e-06,\n",
      "        1.9789338e-06, 1.0080000e-08],\n",
      "       [1.6337478e-07, 7.2221820e-07, 1.8204562e-09, ..., 1.0887284e-06,\n",
      "        3.7960515e-06, 9.9995530e-01]], dtype=float32), array([[5.1995080e-06, 6.9845119e-05, 9.0539535e-05, ..., 9.9969280e-01,\n",
      "        4.3712280e-08, 1.2238520e-04],\n",
      "       [9.9994183e-01, 5.4828666e-09, 3.3036806e-05, ..., 1.1622059e-06,\n",
      "        1.0216382e-07, 1.3561588e-05],\n",
      "       [5.0786280e-06, 1.6569247e-05, 1.7521455e-05, ..., 3.7529804e-05,\n",
      "        6.4677641e-07, 2.1211893e-04],\n",
      "       ...,\n",
      "       [9.9992001e-01, 1.5395996e-08, 1.8769690e-05, ..., 1.4630813e-06,\n",
      "        2.3340894e-08, 1.2781384e-05],\n",
      "       [4.9334371e-06, 1.3318666e-05, 9.9991238e-01, ..., 5.2869356e-05,\n",
      "        5.1314164e-06, 3.6881593e-09],\n",
      "       [1.2033365e-05, 1.0260150e-06, 1.8380923e-08, ..., 6.2966883e-06,\n",
      "        2.2796694e-05, 9.9988377e-01]], dtype=float32), array([[9.7483835e-06, 1.7284974e-06, 4.3718680e-07, ..., 9.9592185e-01,\n",
      "        7.7611994e-06, 3.1239614e-03],\n",
      "       [9.9970645e-01, 1.9052199e-07, 1.6458142e-05, ..., 1.6292590e-05,\n",
      "        8.5514666e-06, 2.2832213e-04],\n",
      "       [1.6062953e-06, 1.6155408e-10, 5.3050172e-07, ..., 1.3703506e-06,\n",
      "        5.7569338e-07, 1.3317590e-05],\n",
      "       ...,\n",
      "       [9.9996877e-01, 3.2933320e-07, 2.6234272e-06, ..., 4.4906417e-07,\n",
      "        5.5816571e-07, 9.9859540e-07],\n",
      "       [1.0142967e-06, 1.1299592e-05, 9.9959975e-01, ..., 7.3342992e-05,\n",
      "        9.0372829e-05, 9.9524492e-05],\n",
      "       [7.7226732e-09, 1.0149250e-08, 5.2672267e-10, ..., 1.9938739e-07,\n",
      "        6.9008966e-06, 9.9996424e-01]], dtype=float32), array([[6.88427244e-04, 9.60431935e-05, 2.90097250e-06, ...,\n",
      "        9.85679090e-01, 1.80791525e-04, 1.12669375e-02],\n",
      "       [9.99961138e-01, 1.11373852e-08, 2.28590761e-06, ...,\n",
      "        1.50476481e-07, 5.02967168e-06, 2.60916604e-05],\n",
      "       [6.00458770e-06, 1.00442756e-08, 2.95602094e-05, ...,\n",
      "        4.46243439e-06, 1.32481819e-06, 3.61666607e-04],\n",
      "       ...,\n",
      "       [9.99660373e-01, 3.58918487e-06, 1.29888082e-04, ...,\n",
      "        2.24475691e-08, 5.19853165e-06, 4.21310972e-07],\n",
      "       [4.61727240e-07, 2.66891913e-08, 9.99835610e-01, ...,\n",
      "        6.62291257e-07, 1.22056706e-04, 3.76518500e-07],\n",
      "       [1.69553456e-08, 1.83132851e-08, 4.82791673e-09, ...,\n",
      "        6.99727821e-07, 4.85546207e-06, 9.99952793e-01]], dtype=float32), array([[1.9614429e-06, 7.7661367e-05, 1.1691414e-05, ..., 9.9906033e-01,\n",
      "        3.4960028e-06, 6.1964209e-04],\n",
      "       [9.9996555e-01, 4.0184216e-09, 6.2117761e-07, ..., 4.0607213e-07,\n",
      "        6.5702930e-06, 2.0077356e-05],\n",
      "       [1.7400195e-26, 5.8715435e-25, 8.3287082e-24, ..., 3.9605243e-24,\n",
      "        9.1966860e-27, 7.3505340e-13],\n",
      "       ...,\n",
      "       [1.0000000e+00, 9.6734802e-19, 1.3740520e-08, ..., 5.9302145e-14,\n",
      "        1.4800659e-14, 1.1235854e-13],\n",
      "       [2.2527728e-20, 5.5899109e-21, 1.0000000e+00, ..., 4.1834252e-21,\n",
      "        1.2661534e-18, 4.9849349e-27],\n",
      "       [1.2597678e-12, 2.7410241e-13, 1.4910212e-11, ..., 9.1548505e-12,\n",
      "        3.7489849e-07, 9.9999928e-01]], dtype=float32), array([[4.3606434e-09, 2.5892898e-08, 8.7370666e-11, ..., 9.9999654e-01,\n",
      "        7.0205034e-13, 3.4497818e-06],\n",
      "       [9.9999332e-01, 9.6056800e-12, 4.9528284e-09, ..., 1.2353155e-10,\n",
      "        2.3144291e-09, 3.0477527e-06],\n",
      "       [1.1039137e-15, 6.3759423e-14, 6.9539291e-14, ..., 1.7819205e-12,\n",
      "        3.2479746e-16, 1.8288913e-08],\n",
      "       ...,\n",
      "       [1.0000000e+00, 2.6454853e-23, 1.4831942e-14, ..., 7.5130540e-18,\n",
      "        1.0596520e-17, 1.7471811e-09],\n",
      "       [1.8928772e-11, 3.8149790e-09, 1.0000000e+00, ..., 2.2415955e-08,\n",
      "        1.1770545e-08, 4.4999475e-09],\n",
      "       [1.7150375e-13, 5.4017164e-09, 5.1510086e-14, ..., 1.3889701e-09,\n",
      "        4.9830470e-07, 9.9999940e-01]], dtype=float32)]\n",
      "[array([7, 0, 4, ..., 0, 2, 9], dtype=int64), array([7, 0, 4, ..., 0, 2, 9], dtype=int64), array([7, 0, 4, ..., 0, 2, 9], dtype=int64), array([7, 0, 4, ..., 0, 2, 9], dtype=int64), array([7, 0, 4, ..., 0, 2, 9], dtype=int64), array([7, 0, 4, ..., 0, 2, 9], dtype=int64), array([7, 0, 4, ..., 0, 2, 9], dtype=int64), array([7, 0, 4, ..., 0, 2, 9], dtype=int64)]\n",
      "\n",
      "Model:9\n",
      "\u001b[1m657/657\u001b[0m \u001b[32m━━━━━━━━━━━━━━━━━━━━\u001b[0m\u001b[37m\u001b[0m \u001b[1m1s\u001b[0m 2ms/step\n",
      "[array([[3.86293131e-09, 1.87981497e-09, 3.10755581e-08, ...,\n",
      "        1.00000000e+00, 1.21787858e-09, 3.44385995e-08],\n",
      "       [1.00000000e+00, 3.41053678e-11, 8.24212254e-09, ...,\n",
      "        2.14059916e-11, 3.18579563e-09, 8.88305596e-10],\n",
      "       [3.12591940e-15, 4.72522965e-10, 1.53104578e-11, ...,\n",
      "        1.30852225e-14, 1.48923015e-13, 1.01296564e-07],\n",
      "       ...,\n",
      "       [1.00000000e+00, 1.04341498e-24, 2.16925965e-18, ...,\n",
      "        4.84270789e-20, 1.09879163e-24, 6.53226515e-17],\n",
      "       [9.50715709e-15, 3.83009666e-11, 1.00000000e+00, ...,\n",
      "        4.54949571e-08, 4.49784476e-09, 1.81806593e-14],\n",
      "       [5.92502603e-10, 7.38358766e-12, 1.80206577e-12, ...,\n",
      "        7.63732466e-10, 1.72557790e-09, 1.00000000e+00]], dtype=float32), array([[8.9507533e-11, 1.0150946e-07, 3.9055628e-10, ..., 9.9998975e-01,\n",
      "        3.1622244e-10, 9.9524932e-06],\n",
      "       [9.9995446e-01, 5.5134759e-08, 3.0470183e-06, ..., 7.2731127e-06,\n",
      "        1.2922625e-06, 2.8912033e-05],\n",
      "       [1.5021455e-31, 9.2841612e-30, 2.4442867e-22, ..., 1.0578576e-27,\n",
      "        2.5699723e-27, 8.1285444e-17],\n",
      "       ...,\n",
      "       [1.0000000e+00, 3.7489365e-15, 5.7775701e-10, ..., 7.2592404e-11,\n",
      "        2.0291644e-12, 4.7682029e-08],\n",
      "       [2.7386055e-10, 7.3188612e-13, 1.0000000e+00, ..., 1.4179767e-09,\n",
      "        7.1494544e-10, 3.3885169e-11],\n",
      "       [5.9196749e-12, 5.5752356e-14, 7.3031824e-14, ..., 9.3431585e-10,\n",
      "        1.4742203e-09, 9.9999976e-01]], dtype=float32), array([[6.7551387e-05, 3.3141472e-04, 1.5235701e-05, ..., 9.9612051e-01,\n",
      "        8.3088553e-06, 1.6944320e-03],\n",
      "       [9.9996006e-01, 1.9402669e-06, 3.3291681e-06, ..., 6.9794146e-07,\n",
      "        1.3653097e-06, 1.9340853e-06],\n",
      "       [5.7982827e-08, 3.8747876e-07, 6.9573332e-07, ..., 9.0547945e-07,\n",
      "        1.9617207e-07, 2.7099670e-05],\n",
      "       ...,\n",
      "       [9.9993992e-01, 1.9114229e-06, 1.7990301e-06, ..., 3.2038304e-07,\n",
      "        3.5003723e-08, 5.7036658e-07],\n",
      "       [1.5980012e-07, 8.2130470e-07, 9.9999368e-01, ..., 1.7576696e-06,\n",
      "        1.9789338e-06, 1.0080000e-08],\n",
      "       [1.6337478e-07, 7.2221820e-07, 1.8204562e-09, ..., 1.0887284e-06,\n",
      "        3.7960515e-06, 9.9995530e-01]], dtype=float32), array([[5.1995080e-06, 6.9845119e-05, 9.0539535e-05, ..., 9.9969280e-01,\n",
      "        4.3712280e-08, 1.2238520e-04],\n",
      "       [9.9994183e-01, 5.4828666e-09, 3.3036806e-05, ..., 1.1622059e-06,\n",
      "        1.0216382e-07, 1.3561588e-05],\n",
      "       [5.0786280e-06, 1.6569247e-05, 1.7521455e-05, ..., 3.7529804e-05,\n",
      "        6.4677641e-07, 2.1211893e-04],\n",
      "       ...,\n",
      "       [9.9992001e-01, 1.5395996e-08, 1.8769690e-05, ..., 1.4630813e-06,\n",
      "        2.3340894e-08, 1.2781384e-05],\n",
      "       [4.9334371e-06, 1.3318666e-05, 9.9991238e-01, ..., 5.2869356e-05,\n",
      "        5.1314164e-06, 3.6881593e-09],\n",
      "       [1.2033365e-05, 1.0260150e-06, 1.8380923e-08, ..., 6.2966883e-06,\n",
      "        2.2796694e-05, 9.9988377e-01]], dtype=float32), array([[9.7483835e-06, 1.7284974e-06, 4.3718680e-07, ..., 9.9592185e-01,\n",
      "        7.7611994e-06, 3.1239614e-03],\n",
      "       [9.9970645e-01, 1.9052199e-07, 1.6458142e-05, ..., 1.6292590e-05,\n",
      "        8.5514666e-06, 2.2832213e-04],\n",
      "       [1.6062953e-06, 1.6155408e-10, 5.3050172e-07, ..., 1.3703506e-06,\n",
      "        5.7569338e-07, 1.3317590e-05],\n",
      "       ...,\n",
      "       [9.9996877e-01, 3.2933320e-07, 2.6234272e-06, ..., 4.4906417e-07,\n",
      "        5.5816571e-07, 9.9859540e-07],\n",
      "       [1.0142967e-06, 1.1299592e-05, 9.9959975e-01, ..., 7.3342992e-05,\n",
      "        9.0372829e-05, 9.9524492e-05],\n",
      "       [7.7226732e-09, 1.0149250e-08, 5.2672267e-10, ..., 1.9938739e-07,\n",
      "        6.9008966e-06, 9.9996424e-01]], dtype=float32), array([[6.88427244e-04, 9.60431935e-05, 2.90097250e-06, ...,\n",
      "        9.85679090e-01, 1.80791525e-04, 1.12669375e-02],\n",
      "       [9.99961138e-01, 1.11373852e-08, 2.28590761e-06, ...,\n",
      "        1.50476481e-07, 5.02967168e-06, 2.60916604e-05],\n",
      "       [6.00458770e-06, 1.00442756e-08, 2.95602094e-05, ...,\n",
      "        4.46243439e-06, 1.32481819e-06, 3.61666607e-04],\n",
      "       ...,\n",
      "       [9.99660373e-01, 3.58918487e-06, 1.29888082e-04, ...,\n",
      "        2.24475691e-08, 5.19853165e-06, 4.21310972e-07],\n",
      "       [4.61727240e-07, 2.66891913e-08, 9.99835610e-01, ...,\n",
      "        6.62291257e-07, 1.22056706e-04, 3.76518500e-07],\n",
      "       [1.69553456e-08, 1.83132851e-08, 4.82791673e-09, ...,\n",
      "        6.99727821e-07, 4.85546207e-06, 9.99952793e-01]], dtype=float32), array([[1.9614429e-06, 7.7661367e-05, 1.1691414e-05, ..., 9.9906033e-01,\n",
      "        3.4960028e-06, 6.1964209e-04],\n",
      "       [9.9996555e-01, 4.0184216e-09, 6.2117761e-07, ..., 4.0607213e-07,\n",
      "        6.5702930e-06, 2.0077356e-05],\n",
      "       [1.7400195e-26, 5.8715435e-25, 8.3287082e-24, ..., 3.9605243e-24,\n",
      "        9.1966860e-27, 7.3505340e-13],\n",
      "       ...,\n",
      "       [1.0000000e+00, 9.6734802e-19, 1.3740520e-08, ..., 5.9302145e-14,\n",
      "        1.4800659e-14, 1.1235854e-13],\n",
      "       [2.2527728e-20, 5.5899109e-21, 1.0000000e+00, ..., 4.1834252e-21,\n",
      "        1.2661534e-18, 4.9849349e-27],\n",
      "       [1.2597678e-12, 2.7410241e-13, 1.4910212e-11, ..., 9.1548505e-12,\n",
      "        3.7489849e-07, 9.9999928e-01]], dtype=float32), array([[4.3606434e-09, 2.5892898e-08, 8.7370666e-11, ..., 9.9999654e-01,\n",
      "        7.0205034e-13, 3.4497818e-06],\n",
      "       [9.9999332e-01, 9.6056800e-12, 4.9528284e-09, ..., 1.2353155e-10,\n",
      "        2.3144291e-09, 3.0477527e-06],\n",
      "       [1.1039137e-15, 6.3759423e-14, 6.9539291e-14, ..., 1.7819205e-12,\n",
      "        3.2479746e-16, 1.8288913e-08],\n",
      "       ...,\n",
      "       [1.0000000e+00, 2.6454853e-23, 1.4831942e-14, ..., 7.5130540e-18,\n",
      "        1.0596520e-17, 1.7471811e-09],\n",
      "       [1.8928772e-11, 3.8149790e-09, 1.0000000e+00, ..., 2.2415955e-08,\n",
      "        1.1770545e-08, 4.4999475e-09],\n",
      "       [1.7150375e-13, 5.4017164e-09, 5.1510086e-14, ..., 1.3889701e-09,\n",
      "        4.9830470e-07, 9.9999940e-01]], dtype=float32), array([[2.09671525e-05, 2.38559805e-05, 1.41439841e-06, ...,\n",
      "        9.99909282e-01, 4.35380576e-09, 4.18040363e-05],\n",
      "       [9.99891162e-01, 2.76307924e-06, 6.15803001e-05, ...,\n",
      "        1.55911112e-05, 4.56159432e-06, 2.31927334e-06],\n",
      "       [3.53421427e-07, 7.93243885e-07, 7.46616479e-07, ...,\n",
      "        1.36028677e-06, 1.22137294e-07, 1.19620345e-04],\n",
      "       ...,\n",
      "       [9.99940991e-01, 3.91323709e-07, 1.32167531e-06, ...,\n",
      "        1.19745516e-06, 4.80669193e-08, 1.79190138e-07],\n",
      "       [2.15612900e-07, 4.16417470e-06, 9.99768198e-01, ...,\n",
      "        8.56932311e-05, 2.94423239e-06, 2.36706697e-07],\n",
      "       [1.69538001e-08, 5.99011258e-08, 8.48722925e-10, ...,\n",
      "        1.27095916e-07, 3.64083144e-06, 9.99991179e-01]], dtype=float32)]\n",
      "[array([7, 0, 4, ..., 0, 2, 9], dtype=int64), array([7, 0, 4, ..., 0, 2, 9], dtype=int64), array([7, 0, 4, ..., 0, 2, 9], dtype=int64), array([7, 0, 4, ..., 0, 2, 9], dtype=int64), array([7, 0, 4, ..., 0, 2, 9], dtype=int64), array([7, 0, 4, ..., 0, 2, 9], dtype=int64), array([7, 0, 4, ..., 0, 2, 9], dtype=int64), array([7, 0, 4, ..., 0, 2, 9], dtype=int64), array([7, 0, 4, ..., 0, 2, 9], dtype=int64)]\n",
      "\n",
      "Model:10\n",
      "\u001b[1m657/657\u001b[0m \u001b[32m━━━━━━━━━━━━━━━━━━━━\u001b[0m\u001b[37m\u001b[0m \u001b[1m1s\u001b[0m 2ms/step\n",
      "[array([[3.86293131e-09, 1.87981497e-09, 3.10755581e-08, ...,\n",
      "        1.00000000e+00, 1.21787858e-09, 3.44385995e-08],\n",
      "       [1.00000000e+00, 3.41053678e-11, 8.24212254e-09, ...,\n",
      "        2.14059916e-11, 3.18579563e-09, 8.88305596e-10],\n",
      "       [3.12591940e-15, 4.72522965e-10, 1.53104578e-11, ...,\n",
      "        1.30852225e-14, 1.48923015e-13, 1.01296564e-07],\n",
      "       ...,\n",
      "       [1.00000000e+00, 1.04341498e-24, 2.16925965e-18, ...,\n",
      "        4.84270789e-20, 1.09879163e-24, 6.53226515e-17],\n",
      "       [9.50715709e-15, 3.83009666e-11, 1.00000000e+00, ...,\n",
      "        4.54949571e-08, 4.49784476e-09, 1.81806593e-14],\n",
      "       [5.92502603e-10, 7.38358766e-12, 1.80206577e-12, ...,\n",
      "        7.63732466e-10, 1.72557790e-09, 1.00000000e+00]], dtype=float32), array([[8.9507533e-11, 1.0150946e-07, 3.9055628e-10, ..., 9.9998975e-01,\n",
      "        3.1622244e-10, 9.9524932e-06],\n",
      "       [9.9995446e-01, 5.5134759e-08, 3.0470183e-06, ..., 7.2731127e-06,\n",
      "        1.2922625e-06, 2.8912033e-05],\n",
      "       [1.5021455e-31, 9.2841612e-30, 2.4442867e-22, ..., 1.0578576e-27,\n",
      "        2.5699723e-27, 8.1285444e-17],\n",
      "       ...,\n",
      "       [1.0000000e+00, 3.7489365e-15, 5.7775701e-10, ..., 7.2592404e-11,\n",
      "        2.0291644e-12, 4.7682029e-08],\n",
      "       [2.7386055e-10, 7.3188612e-13, 1.0000000e+00, ..., 1.4179767e-09,\n",
      "        7.1494544e-10, 3.3885169e-11],\n",
      "       [5.9196749e-12, 5.5752356e-14, 7.3031824e-14, ..., 9.3431585e-10,\n",
      "        1.4742203e-09, 9.9999976e-01]], dtype=float32), array([[6.7551387e-05, 3.3141472e-04, 1.5235701e-05, ..., 9.9612051e-01,\n",
      "        8.3088553e-06, 1.6944320e-03],\n",
      "       [9.9996006e-01, 1.9402669e-06, 3.3291681e-06, ..., 6.9794146e-07,\n",
      "        1.3653097e-06, 1.9340853e-06],\n",
      "       [5.7982827e-08, 3.8747876e-07, 6.9573332e-07, ..., 9.0547945e-07,\n",
      "        1.9617207e-07, 2.7099670e-05],\n",
      "       ...,\n",
      "       [9.9993992e-01, 1.9114229e-06, 1.7990301e-06, ..., 3.2038304e-07,\n",
      "        3.5003723e-08, 5.7036658e-07],\n",
      "       [1.5980012e-07, 8.2130470e-07, 9.9999368e-01, ..., 1.7576696e-06,\n",
      "        1.9789338e-06, 1.0080000e-08],\n",
      "       [1.6337478e-07, 7.2221820e-07, 1.8204562e-09, ..., 1.0887284e-06,\n",
      "        3.7960515e-06, 9.9995530e-01]], dtype=float32), array([[5.1995080e-06, 6.9845119e-05, 9.0539535e-05, ..., 9.9969280e-01,\n",
      "        4.3712280e-08, 1.2238520e-04],\n",
      "       [9.9994183e-01, 5.4828666e-09, 3.3036806e-05, ..., 1.1622059e-06,\n",
      "        1.0216382e-07, 1.3561588e-05],\n",
      "       [5.0786280e-06, 1.6569247e-05, 1.7521455e-05, ..., 3.7529804e-05,\n",
      "        6.4677641e-07, 2.1211893e-04],\n",
      "       ...,\n",
      "       [9.9992001e-01, 1.5395996e-08, 1.8769690e-05, ..., 1.4630813e-06,\n",
      "        2.3340894e-08, 1.2781384e-05],\n",
      "       [4.9334371e-06, 1.3318666e-05, 9.9991238e-01, ..., 5.2869356e-05,\n",
      "        5.1314164e-06, 3.6881593e-09],\n",
      "       [1.2033365e-05, 1.0260150e-06, 1.8380923e-08, ..., 6.2966883e-06,\n",
      "        2.2796694e-05, 9.9988377e-01]], dtype=float32), array([[9.7483835e-06, 1.7284974e-06, 4.3718680e-07, ..., 9.9592185e-01,\n",
      "        7.7611994e-06, 3.1239614e-03],\n",
      "       [9.9970645e-01, 1.9052199e-07, 1.6458142e-05, ..., 1.6292590e-05,\n",
      "        8.5514666e-06, 2.2832213e-04],\n",
      "       [1.6062953e-06, 1.6155408e-10, 5.3050172e-07, ..., 1.3703506e-06,\n",
      "        5.7569338e-07, 1.3317590e-05],\n",
      "       ...,\n",
      "       [9.9996877e-01, 3.2933320e-07, 2.6234272e-06, ..., 4.4906417e-07,\n",
      "        5.5816571e-07, 9.9859540e-07],\n",
      "       [1.0142967e-06, 1.1299592e-05, 9.9959975e-01, ..., 7.3342992e-05,\n",
      "        9.0372829e-05, 9.9524492e-05],\n",
      "       [7.7226732e-09, 1.0149250e-08, 5.2672267e-10, ..., 1.9938739e-07,\n",
      "        6.9008966e-06, 9.9996424e-01]], dtype=float32), array([[6.88427244e-04, 9.60431935e-05, 2.90097250e-06, ...,\n",
      "        9.85679090e-01, 1.80791525e-04, 1.12669375e-02],\n",
      "       [9.99961138e-01, 1.11373852e-08, 2.28590761e-06, ...,\n",
      "        1.50476481e-07, 5.02967168e-06, 2.60916604e-05],\n",
      "       [6.00458770e-06, 1.00442756e-08, 2.95602094e-05, ...,\n",
      "        4.46243439e-06, 1.32481819e-06, 3.61666607e-04],\n",
      "       ...,\n",
      "       [9.99660373e-01, 3.58918487e-06, 1.29888082e-04, ...,\n",
      "        2.24475691e-08, 5.19853165e-06, 4.21310972e-07],\n",
      "       [4.61727240e-07, 2.66891913e-08, 9.99835610e-01, ...,\n",
      "        6.62291257e-07, 1.22056706e-04, 3.76518500e-07],\n",
      "       [1.69553456e-08, 1.83132851e-08, 4.82791673e-09, ...,\n",
      "        6.99727821e-07, 4.85546207e-06, 9.99952793e-01]], dtype=float32), array([[1.9614429e-06, 7.7661367e-05, 1.1691414e-05, ..., 9.9906033e-01,\n",
      "        3.4960028e-06, 6.1964209e-04],\n",
      "       [9.9996555e-01, 4.0184216e-09, 6.2117761e-07, ..., 4.0607213e-07,\n",
      "        6.5702930e-06, 2.0077356e-05],\n",
      "       [1.7400195e-26, 5.8715435e-25, 8.3287082e-24, ..., 3.9605243e-24,\n",
      "        9.1966860e-27, 7.3505340e-13],\n",
      "       ...,\n",
      "       [1.0000000e+00, 9.6734802e-19, 1.3740520e-08, ..., 5.9302145e-14,\n",
      "        1.4800659e-14, 1.1235854e-13],\n",
      "       [2.2527728e-20, 5.5899109e-21, 1.0000000e+00, ..., 4.1834252e-21,\n",
      "        1.2661534e-18, 4.9849349e-27],\n",
      "       [1.2597678e-12, 2.7410241e-13, 1.4910212e-11, ..., 9.1548505e-12,\n",
      "        3.7489849e-07, 9.9999928e-01]], dtype=float32), array([[4.3606434e-09, 2.5892898e-08, 8.7370666e-11, ..., 9.9999654e-01,\n",
      "        7.0205034e-13, 3.4497818e-06],\n",
      "       [9.9999332e-01, 9.6056800e-12, 4.9528284e-09, ..., 1.2353155e-10,\n",
      "        2.3144291e-09, 3.0477527e-06],\n",
      "       [1.1039137e-15, 6.3759423e-14, 6.9539291e-14, ..., 1.7819205e-12,\n",
      "        3.2479746e-16, 1.8288913e-08],\n",
      "       ...,\n",
      "       [1.0000000e+00, 2.6454853e-23, 1.4831942e-14, ..., 7.5130540e-18,\n",
      "        1.0596520e-17, 1.7471811e-09],\n",
      "       [1.8928772e-11, 3.8149790e-09, 1.0000000e+00, ..., 2.2415955e-08,\n",
      "        1.1770545e-08, 4.4999475e-09],\n",
      "       [1.7150375e-13, 5.4017164e-09, 5.1510086e-14, ..., 1.3889701e-09,\n",
      "        4.9830470e-07, 9.9999940e-01]], dtype=float32), array([[2.09671525e-05, 2.38559805e-05, 1.41439841e-06, ...,\n",
      "        9.99909282e-01, 4.35380576e-09, 4.18040363e-05],\n",
      "       [9.99891162e-01, 2.76307924e-06, 6.15803001e-05, ...,\n",
      "        1.55911112e-05, 4.56159432e-06, 2.31927334e-06],\n",
      "       [3.53421427e-07, 7.93243885e-07, 7.46616479e-07, ...,\n",
      "        1.36028677e-06, 1.22137294e-07, 1.19620345e-04],\n",
      "       ...,\n",
      "       [9.99940991e-01, 3.91323709e-07, 1.32167531e-06, ...,\n",
      "        1.19745516e-06, 4.80669193e-08, 1.79190138e-07],\n",
      "       [2.15612900e-07, 4.16417470e-06, 9.99768198e-01, ...,\n",
      "        8.56932311e-05, 2.94423239e-06, 2.36706697e-07],\n",
      "       [1.69538001e-08, 5.99011258e-08, 8.48722925e-10, ...,\n",
      "        1.27095916e-07, 3.64083144e-06, 9.99991179e-01]], dtype=float32), array([[1.8605117e-06, 8.0931757e-05, 6.8621121e-05, ..., 9.9967885e-01,\n",
      "        1.0938426e-06, 1.3464302e-04],\n",
      "       [9.9985981e-01, 1.6119682e-08, 1.9106110e-05, ..., 1.1966673e-06,\n",
      "        1.0007713e-05, 1.1388931e-05],\n",
      "       [8.7228398e-07, 1.0919987e-05, 4.9078826e-06, ..., 7.1356644e-06,\n",
      "        2.5562661e-06, 6.2761130e-05],\n",
      "       ...,\n",
      "       [9.9987435e-01, 9.2915240e-09, 1.2125618e-05, ..., 9.9156910e-07,\n",
      "        9.4435620e-07, 8.8294346e-06],\n",
      "       [4.9608429e-06, 6.5258805e-06, 9.9987113e-01, ..., 8.1541992e-05,\n",
      "        1.2333607e-05, 3.6708361e-08],\n",
      "       [2.5867430e-06, 4.8553193e-07, 8.2732591e-08, ..., 2.8383745e-05,\n",
      "        4.1372376e-05, 9.9956065e-01]], dtype=float32)]\n",
      "[array([7, 0, 4, ..., 0, 2, 9], dtype=int64), array([7, 0, 4, ..., 0, 2, 9], dtype=int64), array([7, 0, 4, ..., 0, 2, 9], dtype=int64), array([7, 0, 4, ..., 0, 2, 9], dtype=int64), array([7, 0, 4, ..., 0, 2, 9], dtype=int64), array([7, 0, 4, ..., 0, 2, 9], dtype=int64), array([7, 0, 4, ..., 0, 2, 9], dtype=int64), array([7, 0, 4, ..., 0, 2, 9], dtype=int64), array([7, 0, 4, ..., 0, 2, 9], dtype=int64), array([7, 0, 4, ..., 0, 2, 9], dtype=int64)]\n",
      "\n",
      "Model:11\n",
      "\u001b[1m657/657\u001b[0m \u001b[32m━━━━━━━━━━━━━━━━━━━━\u001b[0m\u001b[37m\u001b[0m \u001b[1m1s\u001b[0m 2ms/step\n",
      "[array([[3.86293131e-09, 1.87981497e-09, 3.10755581e-08, ...,\n",
      "        1.00000000e+00, 1.21787858e-09, 3.44385995e-08],\n",
      "       [1.00000000e+00, 3.41053678e-11, 8.24212254e-09, ...,\n",
      "        2.14059916e-11, 3.18579563e-09, 8.88305596e-10],\n",
      "       [3.12591940e-15, 4.72522965e-10, 1.53104578e-11, ...,\n",
      "        1.30852225e-14, 1.48923015e-13, 1.01296564e-07],\n",
      "       ...,\n",
      "       [1.00000000e+00, 1.04341498e-24, 2.16925965e-18, ...,\n",
      "        4.84270789e-20, 1.09879163e-24, 6.53226515e-17],\n",
      "       [9.50715709e-15, 3.83009666e-11, 1.00000000e+00, ...,\n",
      "        4.54949571e-08, 4.49784476e-09, 1.81806593e-14],\n",
      "       [5.92502603e-10, 7.38358766e-12, 1.80206577e-12, ...,\n",
      "        7.63732466e-10, 1.72557790e-09, 1.00000000e+00]], dtype=float32), array([[8.9507533e-11, 1.0150946e-07, 3.9055628e-10, ..., 9.9998975e-01,\n",
      "        3.1622244e-10, 9.9524932e-06],\n",
      "       [9.9995446e-01, 5.5134759e-08, 3.0470183e-06, ..., 7.2731127e-06,\n",
      "        1.2922625e-06, 2.8912033e-05],\n",
      "       [1.5021455e-31, 9.2841612e-30, 2.4442867e-22, ..., 1.0578576e-27,\n",
      "        2.5699723e-27, 8.1285444e-17],\n",
      "       ...,\n",
      "       [1.0000000e+00, 3.7489365e-15, 5.7775701e-10, ..., 7.2592404e-11,\n",
      "        2.0291644e-12, 4.7682029e-08],\n",
      "       [2.7386055e-10, 7.3188612e-13, 1.0000000e+00, ..., 1.4179767e-09,\n",
      "        7.1494544e-10, 3.3885169e-11],\n",
      "       [5.9196749e-12, 5.5752356e-14, 7.3031824e-14, ..., 9.3431585e-10,\n",
      "        1.4742203e-09, 9.9999976e-01]], dtype=float32), array([[6.7551387e-05, 3.3141472e-04, 1.5235701e-05, ..., 9.9612051e-01,\n",
      "        8.3088553e-06, 1.6944320e-03],\n",
      "       [9.9996006e-01, 1.9402669e-06, 3.3291681e-06, ..., 6.9794146e-07,\n",
      "        1.3653097e-06, 1.9340853e-06],\n",
      "       [5.7982827e-08, 3.8747876e-07, 6.9573332e-07, ..., 9.0547945e-07,\n",
      "        1.9617207e-07, 2.7099670e-05],\n",
      "       ...,\n",
      "       [9.9993992e-01, 1.9114229e-06, 1.7990301e-06, ..., 3.2038304e-07,\n",
      "        3.5003723e-08, 5.7036658e-07],\n",
      "       [1.5980012e-07, 8.2130470e-07, 9.9999368e-01, ..., 1.7576696e-06,\n",
      "        1.9789338e-06, 1.0080000e-08],\n",
      "       [1.6337478e-07, 7.2221820e-07, 1.8204562e-09, ..., 1.0887284e-06,\n",
      "        3.7960515e-06, 9.9995530e-01]], dtype=float32), array([[5.1995080e-06, 6.9845119e-05, 9.0539535e-05, ..., 9.9969280e-01,\n",
      "        4.3712280e-08, 1.2238520e-04],\n",
      "       [9.9994183e-01, 5.4828666e-09, 3.3036806e-05, ..., 1.1622059e-06,\n",
      "        1.0216382e-07, 1.3561588e-05],\n",
      "       [5.0786280e-06, 1.6569247e-05, 1.7521455e-05, ..., 3.7529804e-05,\n",
      "        6.4677641e-07, 2.1211893e-04],\n",
      "       ...,\n",
      "       [9.9992001e-01, 1.5395996e-08, 1.8769690e-05, ..., 1.4630813e-06,\n",
      "        2.3340894e-08, 1.2781384e-05],\n",
      "       [4.9334371e-06, 1.3318666e-05, 9.9991238e-01, ..., 5.2869356e-05,\n",
      "        5.1314164e-06, 3.6881593e-09],\n",
      "       [1.2033365e-05, 1.0260150e-06, 1.8380923e-08, ..., 6.2966883e-06,\n",
      "        2.2796694e-05, 9.9988377e-01]], dtype=float32), array([[9.7483835e-06, 1.7284974e-06, 4.3718680e-07, ..., 9.9592185e-01,\n",
      "        7.7611994e-06, 3.1239614e-03],\n",
      "       [9.9970645e-01, 1.9052199e-07, 1.6458142e-05, ..., 1.6292590e-05,\n",
      "        8.5514666e-06, 2.2832213e-04],\n",
      "       [1.6062953e-06, 1.6155408e-10, 5.3050172e-07, ..., 1.3703506e-06,\n",
      "        5.7569338e-07, 1.3317590e-05],\n",
      "       ...,\n",
      "       [9.9996877e-01, 3.2933320e-07, 2.6234272e-06, ..., 4.4906417e-07,\n",
      "        5.5816571e-07, 9.9859540e-07],\n",
      "       [1.0142967e-06, 1.1299592e-05, 9.9959975e-01, ..., 7.3342992e-05,\n",
      "        9.0372829e-05, 9.9524492e-05],\n",
      "       [7.7226732e-09, 1.0149250e-08, 5.2672267e-10, ..., 1.9938739e-07,\n",
      "        6.9008966e-06, 9.9996424e-01]], dtype=float32), array([[6.88427244e-04, 9.60431935e-05, 2.90097250e-06, ...,\n",
      "        9.85679090e-01, 1.80791525e-04, 1.12669375e-02],\n",
      "       [9.99961138e-01, 1.11373852e-08, 2.28590761e-06, ...,\n",
      "        1.50476481e-07, 5.02967168e-06, 2.60916604e-05],\n",
      "       [6.00458770e-06, 1.00442756e-08, 2.95602094e-05, ...,\n",
      "        4.46243439e-06, 1.32481819e-06, 3.61666607e-04],\n",
      "       ...,\n",
      "       [9.99660373e-01, 3.58918487e-06, 1.29888082e-04, ...,\n",
      "        2.24475691e-08, 5.19853165e-06, 4.21310972e-07],\n",
      "       [4.61727240e-07, 2.66891913e-08, 9.99835610e-01, ...,\n",
      "        6.62291257e-07, 1.22056706e-04, 3.76518500e-07],\n",
      "       [1.69553456e-08, 1.83132851e-08, 4.82791673e-09, ...,\n",
      "        6.99727821e-07, 4.85546207e-06, 9.99952793e-01]], dtype=float32), array([[1.9614429e-06, 7.7661367e-05, 1.1691414e-05, ..., 9.9906033e-01,\n",
      "        3.4960028e-06, 6.1964209e-04],\n",
      "       [9.9996555e-01, 4.0184216e-09, 6.2117761e-07, ..., 4.0607213e-07,\n",
      "        6.5702930e-06, 2.0077356e-05],\n",
      "       [1.7400195e-26, 5.8715435e-25, 8.3287082e-24, ..., 3.9605243e-24,\n",
      "        9.1966860e-27, 7.3505340e-13],\n",
      "       ...,\n",
      "       [1.0000000e+00, 9.6734802e-19, 1.3740520e-08, ..., 5.9302145e-14,\n",
      "        1.4800659e-14, 1.1235854e-13],\n",
      "       [2.2527728e-20, 5.5899109e-21, 1.0000000e+00, ..., 4.1834252e-21,\n",
      "        1.2661534e-18, 4.9849349e-27],\n",
      "       [1.2597678e-12, 2.7410241e-13, 1.4910212e-11, ..., 9.1548505e-12,\n",
      "        3.7489849e-07, 9.9999928e-01]], dtype=float32), array([[4.3606434e-09, 2.5892898e-08, 8.7370666e-11, ..., 9.9999654e-01,\n",
      "        7.0205034e-13, 3.4497818e-06],\n",
      "       [9.9999332e-01, 9.6056800e-12, 4.9528284e-09, ..., 1.2353155e-10,\n",
      "        2.3144291e-09, 3.0477527e-06],\n",
      "       [1.1039137e-15, 6.3759423e-14, 6.9539291e-14, ..., 1.7819205e-12,\n",
      "        3.2479746e-16, 1.8288913e-08],\n",
      "       ...,\n",
      "       [1.0000000e+00, 2.6454853e-23, 1.4831942e-14, ..., 7.5130540e-18,\n",
      "        1.0596520e-17, 1.7471811e-09],\n",
      "       [1.8928772e-11, 3.8149790e-09, 1.0000000e+00, ..., 2.2415955e-08,\n",
      "        1.1770545e-08, 4.4999475e-09],\n",
      "       [1.7150375e-13, 5.4017164e-09, 5.1510086e-14, ..., 1.3889701e-09,\n",
      "        4.9830470e-07, 9.9999940e-01]], dtype=float32), array([[2.09671525e-05, 2.38559805e-05, 1.41439841e-06, ...,\n",
      "        9.99909282e-01, 4.35380576e-09, 4.18040363e-05],\n",
      "       [9.99891162e-01, 2.76307924e-06, 6.15803001e-05, ...,\n",
      "        1.55911112e-05, 4.56159432e-06, 2.31927334e-06],\n",
      "       [3.53421427e-07, 7.93243885e-07, 7.46616479e-07, ...,\n",
      "        1.36028677e-06, 1.22137294e-07, 1.19620345e-04],\n",
      "       ...,\n",
      "       [9.99940991e-01, 3.91323709e-07, 1.32167531e-06, ...,\n",
      "        1.19745516e-06, 4.80669193e-08, 1.79190138e-07],\n",
      "       [2.15612900e-07, 4.16417470e-06, 9.99768198e-01, ...,\n",
      "        8.56932311e-05, 2.94423239e-06, 2.36706697e-07],\n",
      "       [1.69538001e-08, 5.99011258e-08, 8.48722925e-10, ...,\n",
      "        1.27095916e-07, 3.64083144e-06, 9.99991179e-01]], dtype=float32), array([[1.8605117e-06, 8.0931757e-05, 6.8621121e-05, ..., 9.9967885e-01,\n",
      "        1.0938426e-06, 1.3464302e-04],\n",
      "       [9.9985981e-01, 1.6119682e-08, 1.9106110e-05, ..., 1.1966673e-06,\n",
      "        1.0007713e-05, 1.1388931e-05],\n",
      "       [8.7228398e-07, 1.0919987e-05, 4.9078826e-06, ..., 7.1356644e-06,\n",
      "        2.5562661e-06, 6.2761130e-05],\n",
      "       ...,\n",
      "       [9.9987435e-01, 9.2915240e-09, 1.2125618e-05, ..., 9.9156910e-07,\n",
      "        9.4435620e-07, 8.8294346e-06],\n",
      "       [4.9608429e-06, 6.5258805e-06, 9.9987113e-01, ..., 8.1541992e-05,\n",
      "        1.2333607e-05, 3.6708361e-08],\n",
      "       [2.5867430e-06, 4.8553193e-07, 8.2732591e-08, ..., 2.8383745e-05,\n",
      "        4.1372376e-05, 9.9956065e-01]], dtype=float32), array([[7.3848065e-07, 1.6237581e-06, 1.5250567e-08, ..., 9.9982303e-01,\n",
      "        2.0345125e-07, 1.6357291e-04],\n",
      "       [9.9998939e-01, 3.5110406e-10, 2.7923278e-07, ..., 3.3216921e-08,\n",
      "        1.5564050e-06, 7.1846198e-06],\n",
      "       [9.0824159e-08, 4.7920928e-10, 1.2127119e-06, ..., 5.9059730e-06,\n",
      "        2.3867317e-06, 1.3384483e-04],\n",
      "       ...,\n",
      "       [9.9992943e-01, 5.3433005e-09, 2.4270281e-07, ..., 2.6150929e-08,\n",
      "        2.7540307e-07, 5.3292490e-07],\n",
      "       [1.0084277e-07, 2.8980251e-06, 9.9915147e-01, ..., 1.9951824e-04,\n",
      "        5.2064005e-04, 7.5275253e-05],\n",
      "       [1.1831693e-08, 1.1577498e-05, 1.7352887e-07, ..., 4.0109558e-06,\n",
      "        7.4200152e-04, 9.9902701e-01]], dtype=float32)]\n",
      "[array([7, 0, 4, ..., 0, 2, 9], dtype=int64), array([7, 0, 4, ..., 0, 2, 9], dtype=int64), array([7, 0, 4, ..., 0, 2, 9], dtype=int64), array([7, 0, 4, ..., 0, 2, 9], dtype=int64), array([7, 0, 4, ..., 0, 2, 9], dtype=int64), array([7, 0, 4, ..., 0, 2, 9], dtype=int64), array([7, 0, 4, ..., 0, 2, 9], dtype=int64), array([7, 0, 4, ..., 0, 2, 9], dtype=int64), array([7, 0, 4, ..., 0, 2, 9], dtype=int64), array([7, 0, 4, ..., 0, 2, 9], dtype=int64), array([7, 0, 4, ..., 0, 2, 9], dtype=int64)]\n",
      "\n",
      "Model:12\n",
      "\u001b[1m657/657\u001b[0m \u001b[32m━━━━━━━━━━━━━━━━━━━━\u001b[0m\u001b[37m\u001b[0m \u001b[1m1s\u001b[0m 2ms/step\n",
      "[array([[3.86293131e-09, 1.87981497e-09, 3.10755581e-08, ...,\n",
      "        1.00000000e+00, 1.21787858e-09, 3.44385995e-08],\n",
      "       [1.00000000e+00, 3.41053678e-11, 8.24212254e-09, ...,\n",
      "        2.14059916e-11, 3.18579563e-09, 8.88305596e-10],\n",
      "       [3.12591940e-15, 4.72522965e-10, 1.53104578e-11, ...,\n",
      "        1.30852225e-14, 1.48923015e-13, 1.01296564e-07],\n",
      "       ...,\n",
      "       [1.00000000e+00, 1.04341498e-24, 2.16925965e-18, ...,\n",
      "        4.84270789e-20, 1.09879163e-24, 6.53226515e-17],\n",
      "       [9.50715709e-15, 3.83009666e-11, 1.00000000e+00, ...,\n",
      "        4.54949571e-08, 4.49784476e-09, 1.81806593e-14],\n",
      "       [5.92502603e-10, 7.38358766e-12, 1.80206577e-12, ...,\n",
      "        7.63732466e-10, 1.72557790e-09, 1.00000000e+00]], dtype=float32), array([[8.9507533e-11, 1.0150946e-07, 3.9055628e-10, ..., 9.9998975e-01,\n",
      "        3.1622244e-10, 9.9524932e-06],\n",
      "       [9.9995446e-01, 5.5134759e-08, 3.0470183e-06, ..., 7.2731127e-06,\n",
      "        1.2922625e-06, 2.8912033e-05],\n",
      "       [1.5021455e-31, 9.2841612e-30, 2.4442867e-22, ..., 1.0578576e-27,\n",
      "        2.5699723e-27, 8.1285444e-17],\n",
      "       ...,\n",
      "       [1.0000000e+00, 3.7489365e-15, 5.7775701e-10, ..., 7.2592404e-11,\n",
      "        2.0291644e-12, 4.7682029e-08],\n",
      "       [2.7386055e-10, 7.3188612e-13, 1.0000000e+00, ..., 1.4179767e-09,\n",
      "        7.1494544e-10, 3.3885169e-11],\n",
      "       [5.9196749e-12, 5.5752356e-14, 7.3031824e-14, ..., 9.3431585e-10,\n",
      "        1.4742203e-09, 9.9999976e-01]], dtype=float32), array([[6.7551387e-05, 3.3141472e-04, 1.5235701e-05, ..., 9.9612051e-01,\n",
      "        8.3088553e-06, 1.6944320e-03],\n",
      "       [9.9996006e-01, 1.9402669e-06, 3.3291681e-06, ..., 6.9794146e-07,\n",
      "        1.3653097e-06, 1.9340853e-06],\n",
      "       [5.7982827e-08, 3.8747876e-07, 6.9573332e-07, ..., 9.0547945e-07,\n",
      "        1.9617207e-07, 2.7099670e-05],\n",
      "       ...,\n",
      "       [9.9993992e-01, 1.9114229e-06, 1.7990301e-06, ..., 3.2038304e-07,\n",
      "        3.5003723e-08, 5.7036658e-07],\n",
      "       [1.5980012e-07, 8.2130470e-07, 9.9999368e-01, ..., 1.7576696e-06,\n",
      "        1.9789338e-06, 1.0080000e-08],\n",
      "       [1.6337478e-07, 7.2221820e-07, 1.8204562e-09, ..., 1.0887284e-06,\n",
      "        3.7960515e-06, 9.9995530e-01]], dtype=float32), array([[5.1995080e-06, 6.9845119e-05, 9.0539535e-05, ..., 9.9969280e-01,\n",
      "        4.3712280e-08, 1.2238520e-04],\n",
      "       [9.9994183e-01, 5.4828666e-09, 3.3036806e-05, ..., 1.1622059e-06,\n",
      "        1.0216382e-07, 1.3561588e-05],\n",
      "       [5.0786280e-06, 1.6569247e-05, 1.7521455e-05, ..., 3.7529804e-05,\n",
      "        6.4677641e-07, 2.1211893e-04],\n",
      "       ...,\n",
      "       [9.9992001e-01, 1.5395996e-08, 1.8769690e-05, ..., 1.4630813e-06,\n",
      "        2.3340894e-08, 1.2781384e-05],\n",
      "       [4.9334371e-06, 1.3318666e-05, 9.9991238e-01, ..., 5.2869356e-05,\n",
      "        5.1314164e-06, 3.6881593e-09],\n",
      "       [1.2033365e-05, 1.0260150e-06, 1.8380923e-08, ..., 6.2966883e-06,\n",
      "        2.2796694e-05, 9.9988377e-01]], dtype=float32), array([[9.7483835e-06, 1.7284974e-06, 4.3718680e-07, ..., 9.9592185e-01,\n",
      "        7.7611994e-06, 3.1239614e-03],\n",
      "       [9.9970645e-01, 1.9052199e-07, 1.6458142e-05, ..., 1.6292590e-05,\n",
      "        8.5514666e-06, 2.2832213e-04],\n",
      "       [1.6062953e-06, 1.6155408e-10, 5.3050172e-07, ..., 1.3703506e-06,\n",
      "        5.7569338e-07, 1.3317590e-05],\n",
      "       ...,\n",
      "       [9.9996877e-01, 3.2933320e-07, 2.6234272e-06, ..., 4.4906417e-07,\n",
      "        5.5816571e-07, 9.9859540e-07],\n",
      "       [1.0142967e-06, 1.1299592e-05, 9.9959975e-01, ..., 7.3342992e-05,\n",
      "        9.0372829e-05, 9.9524492e-05],\n",
      "       [7.7226732e-09, 1.0149250e-08, 5.2672267e-10, ..., 1.9938739e-07,\n",
      "        6.9008966e-06, 9.9996424e-01]], dtype=float32), array([[6.88427244e-04, 9.60431935e-05, 2.90097250e-06, ...,\n",
      "        9.85679090e-01, 1.80791525e-04, 1.12669375e-02],\n",
      "       [9.99961138e-01, 1.11373852e-08, 2.28590761e-06, ...,\n",
      "        1.50476481e-07, 5.02967168e-06, 2.60916604e-05],\n",
      "       [6.00458770e-06, 1.00442756e-08, 2.95602094e-05, ...,\n",
      "        4.46243439e-06, 1.32481819e-06, 3.61666607e-04],\n",
      "       ...,\n",
      "       [9.99660373e-01, 3.58918487e-06, 1.29888082e-04, ...,\n",
      "        2.24475691e-08, 5.19853165e-06, 4.21310972e-07],\n",
      "       [4.61727240e-07, 2.66891913e-08, 9.99835610e-01, ...,\n",
      "        6.62291257e-07, 1.22056706e-04, 3.76518500e-07],\n",
      "       [1.69553456e-08, 1.83132851e-08, 4.82791673e-09, ...,\n",
      "        6.99727821e-07, 4.85546207e-06, 9.99952793e-01]], dtype=float32), array([[1.9614429e-06, 7.7661367e-05, 1.1691414e-05, ..., 9.9906033e-01,\n",
      "        3.4960028e-06, 6.1964209e-04],\n",
      "       [9.9996555e-01, 4.0184216e-09, 6.2117761e-07, ..., 4.0607213e-07,\n",
      "        6.5702930e-06, 2.0077356e-05],\n",
      "       [1.7400195e-26, 5.8715435e-25, 8.3287082e-24, ..., 3.9605243e-24,\n",
      "        9.1966860e-27, 7.3505340e-13],\n",
      "       ...,\n",
      "       [1.0000000e+00, 9.6734802e-19, 1.3740520e-08, ..., 5.9302145e-14,\n",
      "        1.4800659e-14, 1.1235854e-13],\n",
      "       [2.2527728e-20, 5.5899109e-21, 1.0000000e+00, ..., 4.1834252e-21,\n",
      "        1.2661534e-18, 4.9849349e-27],\n",
      "       [1.2597678e-12, 2.7410241e-13, 1.4910212e-11, ..., 9.1548505e-12,\n",
      "        3.7489849e-07, 9.9999928e-01]], dtype=float32), array([[4.3606434e-09, 2.5892898e-08, 8.7370666e-11, ..., 9.9999654e-01,\n",
      "        7.0205034e-13, 3.4497818e-06],\n",
      "       [9.9999332e-01, 9.6056800e-12, 4.9528284e-09, ..., 1.2353155e-10,\n",
      "        2.3144291e-09, 3.0477527e-06],\n",
      "       [1.1039137e-15, 6.3759423e-14, 6.9539291e-14, ..., 1.7819205e-12,\n",
      "        3.2479746e-16, 1.8288913e-08],\n",
      "       ...,\n",
      "       [1.0000000e+00, 2.6454853e-23, 1.4831942e-14, ..., 7.5130540e-18,\n",
      "        1.0596520e-17, 1.7471811e-09],\n",
      "       [1.8928772e-11, 3.8149790e-09, 1.0000000e+00, ..., 2.2415955e-08,\n",
      "        1.1770545e-08, 4.4999475e-09],\n",
      "       [1.7150375e-13, 5.4017164e-09, 5.1510086e-14, ..., 1.3889701e-09,\n",
      "        4.9830470e-07, 9.9999940e-01]], dtype=float32), array([[2.09671525e-05, 2.38559805e-05, 1.41439841e-06, ...,\n",
      "        9.99909282e-01, 4.35380576e-09, 4.18040363e-05],\n",
      "       [9.99891162e-01, 2.76307924e-06, 6.15803001e-05, ...,\n",
      "        1.55911112e-05, 4.56159432e-06, 2.31927334e-06],\n",
      "       [3.53421427e-07, 7.93243885e-07, 7.46616479e-07, ...,\n",
      "        1.36028677e-06, 1.22137294e-07, 1.19620345e-04],\n",
      "       ...,\n",
      "       [9.99940991e-01, 3.91323709e-07, 1.32167531e-06, ...,\n",
      "        1.19745516e-06, 4.80669193e-08, 1.79190138e-07],\n",
      "       [2.15612900e-07, 4.16417470e-06, 9.99768198e-01, ...,\n",
      "        8.56932311e-05, 2.94423239e-06, 2.36706697e-07],\n",
      "       [1.69538001e-08, 5.99011258e-08, 8.48722925e-10, ...,\n",
      "        1.27095916e-07, 3.64083144e-06, 9.99991179e-01]], dtype=float32), array([[1.8605117e-06, 8.0931757e-05, 6.8621121e-05, ..., 9.9967885e-01,\n",
      "        1.0938426e-06, 1.3464302e-04],\n",
      "       [9.9985981e-01, 1.6119682e-08, 1.9106110e-05, ..., 1.1966673e-06,\n",
      "        1.0007713e-05, 1.1388931e-05],\n",
      "       [8.7228398e-07, 1.0919987e-05, 4.9078826e-06, ..., 7.1356644e-06,\n",
      "        2.5562661e-06, 6.2761130e-05],\n",
      "       ...,\n",
      "       [9.9987435e-01, 9.2915240e-09, 1.2125618e-05, ..., 9.9156910e-07,\n",
      "        9.4435620e-07, 8.8294346e-06],\n",
      "       [4.9608429e-06, 6.5258805e-06, 9.9987113e-01, ..., 8.1541992e-05,\n",
      "        1.2333607e-05, 3.6708361e-08],\n",
      "       [2.5867430e-06, 4.8553193e-07, 8.2732591e-08, ..., 2.8383745e-05,\n",
      "        4.1372376e-05, 9.9956065e-01]], dtype=float32), array([[7.3848065e-07, 1.6237581e-06, 1.5250567e-08, ..., 9.9982303e-01,\n",
      "        2.0345125e-07, 1.6357291e-04],\n",
      "       [9.9998939e-01, 3.5110406e-10, 2.7923278e-07, ..., 3.3216921e-08,\n",
      "        1.5564050e-06, 7.1846198e-06],\n",
      "       [9.0824159e-08, 4.7920928e-10, 1.2127119e-06, ..., 5.9059730e-06,\n",
      "        2.3867317e-06, 1.3384483e-04],\n",
      "       ...,\n",
      "       [9.9992943e-01, 5.3433005e-09, 2.4270281e-07, ..., 2.6150929e-08,\n",
      "        2.7540307e-07, 5.3292490e-07],\n",
      "       [1.0084277e-07, 2.8980251e-06, 9.9915147e-01, ..., 1.9951824e-04,\n",
      "        5.2064005e-04, 7.5275253e-05],\n",
      "       [1.1831693e-08, 1.1577498e-05, 1.7352887e-07, ..., 4.0109558e-06,\n",
      "        7.4200152e-04, 9.9902701e-01]], dtype=float32), array([[3.1769428e-05, 9.4324305e-06, 2.0187629e-06, ..., 9.9991417e-01,\n",
      "        9.3572640e-07, 2.6728390e-05],\n",
      "       [9.9978632e-01, 1.2753534e-07, 6.0960112e-05, ..., 1.8001592e-06,\n",
      "        5.8726495e-05, 2.3125496e-05],\n",
      "       [1.1763622e-05, 9.9970215e-08, 9.2260198e-05, ..., 8.2334964e-06,\n",
      "        3.0803822e-06, 2.9729624e-04],\n",
      "       ...,\n",
      "       [9.9980956e-01, 1.8871749e-07, 3.3976517e-06, ..., 6.5968891e-07,\n",
      "        1.7692332e-06, 4.0551058e-06],\n",
      "       [1.6650867e-05, 1.2003870e-05, 9.9987483e-01, ..., 3.7868804e-06,\n",
      "        5.4387030e-05, 6.0659431e-06],\n",
      "       [2.6667565e-06, 4.8938649e-08, 1.6697423e-07, ..., 4.5015386e-05,\n",
      "        4.1293948e-05, 9.9984980e-01]], dtype=float32)]\n",
      "[array([7, 0, 4, ..., 0, 2, 9], dtype=int64), array([7, 0, 4, ..., 0, 2, 9], dtype=int64), array([7, 0, 4, ..., 0, 2, 9], dtype=int64), array([7, 0, 4, ..., 0, 2, 9], dtype=int64), array([7, 0, 4, ..., 0, 2, 9], dtype=int64), array([7, 0, 4, ..., 0, 2, 9], dtype=int64), array([7, 0, 4, ..., 0, 2, 9], dtype=int64), array([7, 0, 4, ..., 0, 2, 9], dtype=int64), array([7, 0, 4, ..., 0, 2, 9], dtype=int64), array([7, 0, 4, ..., 0, 2, 9], dtype=int64), array([7, 0, 4, ..., 0, 2, 9], dtype=int64), array([7, 0, 4, ..., 0, 2, 9], dtype=int64)]\n",
      "\n",
      "Model:13\n",
      "\u001b[1m657/657\u001b[0m \u001b[32m━━━━━━━━━━━━━━━━━━━━\u001b[0m\u001b[37m\u001b[0m \u001b[1m1s\u001b[0m 2ms/step\n",
      "[array([[3.86293131e-09, 1.87981497e-09, 3.10755581e-08, ...,\n",
      "        1.00000000e+00, 1.21787858e-09, 3.44385995e-08],\n",
      "       [1.00000000e+00, 3.41053678e-11, 8.24212254e-09, ...,\n",
      "        2.14059916e-11, 3.18579563e-09, 8.88305596e-10],\n",
      "       [3.12591940e-15, 4.72522965e-10, 1.53104578e-11, ...,\n",
      "        1.30852225e-14, 1.48923015e-13, 1.01296564e-07],\n",
      "       ...,\n",
      "       [1.00000000e+00, 1.04341498e-24, 2.16925965e-18, ...,\n",
      "        4.84270789e-20, 1.09879163e-24, 6.53226515e-17],\n",
      "       [9.50715709e-15, 3.83009666e-11, 1.00000000e+00, ...,\n",
      "        4.54949571e-08, 4.49784476e-09, 1.81806593e-14],\n",
      "       [5.92502603e-10, 7.38358766e-12, 1.80206577e-12, ...,\n",
      "        7.63732466e-10, 1.72557790e-09, 1.00000000e+00]], dtype=float32), array([[8.9507533e-11, 1.0150946e-07, 3.9055628e-10, ..., 9.9998975e-01,\n",
      "        3.1622244e-10, 9.9524932e-06],\n",
      "       [9.9995446e-01, 5.5134759e-08, 3.0470183e-06, ..., 7.2731127e-06,\n",
      "        1.2922625e-06, 2.8912033e-05],\n",
      "       [1.5021455e-31, 9.2841612e-30, 2.4442867e-22, ..., 1.0578576e-27,\n",
      "        2.5699723e-27, 8.1285444e-17],\n",
      "       ...,\n",
      "       [1.0000000e+00, 3.7489365e-15, 5.7775701e-10, ..., 7.2592404e-11,\n",
      "        2.0291644e-12, 4.7682029e-08],\n",
      "       [2.7386055e-10, 7.3188612e-13, 1.0000000e+00, ..., 1.4179767e-09,\n",
      "        7.1494544e-10, 3.3885169e-11],\n",
      "       [5.9196749e-12, 5.5752356e-14, 7.3031824e-14, ..., 9.3431585e-10,\n",
      "        1.4742203e-09, 9.9999976e-01]], dtype=float32), array([[6.7551387e-05, 3.3141472e-04, 1.5235701e-05, ..., 9.9612051e-01,\n",
      "        8.3088553e-06, 1.6944320e-03],\n",
      "       [9.9996006e-01, 1.9402669e-06, 3.3291681e-06, ..., 6.9794146e-07,\n",
      "        1.3653097e-06, 1.9340853e-06],\n",
      "       [5.7982827e-08, 3.8747876e-07, 6.9573332e-07, ..., 9.0547945e-07,\n",
      "        1.9617207e-07, 2.7099670e-05],\n",
      "       ...,\n",
      "       [9.9993992e-01, 1.9114229e-06, 1.7990301e-06, ..., 3.2038304e-07,\n",
      "        3.5003723e-08, 5.7036658e-07],\n",
      "       [1.5980012e-07, 8.2130470e-07, 9.9999368e-01, ..., 1.7576696e-06,\n",
      "        1.9789338e-06, 1.0080000e-08],\n",
      "       [1.6337478e-07, 7.2221820e-07, 1.8204562e-09, ..., 1.0887284e-06,\n",
      "        3.7960515e-06, 9.9995530e-01]], dtype=float32), array([[5.1995080e-06, 6.9845119e-05, 9.0539535e-05, ..., 9.9969280e-01,\n",
      "        4.3712280e-08, 1.2238520e-04],\n",
      "       [9.9994183e-01, 5.4828666e-09, 3.3036806e-05, ..., 1.1622059e-06,\n",
      "        1.0216382e-07, 1.3561588e-05],\n",
      "       [5.0786280e-06, 1.6569247e-05, 1.7521455e-05, ..., 3.7529804e-05,\n",
      "        6.4677641e-07, 2.1211893e-04],\n",
      "       ...,\n",
      "       [9.9992001e-01, 1.5395996e-08, 1.8769690e-05, ..., 1.4630813e-06,\n",
      "        2.3340894e-08, 1.2781384e-05],\n",
      "       [4.9334371e-06, 1.3318666e-05, 9.9991238e-01, ..., 5.2869356e-05,\n",
      "        5.1314164e-06, 3.6881593e-09],\n",
      "       [1.2033365e-05, 1.0260150e-06, 1.8380923e-08, ..., 6.2966883e-06,\n",
      "        2.2796694e-05, 9.9988377e-01]], dtype=float32), array([[9.7483835e-06, 1.7284974e-06, 4.3718680e-07, ..., 9.9592185e-01,\n",
      "        7.7611994e-06, 3.1239614e-03],\n",
      "       [9.9970645e-01, 1.9052199e-07, 1.6458142e-05, ..., 1.6292590e-05,\n",
      "        8.5514666e-06, 2.2832213e-04],\n",
      "       [1.6062953e-06, 1.6155408e-10, 5.3050172e-07, ..., 1.3703506e-06,\n",
      "        5.7569338e-07, 1.3317590e-05],\n",
      "       ...,\n",
      "       [9.9996877e-01, 3.2933320e-07, 2.6234272e-06, ..., 4.4906417e-07,\n",
      "        5.5816571e-07, 9.9859540e-07],\n",
      "       [1.0142967e-06, 1.1299592e-05, 9.9959975e-01, ..., 7.3342992e-05,\n",
      "        9.0372829e-05, 9.9524492e-05],\n",
      "       [7.7226732e-09, 1.0149250e-08, 5.2672267e-10, ..., 1.9938739e-07,\n",
      "        6.9008966e-06, 9.9996424e-01]], dtype=float32), array([[6.88427244e-04, 9.60431935e-05, 2.90097250e-06, ...,\n",
      "        9.85679090e-01, 1.80791525e-04, 1.12669375e-02],\n",
      "       [9.99961138e-01, 1.11373852e-08, 2.28590761e-06, ...,\n",
      "        1.50476481e-07, 5.02967168e-06, 2.60916604e-05],\n",
      "       [6.00458770e-06, 1.00442756e-08, 2.95602094e-05, ...,\n",
      "        4.46243439e-06, 1.32481819e-06, 3.61666607e-04],\n",
      "       ...,\n",
      "       [9.99660373e-01, 3.58918487e-06, 1.29888082e-04, ...,\n",
      "        2.24475691e-08, 5.19853165e-06, 4.21310972e-07],\n",
      "       [4.61727240e-07, 2.66891913e-08, 9.99835610e-01, ...,\n",
      "        6.62291257e-07, 1.22056706e-04, 3.76518500e-07],\n",
      "       [1.69553456e-08, 1.83132851e-08, 4.82791673e-09, ...,\n",
      "        6.99727821e-07, 4.85546207e-06, 9.99952793e-01]], dtype=float32), array([[1.9614429e-06, 7.7661367e-05, 1.1691414e-05, ..., 9.9906033e-01,\n",
      "        3.4960028e-06, 6.1964209e-04],\n",
      "       [9.9996555e-01, 4.0184216e-09, 6.2117761e-07, ..., 4.0607213e-07,\n",
      "        6.5702930e-06, 2.0077356e-05],\n",
      "       [1.7400195e-26, 5.8715435e-25, 8.3287082e-24, ..., 3.9605243e-24,\n",
      "        9.1966860e-27, 7.3505340e-13],\n",
      "       ...,\n",
      "       [1.0000000e+00, 9.6734802e-19, 1.3740520e-08, ..., 5.9302145e-14,\n",
      "        1.4800659e-14, 1.1235854e-13],\n",
      "       [2.2527728e-20, 5.5899109e-21, 1.0000000e+00, ..., 4.1834252e-21,\n",
      "        1.2661534e-18, 4.9849349e-27],\n",
      "       [1.2597678e-12, 2.7410241e-13, 1.4910212e-11, ..., 9.1548505e-12,\n",
      "        3.7489849e-07, 9.9999928e-01]], dtype=float32), array([[4.3606434e-09, 2.5892898e-08, 8.7370666e-11, ..., 9.9999654e-01,\n",
      "        7.0205034e-13, 3.4497818e-06],\n",
      "       [9.9999332e-01, 9.6056800e-12, 4.9528284e-09, ..., 1.2353155e-10,\n",
      "        2.3144291e-09, 3.0477527e-06],\n",
      "       [1.1039137e-15, 6.3759423e-14, 6.9539291e-14, ..., 1.7819205e-12,\n",
      "        3.2479746e-16, 1.8288913e-08],\n",
      "       ...,\n",
      "       [1.0000000e+00, 2.6454853e-23, 1.4831942e-14, ..., 7.5130540e-18,\n",
      "        1.0596520e-17, 1.7471811e-09],\n",
      "       [1.8928772e-11, 3.8149790e-09, 1.0000000e+00, ..., 2.2415955e-08,\n",
      "        1.1770545e-08, 4.4999475e-09],\n",
      "       [1.7150375e-13, 5.4017164e-09, 5.1510086e-14, ..., 1.3889701e-09,\n",
      "        4.9830470e-07, 9.9999940e-01]], dtype=float32), array([[2.09671525e-05, 2.38559805e-05, 1.41439841e-06, ...,\n",
      "        9.99909282e-01, 4.35380576e-09, 4.18040363e-05],\n",
      "       [9.99891162e-01, 2.76307924e-06, 6.15803001e-05, ...,\n",
      "        1.55911112e-05, 4.56159432e-06, 2.31927334e-06],\n",
      "       [3.53421427e-07, 7.93243885e-07, 7.46616479e-07, ...,\n",
      "        1.36028677e-06, 1.22137294e-07, 1.19620345e-04],\n",
      "       ...,\n",
      "       [9.99940991e-01, 3.91323709e-07, 1.32167531e-06, ...,\n",
      "        1.19745516e-06, 4.80669193e-08, 1.79190138e-07],\n",
      "       [2.15612900e-07, 4.16417470e-06, 9.99768198e-01, ...,\n",
      "        8.56932311e-05, 2.94423239e-06, 2.36706697e-07],\n",
      "       [1.69538001e-08, 5.99011258e-08, 8.48722925e-10, ...,\n",
      "        1.27095916e-07, 3.64083144e-06, 9.99991179e-01]], dtype=float32), array([[1.8605117e-06, 8.0931757e-05, 6.8621121e-05, ..., 9.9967885e-01,\n",
      "        1.0938426e-06, 1.3464302e-04],\n",
      "       [9.9985981e-01, 1.6119682e-08, 1.9106110e-05, ..., 1.1966673e-06,\n",
      "        1.0007713e-05, 1.1388931e-05],\n",
      "       [8.7228398e-07, 1.0919987e-05, 4.9078826e-06, ..., 7.1356644e-06,\n",
      "        2.5562661e-06, 6.2761130e-05],\n",
      "       ...,\n",
      "       [9.9987435e-01, 9.2915240e-09, 1.2125618e-05, ..., 9.9156910e-07,\n",
      "        9.4435620e-07, 8.8294346e-06],\n",
      "       [4.9608429e-06, 6.5258805e-06, 9.9987113e-01, ..., 8.1541992e-05,\n",
      "        1.2333607e-05, 3.6708361e-08],\n",
      "       [2.5867430e-06, 4.8553193e-07, 8.2732591e-08, ..., 2.8383745e-05,\n",
      "        4.1372376e-05, 9.9956065e-01]], dtype=float32), array([[7.3848065e-07, 1.6237581e-06, 1.5250567e-08, ..., 9.9982303e-01,\n",
      "        2.0345125e-07, 1.6357291e-04],\n",
      "       [9.9998939e-01, 3.5110406e-10, 2.7923278e-07, ..., 3.3216921e-08,\n",
      "        1.5564050e-06, 7.1846198e-06],\n",
      "       [9.0824159e-08, 4.7920928e-10, 1.2127119e-06, ..., 5.9059730e-06,\n",
      "        2.3867317e-06, 1.3384483e-04],\n",
      "       ...,\n",
      "       [9.9992943e-01, 5.3433005e-09, 2.4270281e-07, ..., 2.6150929e-08,\n",
      "        2.7540307e-07, 5.3292490e-07],\n",
      "       [1.0084277e-07, 2.8980251e-06, 9.9915147e-01, ..., 1.9951824e-04,\n",
      "        5.2064005e-04, 7.5275253e-05],\n",
      "       [1.1831693e-08, 1.1577498e-05, 1.7352887e-07, ..., 4.0109558e-06,\n",
      "        7.4200152e-04, 9.9902701e-01]], dtype=float32), array([[3.1769428e-05, 9.4324305e-06, 2.0187629e-06, ..., 9.9991417e-01,\n",
      "        9.3572640e-07, 2.6728390e-05],\n",
      "       [9.9978632e-01, 1.2753534e-07, 6.0960112e-05, ..., 1.8001592e-06,\n",
      "        5.8726495e-05, 2.3125496e-05],\n",
      "       [1.1763622e-05, 9.9970215e-08, 9.2260198e-05, ..., 8.2334964e-06,\n",
      "        3.0803822e-06, 2.9729624e-04],\n",
      "       ...,\n",
      "       [9.9980956e-01, 1.8871749e-07, 3.3976517e-06, ..., 6.5968891e-07,\n",
      "        1.7692332e-06, 4.0551058e-06],\n",
      "       [1.6650867e-05, 1.2003870e-05, 9.9987483e-01, ..., 3.7868804e-06,\n",
      "        5.4387030e-05, 6.0659431e-06],\n",
      "       [2.6667565e-06, 4.8938649e-08, 1.6697423e-07, ..., 4.5015386e-05,\n",
      "        4.1293948e-05, 9.9984980e-01]], dtype=float32), array([[6.44179745e-05, 2.13305408e-04, 7.51848638e-05, ...,\n",
      "        9.96913910e-01, 2.28950630e-05, 2.53504911e-03],\n",
      "       [9.99512672e-01, 4.43561447e-07, 7.32870976e-05, ...,\n",
      "        1.11588743e-05, 5.52061683e-05, 2.35950338e-05],\n",
      "       [1.38818741e-05, 3.15950747e-05, 7.00536984e-05, ...,\n",
      "        3.50435366e-05, 1.28563270e-05, 3.63271509e-04],\n",
      "       ...,\n",
      "       [9.99832749e-01, 5.01120994e-08, 1.16005021e-05, ...,\n",
      "        1.32390255e-06, 3.00415127e-06, 2.11829665e-05],\n",
      "       [7.58306942e-06, 6.13999291e-05, 9.99820888e-01, ...,\n",
      "        3.33061180e-05, 2.03093205e-05, 1.56492183e-06],\n",
      "       [2.19926665e-06, 5.44425484e-06, 3.17825356e-06, ...,\n",
      "        1.30138615e-05, 6.87745887e-06, 9.99890447e-01]], dtype=float32)]\n",
      "[array([7, 0, 4, ..., 0, 2, 9], dtype=int64), array([7, 0, 4, ..., 0, 2, 9], dtype=int64), array([7, 0, 4, ..., 0, 2, 9], dtype=int64), array([7, 0, 4, ..., 0, 2, 9], dtype=int64), array([7, 0, 4, ..., 0, 2, 9], dtype=int64), array([7, 0, 4, ..., 0, 2, 9], dtype=int64), array([7, 0, 4, ..., 0, 2, 9], dtype=int64), array([7, 0, 4, ..., 0, 2, 9], dtype=int64), array([7, 0, 4, ..., 0, 2, 9], dtype=int64), array([7, 0, 4, ..., 0, 2, 9], dtype=int64), array([7, 0, 4, ..., 0, 2, 9], dtype=int64), array([7, 0, 4, ..., 0, 2, 9], dtype=int64), array([7, 0, 4, ..., 0, 2, 9], dtype=int64)]\n",
      "\n",
      "Model:14\n",
      "\u001b[1m657/657\u001b[0m \u001b[32m━━━━━━━━━━━━━━━━━━━━\u001b[0m\u001b[37m\u001b[0m \u001b[1m1s\u001b[0m 2ms/step\n",
      "[array([[3.86293131e-09, 1.87981497e-09, 3.10755581e-08, ...,\n",
      "        1.00000000e+00, 1.21787858e-09, 3.44385995e-08],\n",
      "       [1.00000000e+00, 3.41053678e-11, 8.24212254e-09, ...,\n",
      "        2.14059916e-11, 3.18579563e-09, 8.88305596e-10],\n",
      "       [3.12591940e-15, 4.72522965e-10, 1.53104578e-11, ...,\n",
      "        1.30852225e-14, 1.48923015e-13, 1.01296564e-07],\n",
      "       ...,\n",
      "       [1.00000000e+00, 1.04341498e-24, 2.16925965e-18, ...,\n",
      "        4.84270789e-20, 1.09879163e-24, 6.53226515e-17],\n",
      "       [9.50715709e-15, 3.83009666e-11, 1.00000000e+00, ...,\n",
      "        4.54949571e-08, 4.49784476e-09, 1.81806593e-14],\n",
      "       [5.92502603e-10, 7.38358766e-12, 1.80206577e-12, ...,\n",
      "        7.63732466e-10, 1.72557790e-09, 1.00000000e+00]], dtype=float32), array([[8.9507533e-11, 1.0150946e-07, 3.9055628e-10, ..., 9.9998975e-01,\n",
      "        3.1622244e-10, 9.9524932e-06],\n",
      "       [9.9995446e-01, 5.5134759e-08, 3.0470183e-06, ..., 7.2731127e-06,\n",
      "        1.2922625e-06, 2.8912033e-05],\n",
      "       [1.5021455e-31, 9.2841612e-30, 2.4442867e-22, ..., 1.0578576e-27,\n",
      "        2.5699723e-27, 8.1285444e-17],\n",
      "       ...,\n",
      "       [1.0000000e+00, 3.7489365e-15, 5.7775701e-10, ..., 7.2592404e-11,\n",
      "        2.0291644e-12, 4.7682029e-08],\n",
      "       [2.7386055e-10, 7.3188612e-13, 1.0000000e+00, ..., 1.4179767e-09,\n",
      "        7.1494544e-10, 3.3885169e-11],\n",
      "       [5.9196749e-12, 5.5752356e-14, 7.3031824e-14, ..., 9.3431585e-10,\n",
      "        1.4742203e-09, 9.9999976e-01]], dtype=float32), array([[6.7551387e-05, 3.3141472e-04, 1.5235701e-05, ..., 9.9612051e-01,\n",
      "        8.3088553e-06, 1.6944320e-03],\n",
      "       [9.9996006e-01, 1.9402669e-06, 3.3291681e-06, ..., 6.9794146e-07,\n",
      "        1.3653097e-06, 1.9340853e-06],\n",
      "       [5.7982827e-08, 3.8747876e-07, 6.9573332e-07, ..., 9.0547945e-07,\n",
      "        1.9617207e-07, 2.7099670e-05],\n",
      "       ...,\n",
      "       [9.9993992e-01, 1.9114229e-06, 1.7990301e-06, ..., 3.2038304e-07,\n",
      "        3.5003723e-08, 5.7036658e-07],\n",
      "       [1.5980012e-07, 8.2130470e-07, 9.9999368e-01, ..., 1.7576696e-06,\n",
      "        1.9789338e-06, 1.0080000e-08],\n",
      "       [1.6337478e-07, 7.2221820e-07, 1.8204562e-09, ..., 1.0887284e-06,\n",
      "        3.7960515e-06, 9.9995530e-01]], dtype=float32), array([[5.1995080e-06, 6.9845119e-05, 9.0539535e-05, ..., 9.9969280e-01,\n",
      "        4.3712280e-08, 1.2238520e-04],\n",
      "       [9.9994183e-01, 5.4828666e-09, 3.3036806e-05, ..., 1.1622059e-06,\n",
      "        1.0216382e-07, 1.3561588e-05],\n",
      "       [5.0786280e-06, 1.6569247e-05, 1.7521455e-05, ..., 3.7529804e-05,\n",
      "        6.4677641e-07, 2.1211893e-04],\n",
      "       ...,\n",
      "       [9.9992001e-01, 1.5395996e-08, 1.8769690e-05, ..., 1.4630813e-06,\n",
      "        2.3340894e-08, 1.2781384e-05],\n",
      "       [4.9334371e-06, 1.3318666e-05, 9.9991238e-01, ..., 5.2869356e-05,\n",
      "        5.1314164e-06, 3.6881593e-09],\n",
      "       [1.2033365e-05, 1.0260150e-06, 1.8380923e-08, ..., 6.2966883e-06,\n",
      "        2.2796694e-05, 9.9988377e-01]], dtype=float32), array([[9.7483835e-06, 1.7284974e-06, 4.3718680e-07, ..., 9.9592185e-01,\n",
      "        7.7611994e-06, 3.1239614e-03],\n",
      "       [9.9970645e-01, 1.9052199e-07, 1.6458142e-05, ..., 1.6292590e-05,\n",
      "        8.5514666e-06, 2.2832213e-04],\n",
      "       [1.6062953e-06, 1.6155408e-10, 5.3050172e-07, ..., 1.3703506e-06,\n",
      "        5.7569338e-07, 1.3317590e-05],\n",
      "       ...,\n",
      "       [9.9996877e-01, 3.2933320e-07, 2.6234272e-06, ..., 4.4906417e-07,\n",
      "        5.5816571e-07, 9.9859540e-07],\n",
      "       [1.0142967e-06, 1.1299592e-05, 9.9959975e-01, ..., 7.3342992e-05,\n",
      "        9.0372829e-05, 9.9524492e-05],\n",
      "       [7.7226732e-09, 1.0149250e-08, 5.2672267e-10, ..., 1.9938739e-07,\n",
      "        6.9008966e-06, 9.9996424e-01]], dtype=float32), array([[6.88427244e-04, 9.60431935e-05, 2.90097250e-06, ...,\n",
      "        9.85679090e-01, 1.80791525e-04, 1.12669375e-02],\n",
      "       [9.99961138e-01, 1.11373852e-08, 2.28590761e-06, ...,\n",
      "        1.50476481e-07, 5.02967168e-06, 2.60916604e-05],\n",
      "       [6.00458770e-06, 1.00442756e-08, 2.95602094e-05, ...,\n",
      "        4.46243439e-06, 1.32481819e-06, 3.61666607e-04],\n",
      "       ...,\n",
      "       [9.99660373e-01, 3.58918487e-06, 1.29888082e-04, ...,\n",
      "        2.24475691e-08, 5.19853165e-06, 4.21310972e-07],\n",
      "       [4.61727240e-07, 2.66891913e-08, 9.99835610e-01, ...,\n",
      "        6.62291257e-07, 1.22056706e-04, 3.76518500e-07],\n",
      "       [1.69553456e-08, 1.83132851e-08, 4.82791673e-09, ...,\n",
      "        6.99727821e-07, 4.85546207e-06, 9.99952793e-01]], dtype=float32), array([[1.9614429e-06, 7.7661367e-05, 1.1691414e-05, ..., 9.9906033e-01,\n",
      "        3.4960028e-06, 6.1964209e-04],\n",
      "       [9.9996555e-01, 4.0184216e-09, 6.2117761e-07, ..., 4.0607213e-07,\n",
      "        6.5702930e-06, 2.0077356e-05],\n",
      "       [1.7400195e-26, 5.8715435e-25, 8.3287082e-24, ..., 3.9605243e-24,\n",
      "        9.1966860e-27, 7.3505340e-13],\n",
      "       ...,\n",
      "       [1.0000000e+00, 9.6734802e-19, 1.3740520e-08, ..., 5.9302145e-14,\n",
      "        1.4800659e-14, 1.1235854e-13],\n",
      "       [2.2527728e-20, 5.5899109e-21, 1.0000000e+00, ..., 4.1834252e-21,\n",
      "        1.2661534e-18, 4.9849349e-27],\n",
      "       [1.2597678e-12, 2.7410241e-13, 1.4910212e-11, ..., 9.1548505e-12,\n",
      "        3.7489849e-07, 9.9999928e-01]], dtype=float32), array([[4.3606434e-09, 2.5892898e-08, 8.7370666e-11, ..., 9.9999654e-01,\n",
      "        7.0205034e-13, 3.4497818e-06],\n",
      "       [9.9999332e-01, 9.6056800e-12, 4.9528284e-09, ..., 1.2353155e-10,\n",
      "        2.3144291e-09, 3.0477527e-06],\n",
      "       [1.1039137e-15, 6.3759423e-14, 6.9539291e-14, ..., 1.7819205e-12,\n",
      "        3.2479746e-16, 1.8288913e-08],\n",
      "       ...,\n",
      "       [1.0000000e+00, 2.6454853e-23, 1.4831942e-14, ..., 7.5130540e-18,\n",
      "        1.0596520e-17, 1.7471811e-09],\n",
      "       [1.8928772e-11, 3.8149790e-09, 1.0000000e+00, ..., 2.2415955e-08,\n",
      "        1.1770545e-08, 4.4999475e-09],\n",
      "       [1.7150375e-13, 5.4017164e-09, 5.1510086e-14, ..., 1.3889701e-09,\n",
      "        4.9830470e-07, 9.9999940e-01]], dtype=float32), array([[2.09671525e-05, 2.38559805e-05, 1.41439841e-06, ...,\n",
      "        9.99909282e-01, 4.35380576e-09, 4.18040363e-05],\n",
      "       [9.99891162e-01, 2.76307924e-06, 6.15803001e-05, ...,\n",
      "        1.55911112e-05, 4.56159432e-06, 2.31927334e-06],\n",
      "       [3.53421427e-07, 7.93243885e-07, 7.46616479e-07, ...,\n",
      "        1.36028677e-06, 1.22137294e-07, 1.19620345e-04],\n",
      "       ...,\n",
      "       [9.99940991e-01, 3.91323709e-07, 1.32167531e-06, ...,\n",
      "        1.19745516e-06, 4.80669193e-08, 1.79190138e-07],\n",
      "       [2.15612900e-07, 4.16417470e-06, 9.99768198e-01, ...,\n",
      "        8.56932311e-05, 2.94423239e-06, 2.36706697e-07],\n",
      "       [1.69538001e-08, 5.99011258e-08, 8.48722925e-10, ...,\n",
      "        1.27095916e-07, 3.64083144e-06, 9.99991179e-01]], dtype=float32), array([[1.8605117e-06, 8.0931757e-05, 6.8621121e-05, ..., 9.9967885e-01,\n",
      "        1.0938426e-06, 1.3464302e-04],\n",
      "       [9.9985981e-01, 1.6119682e-08, 1.9106110e-05, ..., 1.1966673e-06,\n",
      "        1.0007713e-05, 1.1388931e-05],\n",
      "       [8.7228398e-07, 1.0919987e-05, 4.9078826e-06, ..., 7.1356644e-06,\n",
      "        2.5562661e-06, 6.2761130e-05],\n",
      "       ...,\n",
      "       [9.9987435e-01, 9.2915240e-09, 1.2125618e-05, ..., 9.9156910e-07,\n",
      "        9.4435620e-07, 8.8294346e-06],\n",
      "       [4.9608429e-06, 6.5258805e-06, 9.9987113e-01, ..., 8.1541992e-05,\n",
      "        1.2333607e-05, 3.6708361e-08],\n",
      "       [2.5867430e-06, 4.8553193e-07, 8.2732591e-08, ..., 2.8383745e-05,\n",
      "        4.1372376e-05, 9.9956065e-01]], dtype=float32), array([[7.3848065e-07, 1.6237581e-06, 1.5250567e-08, ..., 9.9982303e-01,\n",
      "        2.0345125e-07, 1.6357291e-04],\n",
      "       [9.9998939e-01, 3.5110406e-10, 2.7923278e-07, ..., 3.3216921e-08,\n",
      "        1.5564050e-06, 7.1846198e-06],\n",
      "       [9.0824159e-08, 4.7920928e-10, 1.2127119e-06, ..., 5.9059730e-06,\n",
      "        2.3867317e-06, 1.3384483e-04],\n",
      "       ...,\n",
      "       [9.9992943e-01, 5.3433005e-09, 2.4270281e-07, ..., 2.6150929e-08,\n",
      "        2.7540307e-07, 5.3292490e-07],\n",
      "       [1.0084277e-07, 2.8980251e-06, 9.9915147e-01, ..., 1.9951824e-04,\n",
      "        5.2064005e-04, 7.5275253e-05],\n",
      "       [1.1831693e-08, 1.1577498e-05, 1.7352887e-07, ..., 4.0109558e-06,\n",
      "        7.4200152e-04, 9.9902701e-01]], dtype=float32), array([[3.1769428e-05, 9.4324305e-06, 2.0187629e-06, ..., 9.9991417e-01,\n",
      "        9.3572640e-07, 2.6728390e-05],\n",
      "       [9.9978632e-01, 1.2753534e-07, 6.0960112e-05, ..., 1.8001592e-06,\n",
      "        5.8726495e-05, 2.3125496e-05],\n",
      "       [1.1763622e-05, 9.9970215e-08, 9.2260198e-05, ..., 8.2334964e-06,\n",
      "        3.0803822e-06, 2.9729624e-04],\n",
      "       ...,\n",
      "       [9.9980956e-01, 1.8871749e-07, 3.3976517e-06, ..., 6.5968891e-07,\n",
      "        1.7692332e-06, 4.0551058e-06],\n",
      "       [1.6650867e-05, 1.2003870e-05, 9.9987483e-01, ..., 3.7868804e-06,\n",
      "        5.4387030e-05, 6.0659431e-06],\n",
      "       [2.6667565e-06, 4.8938649e-08, 1.6697423e-07, ..., 4.5015386e-05,\n",
      "        4.1293948e-05, 9.9984980e-01]], dtype=float32), array([[6.44179745e-05, 2.13305408e-04, 7.51848638e-05, ...,\n",
      "        9.96913910e-01, 2.28950630e-05, 2.53504911e-03],\n",
      "       [9.99512672e-01, 4.43561447e-07, 7.32870976e-05, ...,\n",
      "        1.11588743e-05, 5.52061683e-05, 2.35950338e-05],\n",
      "       [1.38818741e-05, 3.15950747e-05, 7.00536984e-05, ...,\n",
      "        3.50435366e-05, 1.28563270e-05, 3.63271509e-04],\n",
      "       ...,\n",
      "       [9.99832749e-01, 5.01120994e-08, 1.16005021e-05, ...,\n",
      "        1.32390255e-06, 3.00415127e-06, 2.11829665e-05],\n",
      "       [7.58306942e-06, 6.13999291e-05, 9.99820888e-01, ...,\n",
      "        3.33061180e-05, 2.03093205e-05, 1.56492183e-06],\n",
      "       [2.19926665e-06, 5.44425484e-06, 3.17825356e-06, ...,\n",
      "        1.30138615e-05, 6.87745887e-06, 9.99890447e-01]], dtype=float32), array([[7.1281043e-05, 1.2189215e-05, 9.0879857e-06, ..., 9.9822730e-01,\n",
      "        3.8964707e-05, 9.6985826e-04],\n",
      "       [9.9946612e-01, 1.6431642e-08, 9.1271277e-06, ..., 3.9965753e-06,\n",
      "        9.7252938e-05, 3.2316937e-05],\n",
      "       [7.6365104e-06, 1.2697990e-05, 2.8622952e-05, ..., 6.5110808e-06,\n",
      "        2.0689846e-05, 2.2159178e-04],\n",
      "       ...,\n",
      "       [9.9981028e-01, 6.2570841e-08, 7.5090029e-06, ..., 5.1977695e-06,\n",
      "        1.2574019e-04, 6.1340311e-06],\n",
      "       [6.4632943e-05, 1.0501813e-04, 6.9042969e-01, ..., 3.2031469e-04,\n",
      "        1.1626104e-02, 1.9767093e-03],\n",
      "       [2.3459083e-06, 2.4554626e-07, 1.1609235e-06, ..., 9.9999888e-06,\n",
      "        4.2189746e-05, 9.9987638e-01]], dtype=float32)]\n",
      "[array([7, 0, 4, ..., 0, 2, 9], dtype=int64), array([7, 0, 4, ..., 0, 2, 9], dtype=int64), array([7, 0, 4, ..., 0, 2, 9], dtype=int64), array([7, 0, 4, ..., 0, 2, 9], dtype=int64), array([7, 0, 4, ..., 0, 2, 9], dtype=int64), array([7, 0, 4, ..., 0, 2, 9], dtype=int64), array([7, 0, 4, ..., 0, 2, 9], dtype=int64), array([7, 0, 4, ..., 0, 2, 9], dtype=int64), array([7, 0, 4, ..., 0, 2, 9], dtype=int64), array([7, 0, 4, ..., 0, 2, 9], dtype=int64), array([7, 0, 4, ..., 0, 2, 9], dtype=int64), array([7, 0, 4, ..., 0, 2, 9], dtype=int64), array([7, 0, 4, ..., 0, 2, 9], dtype=int64), array([7, 0, 4, ..., 0, 2, 9], dtype=int64)]\n",
      "\n",
      "Model:15\n",
      "\u001b[1m657/657\u001b[0m \u001b[32m━━━━━━━━━━━━━━━━━━━━\u001b[0m\u001b[37m\u001b[0m \u001b[1m1s\u001b[0m 2ms/step\n",
      "[array([[3.86293131e-09, 1.87981497e-09, 3.10755581e-08, ...,\n",
      "        1.00000000e+00, 1.21787858e-09, 3.44385995e-08],\n",
      "       [1.00000000e+00, 3.41053678e-11, 8.24212254e-09, ...,\n",
      "        2.14059916e-11, 3.18579563e-09, 8.88305596e-10],\n",
      "       [3.12591940e-15, 4.72522965e-10, 1.53104578e-11, ...,\n",
      "        1.30852225e-14, 1.48923015e-13, 1.01296564e-07],\n",
      "       ...,\n",
      "       [1.00000000e+00, 1.04341498e-24, 2.16925965e-18, ...,\n",
      "        4.84270789e-20, 1.09879163e-24, 6.53226515e-17],\n",
      "       [9.50715709e-15, 3.83009666e-11, 1.00000000e+00, ...,\n",
      "        4.54949571e-08, 4.49784476e-09, 1.81806593e-14],\n",
      "       [5.92502603e-10, 7.38358766e-12, 1.80206577e-12, ...,\n",
      "        7.63732466e-10, 1.72557790e-09, 1.00000000e+00]], dtype=float32), array([[8.9507533e-11, 1.0150946e-07, 3.9055628e-10, ..., 9.9998975e-01,\n",
      "        3.1622244e-10, 9.9524932e-06],\n",
      "       [9.9995446e-01, 5.5134759e-08, 3.0470183e-06, ..., 7.2731127e-06,\n",
      "        1.2922625e-06, 2.8912033e-05],\n",
      "       [1.5021455e-31, 9.2841612e-30, 2.4442867e-22, ..., 1.0578576e-27,\n",
      "        2.5699723e-27, 8.1285444e-17],\n",
      "       ...,\n",
      "       [1.0000000e+00, 3.7489365e-15, 5.7775701e-10, ..., 7.2592404e-11,\n",
      "        2.0291644e-12, 4.7682029e-08],\n",
      "       [2.7386055e-10, 7.3188612e-13, 1.0000000e+00, ..., 1.4179767e-09,\n",
      "        7.1494544e-10, 3.3885169e-11],\n",
      "       [5.9196749e-12, 5.5752356e-14, 7.3031824e-14, ..., 9.3431585e-10,\n",
      "        1.4742203e-09, 9.9999976e-01]], dtype=float32), array([[6.7551387e-05, 3.3141472e-04, 1.5235701e-05, ..., 9.9612051e-01,\n",
      "        8.3088553e-06, 1.6944320e-03],\n",
      "       [9.9996006e-01, 1.9402669e-06, 3.3291681e-06, ..., 6.9794146e-07,\n",
      "        1.3653097e-06, 1.9340853e-06],\n",
      "       [5.7982827e-08, 3.8747876e-07, 6.9573332e-07, ..., 9.0547945e-07,\n",
      "        1.9617207e-07, 2.7099670e-05],\n",
      "       ...,\n",
      "       [9.9993992e-01, 1.9114229e-06, 1.7990301e-06, ..., 3.2038304e-07,\n",
      "        3.5003723e-08, 5.7036658e-07],\n",
      "       [1.5980012e-07, 8.2130470e-07, 9.9999368e-01, ..., 1.7576696e-06,\n",
      "        1.9789338e-06, 1.0080000e-08],\n",
      "       [1.6337478e-07, 7.2221820e-07, 1.8204562e-09, ..., 1.0887284e-06,\n",
      "        3.7960515e-06, 9.9995530e-01]], dtype=float32), array([[5.1995080e-06, 6.9845119e-05, 9.0539535e-05, ..., 9.9969280e-01,\n",
      "        4.3712280e-08, 1.2238520e-04],\n",
      "       [9.9994183e-01, 5.4828666e-09, 3.3036806e-05, ..., 1.1622059e-06,\n",
      "        1.0216382e-07, 1.3561588e-05],\n",
      "       [5.0786280e-06, 1.6569247e-05, 1.7521455e-05, ..., 3.7529804e-05,\n",
      "        6.4677641e-07, 2.1211893e-04],\n",
      "       ...,\n",
      "       [9.9992001e-01, 1.5395996e-08, 1.8769690e-05, ..., 1.4630813e-06,\n",
      "        2.3340894e-08, 1.2781384e-05],\n",
      "       [4.9334371e-06, 1.3318666e-05, 9.9991238e-01, ..., 5.2869356e-05,\n",
      "        5.1314164e-06, 3.6881593e-09],\n",
      "       [1.2033365e-05, 1.0260150e-06, 1.8380923e-08, ..., 6.2966883e-06,\n",
      "        2.2796694e-05, 9.9988377e-01]], dtype=float32), array([[9.7483835e-06, 1.7284974e-06, 4.3718680e-07, ..., 9.9592185e-01,\n",
      "        7.7611994e-06, 3.1239614e-03],\n",
      "       [9.9970645e-01, 1.9052199e-07, 1.6458142e-05, ..., 1.6292590e-05,\n",
      "        8.5514666e-06, 2.2832213e-04],\n",
      "       [1.6062953e-06, 1.6155408e-10, 5.3050172e-07, ..., 1.3703506e-06,\n",
      "        5.7569338e-07, 1.3317590e-05],\n",
      "       ...,\n",
      "       [9.9996877e-01, 3.2933320e-07, 2.6234272e-06, ..., 4.4906417e-07,\n",
      "        5.5816571e-07, 9.9859540e-07],\n",
      "       [1.0142967e-06, 1.1299592e-05, 9.9959975e-01, ..., 7.3342992e-05,\n",
      "        9.0372829e-05, 9.9524492e-05],\n",
      "       [7.7226732e-09, 1.0149250e-08, 5.2672267e-10, ..., 1.9938739e-07,\n",
      "        6.9008966e-06, 9.9996424e-01]], dtype=float32), array([[6.88427244e-04, 9.60431935e-05, 2.90097250e-06, ...,\n",
      "        9.85679090e-01, 1.80791525e-04, 1.12669375e-02],\n",
      "       [9.99961138e-01, 1.11373852e-08, 2.28590761e-06, ...,\n",
      "        1.50476481e-07, 5.02967168e-06, 2.60916604e-05],\n",
      "       [6.00458770e-06, 1.00442756e-08, 2.95602094e-05, ...,\n",
      "        4.46243439e-06, 1.32481819e-06, 3.61666607e-04],\n",
      "       ...,\n",
      "       [9.99660373e-01, 3.58918487e-06, 1.29888082e-04, ...,\n",
      "        2.24475691e-08, 5.19853165e-06, 4.21310972e-07],\n",
      "       [4.61727240e-07, 2.66891913e-08, 9.99835610e-01, ...,\n",
      "        6.62291257e-07, 1.22056706e-04, 3.76518500e-07],\n",
      "       [1.69553456e-08, 1.83132851e-08, 4.82791673e-09, ...,\n",
      "        6.99727821e-07, 4.85546207e-06, 9.99952793e-01]], dtype=float32), array([[1.9614429e-06, 7.7661367e-05, 1.1691414e-05, ..., 9.9906033e-01,\n",
      "        3.4960028e-06, 6.1964209e-04],\n",
      "       [9.9996555e-01, 4.0184216e-09, 6.2117761e-07, ..., 4.0607213e-07,\n",
      "        6.5702930e-06, 2.0077356e-05],\n",
      "       [1.7400195e-26, 5.8715435e-25, 8.3287082e-24, ..., 3.9605243e-24,\n",
      "        9.1966860e-27, 7.3505340e-13],\n",
      "       ...,\n",
      "       [1.0000000e+00, 9.6734802e-19, 1.3740520e-08, ..., 5.9302145e-14,\n",
      "        1.4800659e-14, 1.1235854e-13],\n",
      "       [2.2527728e-20, 5.5899109e-21, 1.0000000e+00, ..., 4.1834252e-21,\n",
      "        1.2661534e-18, 4.9849349e-27],\n",
      "       [1.2597678e-12, 2.7410241e-13, 1.4910212e-11, ..., 9.1548505e-12,\n",
      "        3.7489849e-07, 9.9999928e-01]], dtype=float32), array([[4.3606434e-09, 2.5892898e-08, 8.7370666e-11, ..., 9.9999654e-01,\n",
      "        7.0205034e-13, 3.4497818e-06],\n",
      "       [9.9999332e-01, 9.6056800e-12, 4.9528284e-09, ..., 1.2353155e-10,\n",
      "        2.3144291e-09, 3.0477527e-06],\n",
      "       [1.1039137e-15, 6.3759423e-14, 6.9539291e-14, ..., 1.7819205e-12,\n",
      "        3.2479746e-16, 1.8288913e-08],\n",
      "       ...,\n",
      "       [1.0000000e+00, 2.6454853e-23, 1.4831942e-14, ..., 7.5130540e-18,\n",
      "        1.0596520e-17, 1.7471811e-09],\n",
      "       [1.8928772e-11, 3.8149790e-09, 1.0000000e+00, ..., 2.2415955e-08,\n",
      "        1.1770545e-08, 4.4999475e-09],\n",
      "       [1.7150375e-13, 5.4017164e-09, 5.1510086e-14, ..., 1.3889701e-09,\n",
      "        4.9830470e-07, 9.9999940e-01]], dtype=float32), array([[2.09671525e-05, 2.38559805e-05, 1.41439841e-06, ...,\n",
      "        9.99909282e-01, 4.35380576e-09, 4.18040363e-05],\n",
      "       [9.99891162e-01, 2.76307924e-06, 6.15803001e-05, ...,\n",
      "        1.55911112e-05, 4.56159432e-06, 2.31927334e-06],\n",
      "       [3.53421427e-07, 7.93243885e-07, 7.46616479e-07, ...,\n",
      "        1.36028677e-06, 1.22137294e-07, 1.19620345e-04],\n",
      "       ...,\n",
      "       [9.99940991e-01, 3.91323709e-07, 1.32167531e-06, ...,\n",
      "        1.19745516e-06, 4.80669193e-08, 1.79190138e-07],\n",
      "       [2.15612900e-07, 4.16417470e-06, 9.99768198e-01, ...,\n",
      "        8.56932311e-05, 2.94423239e-06, 2.36706697e-07],\n",
      "       [1.69538001e-08, 5.99011258e-08, 8.48722925e-10, ...,\n",
      "        1.27095916e-07, 3.64083144e-06, 9.99991179e-01]], dtype=float32), array([[1.8605117e-06, 8.0931757e-05, 6.8621121e-05, ..., 9.9967885e-01,\n",
      "        1.0938426e-06, 1.3464302e-04],\n",
      "       [9.9985981e-01, 1.6119682e-08, 1.9106110e-05, ..., 1.1966673e-06,\n",
      "        1.0007713e-05, 1.1388931e-05],\n",
      "       [8.7228398e-07, 1.0919987e-05, 4.9078826e-06, ..., 7.1356644e-06,\n",
      "        2.5562661e-06, 6.2761130e-05],\n",
      "       ...,\n",
      "       [9.9987435e-01, 9.2915240e-09, 1.2125618e-05, ..., 9.9156910e-07,\n",
      "        9.4435620e-07, 8.8294346e-06],\n",
      "       [4.9608429e-06, 6.5258805e-06, 9.9987113e-01, ..., 8.1541992e-05,\n",
      "        1.2333607e-05, 3.6708361e-08],\n",
      "       [2.5867430e-06, 4.8553193e-07, 8.2732591e-08, ..., 2.8383745e-05,\n",
      "        4.1372376e-05, 9.9956065e-01]], dtype=float32), array([[7.3848065e-07, 1.6237581e-06, 1.5250567e-08, ..., 9.9982303e-01,\n",
      "        2.0345125e-07, 1.6357291e-04],\n",
      "       [9.9998939e-01, 3.5110406e-10, 2.7923278e-07, ..., 3.3216921e-08,\n",
      "        1.5564050e-06, 7.1846198e-06],\n",
      "       [9.0824159e-08, 4.7920928e-10, 1.2127119e-06, ..., 5.9059730e-06,\n",
      "        2.3867317e-06, 1.3384483e-04],\n",
      "       ...,\n",
      "       [9.9992943e-01, 5.3433005e-09, 2.4270281e-07, ..., 2.6150929e-08,\n",
      "        2.7540307e-07, 5.3292490e-07],\n",
      "       [1.0084277e-07, 2.8980251e-06, 9.9915147e-01, ..., 1.9951824e-04,\n",
      "        5.2064005e-04, 7.5275253e-05],\n",
      "       [1.1831693e-08, 1.1577498e-05, 1.7352887e-07, ..., 4.0109558e-06,\n",
      "        7.4200152e-04, 9.9902701e-01]], dtype=float32), array([[3.1769428e-05, 9.4324305e-06, 2.0187629e-06, ..., 9.9991417e-01,\n",
      "        9.3572640e-07, 2.6728390e-05],\n",
      "       [9.9978632e-01, 1.2753534e-07, 6.0960112e-05, ..., 1.8001592e-06,\n",
      "        5.8726495e-05, 2.3125496e-05],\n",
      "       [1.1763622e-05, 9.9970215e-08, 9.2260198e-05, ..., 8.2334964e-06,\n",
      "        3.0803822e-06, 2.9729624e-04],\n",
      "       ...,\n",
      "       [9.9980956e-01, 1.8871749e-07, 3.3976517e-06, ..., 6.5968891e-07,\n",
      "        1.7692332e-06, 4.0551058e-06],\n",
      "       [1.6650867e-05, 1.2003870e-05, 9.9987483e-01, ..., 3.7868804e-06,\n",
      "        5.4387030e-05, 6.0659431e-06],\n",
      "       [2.6667565e-06, 4.8938649e-08, 1.6697423e-07, ..., 4.5015386e-05,\n",
      "        4.1293948e-05, 9.9984980e-01]], dtype=float32), array([[6.44179745e-05, 2.13305408e-04, 7.51848638e-05, ...,\n",
      "        9.96913910e-01, 2.28950630e-05, 2.53504911e-03],\n",
      "       [9.99512672e-01, 4.43561447e-07, 7.32870976e-05, ...,\n",
      "        1.11588743e-05, 5.52061683e-05, 2.35950338e-05],\n",
      "       [1.38818741e-05, 3.15950747e-05, 7.00536984e-05, ...,\n",
      "        3.50435366e-05, 1.28563270e-05, 3.63271509e-04],\n",
      "       ...,\n",
      "       [9.99832749e-01, 5.01120994e-08, 1.16005021e-05, ...,\n",
      "        1.32390255e-06, 3.00415127e-06, 2.11829665e-05],\n",
      "       [7.58306942e-06, 6.13999291e-05, 9.99820888e-01, ...,\n",
      "        3.33061180e-05, 2.03093205e-05, 1.56492183e-06],\n",
      "       [2.19926665e-06, 5.44425484e-06, 3.17825356e-06, ...,\n",
      "        1.30138615e-05, 6.87745887e-06, 9.99890447e-01]], dtype=float32), array([[7.1281043e-05, 1.2189215e-05, 9.0879857e-06, ..., 9.9822730e-01,\n",
      "        3.8964707e-05, 9.6985826e-04],\n",
      "       [9.9946612e-01, 1.6431642e-08, 9.1271277e-06, ..., 3.9965753e-06,\n",
      "        9.7252938e-05, 3.2316937e-05],\n",
      "       [7.6365104e-06, 1.2697990e-05, 2.8622952e-05, ..., 6.5110808e-06,\n",
      "        2.0689846e-05, 2.2159178e-04],\n",
      "       ...,\n",
      "       [9.9981028e-01, 6.2570841e-08, 7.5090029e-06, ..., 5.1977695e-06,\n",
      "        1.2574019e-04, 6.1340311e-06],\n",
      "       [6.4632943e-05, 1.0501813e-04, 6.9042969e-01, ..., 3.2031469e-04,\n",
      "        1.1626104e-02, 1.9767093e-03],\n",
      "       [2.3459083e-06, 2.4554626e-07, 1.1609235e-06, ..., 9.9999888e-06,\n",
      "        4.2189746e-05, 9.9987638e-01]], dtype=float32), array([[4.8134709e-04, 2.5756701e-05, 9.4529687e-06, ..., 9.9662942e-01,\n",
      "        4.7390775e-05, 2.5638412e-03],\n",
      "       [1.0000000e+00, 6.7954603e-10, 4.4218292e-11, ..., 1.3954039e-10,\n",
      "        2.8384886e-12, 2.0219063e-11],\n",
      "       [7.3372954e-29, 6.6762868e-18, 1.6860826e-22, ..., 1.0878101e-32,\n",
      "        9.7579302e-22, 4.0160271e-15],\n",
      "       ...,\n",
      "       [1.0000000e+00, 1.2522480e-17, 1.4088712e-15, ..., 9.2454411e-19,\n",
      "        4.6832326e-20, 4.3843679e-17],\n",
      "       [9.0059089e-09, 9.4599336e-08, 2.2127762e-01, ..., 1.0151330e-07,\n",
      "        3.0834346e-06, 2.9961165e-11],\n",
      "       [9.3851378e-11, 2.1231912e-09, 2.7497621e-10, ..., 4.7623907e-08,\n",
      "        2.6358853e-06, 9.9999523e-01]], dtype=float32)]\n",
      "[array([7, 0, 4, ..., 0, 2, 9], dtype=int64), array([7, 0, 4, ..., 0, 2, 9], dtype=int64), array([7, 0, 4, ..., 0, 2, 9], dtype=int64), array([7, 0, 4, ..., 0, 2, 9], dtype=int64), array([7, 0, 4, ..., 0, 2, 9], dtype=int64), array([7, 0, 4, ..., 0, 2, 9], dtype=int64), array([7, 0, 4, ..., 0, 2, 9], dtype=int64), array([7, 0, 4, ..., 0, 2, 9], dtype=int64), array([7, 0, 4, ..., 0, 2, 9], dtype=int64), array([7, 0, 4, ..., 0, 2, 9], dtype=int64), array([7, 0, 4, ..., 0, 2, 9], dtype=int64), array([7, 0, 4, ..., 0, 2, 9], dtype=int64), array([7, 0, 4, ..., 0, 2, 9], dtype=int64), array([7, 0, 4, ..., 0, 2, 9], dtype=int64), array([7, 0, 4, ..., 0, 3, 9], dtype=int64)]\n",
      "\n"
     ]
    }
   ],
   "source": [
    "predict_y = []\n",
    "preditct_y_classes = []\n",
    "\n",
    "for i,model in enumerate(models):\n",
    "    print(f\"Model:{i+1}\")\n",
    "    yp = model.predict(x_test,verbose=1)\n",
    "    preditct_y_class = np.argmax(yp,axis=1)\n",
    "\n",
    "    predict_y.append(yp)\n",
    "    preditct_y_classes.append(preditct_y_class)\n",
    "\n",
    "    print(predict_y)\n",
    "    print(preditct_y_classes)\n",
    "    print()"
   ]
  },
  {
   "cell_type": "code",
   "execution_count": 20,
   "id": "9112ea2c-c3dc-460c-b860-c27bda9d5a8a",
   "metadata": {},
   "outputs": [
    {
     "name": "stdout",
     "output_type": "stream",
     "text": [
      "Model 1: Predicted = 0, True = 0\n"
     ]
    },
    {
     "data": {
      "image/png": "[encoded data removed]",
      "text/plain": [
       "<Figure size 640x480 with 1 Axes>"
      ]
     },
     "metadata": {},
     "output_type": "display_data"
    },
    {
     "name": "stdout",
     "output_type": "stream",
     "text": [
      "Model 2: Predicted = 5, True = 5\n"
     ]
    },
    {
     "data": {
      "image/png": "[encoded data removed]",
      "text/plain": [
       "<Figure size 640x480 with 1 Axes>"
      ]
     },
     "metadata": {},
     "output_type": "display_data"
    },
    {
     "name": "stdout",
     "output_type": "stream",
     "text": [
      "Model 3: Predicted = 5, True = 5\n"
     ]
    },
    {
     "data": {
      "image/png": "[encoded data removed]",
      "text/plain": [
       "<Figure size 640x480 with 1 Axes>"
      ]
     },
     "metadata": {},
     "output_type": "display_data"
    },
    {
     "name": "stdout",
     "output_type": "stream",
     "text": [
      "Model 4: Predicted = 3, True = 3\n"
     ]
    },
    {
     "data": {
      "image/png": "[encoded data removed]",
      "text/plain": [
       "<Figure size 640x480 with 1 Axes>"
      ]
     },
     "metadata": {},
     "output_type": "display_data"
    },
    {
     "name": "stdout",
     "output_type": "stream",
     "text": [
      "Model 5: Predicted = 5, True = 5\n"
     ]
    },
    {
     "data": {
      "image/png": "[encoded data removed]",
      "text/plain": [
       "<Figure size 640x480 with 1 Axes>"
      ]
     },
     "metadata": {},
     "output_type": "display_data"
    },
    {
     "name": "stdout",
     "output_type": "stream",
     "text": [
      "Model 6: Predicted = 9, True = 9\n"
     ]
    },
    {
     "data": {
      "image/png": "[encoded data removed]",
      "text/plain": [
       "<Figure size 640x480 with 1 Axes>"
      ]
     },
     "metadata": {},
     "output_type": "display_data"
    },
    {
     "name": "stdout",
     "output_type": "stream",
     "text": [
      "Model 7: Predicted = 0, True = 0\n"
     ]
    },
    {
     "data": {
      "image/png": "[encoded data removed]",
      "text/plain": [
       "<Figure size 640x480 with 1 Axes>"
      ]
     },
     "metadata": {},
     "output_type": "display_data"
    },
    {
     "name": "stdout",
     "output_type": "stream",
     "text": [
      "Model 8: Predicted = 6, True = 6\n"
     ]
    },
    {
     "data": {
      "image/png": "[encoded data removed]",
      "text/plain": [
       "<Figure size 640x480 with 1 Axes>"
      ]
     },
     "metadata": {},
     "output_type": "display_data"
    },
    {
     "name": "stdout",
     "output_type": "stream",
     "text": [
      "Model 9: Predicted = 7, True = 7\n"
     ]
    },
    {
     "data": {
      "image/png": "[encoded data removed]",
      "text/plain": [
       "<Figure size 640x480 with 1 Axes>"
      ]
     },
     "metadata": {},
     "output_type": "display_data"
    },
    {
     "name": "stdout",
     "output_type": "stream",
     "text": [
      "Model 10: Predicted = 2, True = 2\n"
     ]
    },
    {
     "data": {
      "image/png": "[encoded data removed]",
      "text/plain": [
       "<Figure size 640x480 with 1 Axes>"
      ]
     },
     "metadata": {},
     "output_type": "display_data"
    },
    {
     "name": "stdout",
     "output_type": "stream",
     "text": [
      "Model 11: Predicted = 1, True = 1\n"
     ]
    },
    {
     "data": {
      "image/png": "[encoded data removed]",
      "text/plain": [
       "<Figure size 640x480 with 1 Axes>"
      ]
     },
     "metadata": {},
     "output_type": "display_data"
    },
    {
     "name": "stdout",
     "output_type": "stream",
     "text": [
      "Model 12: Predicted = 6, True = 6\n"
     ]
    },
    {
     "data": {
      "image/png": "[encoded data removed]",
      "text/plain": [
       "<Figure size 640x480 with 1 Axes>"
      ]
     },
     "metadata": {},
     "output_type": "display_data"
    },
    {
     "name": "stdout",
     "output_type": "stream",
     "text": [
      "Model 13: Predicted = 3, True = 9\n"
     ]
    },
    {
     "data": {
      "image/png": "[encoded data removed]",
      "text/plain": [
       "<Figure size 640x480 with 1 Axes>"
      ]
     },
     "metadata": {},
     "output_type": "display_data"
    },
    {
     "name": "stdout",
     "output_type": "stream",
     "text": [
      "Model 14: Predicted = 6, True = 6\n"
     ]
    },
    {
     "data": {
      "image/png": "[encoded data removed]",
      "text/plain": [
       "<Figure size 640x480 with 1 Axes>"
      ]
     },
     "metadata": {},
     "output_type": "display_data"
    },
    {
     "name": "stdout",
     "output_type": "stream",
     "text": [
      "Model 15: Predicted = 5, True = 5\n"
     ]
    },
    {
     "data": {
      "image/png": "[encoded data removed]",
      "text/plain": [
       "<Figure size 640x480 with 1 Axes>"
      ]
     },
     "metadata": {},
     "output_type": "display_data"
    }
   ],
   "source": [
    "for i, model in enumerate(models):\n",
    "    rand_idx = np.random.randint(len(x_test))\n",
    "\n",
    "    img = x_test[rand_idx].reshape(28, 28)\n",
    "    true_label = np.argmax(y_test[rand_idx])\n",
    "\n",
    "    pred_label = preditct_y_classes[i][rand_idx]\n",
    "\n",
    "    print(f\"Model {i + 1}: Predicted = {pred_label}, True = {true_label}\")\n",
    "    plt.imshow(img, cmap='gray')\n",
    "    plt.axis('off')\n",
    "    plt.title(f\"Model {i+1} Prediction\")\n",
    "    plt.show()"
   ]
  },
  {
   "cell_type": "code",
   "execution_count": 21,
   "id": "87f66d93-e14f-4a32-b875-3f507672eabc",
   "metadata": {},
   "outputs": [
    {
     "name": "stdout",
     "output_type": "stream",
     "text": [
      "<Sequential name=sequential, built=True>: 0.9790\n",
      "<Sequential name=sequential_12, built=True>: 0.9788\n",
      "<Sequential name=sequential_1, built=True>: 0.9778\n",
      "<Sequential name=sequential_6, built=True>: 0.9771\n",
      "<Sequential name=sequential_7, built=True>: 0.9771\n",
      "<Sequential name=sequential_8, built=True>: 0.9771\n",
      "<Sequential name=sequential_2, built=True>: 0.9762\n",
      "<Sequential name=sequential_14, built=True>: 0.9738\n",
      "<Sequential name=sequential_4, built=True>: 0.9737\n",
      "<Sequential name=sequential_9, built=True>: 0.9732\n",
      "<Sequential name=sequential_10, built=True>: 0.9722\n",
      "<Sequential name=sequential_3, built=True>: 0.9718\n",
      "<Sequential name=sequential_13, built=True>: 0.9704\n",
      "<Sequential name=sequential_5, built=True>: 0.9679\n",
      "<Sequential name=sequential_11, built=True>: 0.9620\n"
     ]
    }
   ],
   "source": [
    "sorted_models = sorted(zip(models, taccuracy), key=lambda x: x[1], reverse=True)\n",
    "for name, acc in sorted_models:\n",
    "    print(f\"{name}: {acc:.4f}\")"
   ]
  },
  {
   "cell_type": "code",
   "execution_count": 22,
   "id": "c35ba48f-e09d-410a-9bb3-52c62750250f",
   "metadata": {},
   "outputs": [
    {
     "name": "stdout",
     "output_type": "stream",
     "text": [
      "\u001b[1m1/1\u001b[0m \u001b[32m━━━━━━━━━━━━━━━━━━━━\u001b[0m\u001b[37m\u001b[0m \u001b[1m0s\u001b[0m 35ms/step\n",
      "predicted digit: 5\n"
     ]
    },
    {
     "data": {
      "image/png": "[encoded data removed]",
      "text/plain": [
       "<Figure size 400x400 with 1 Axes>"
      ]
     },
     "metadata": {},
     "output_type": "display_data"
    },
    {
     "name": "stdout",
     "output_type": "stream",
     "text": [
      "\u001b[1m1/1\u001b[0m \u001b[32m━━━━━━━━━━━━━━━━━━━━\u001b[0m\u001b[37m\u001b[0m \u001b[1m0s\u001b[0m 46ms/step\n",
      "predicted digit: 5\n"
     ]
    },
    {
     "data": {
      "image/png": "[encoded data removed]",
      "text/plain": [
       "<Figure size 400x400 with 1 Axes>"
      ]
     },
     "metadata": {},
     "output_type": "display_data"
    },
    {
     "name": "stdout",
     "output_type": "stream",
     "text": [
      "\u001b[1m1/1\u001b[0m \u001b[32m━━━━━━━━━━━━━━━━━━━━\u001b[0m\u001b[37m\u001b[0m \u001b[1m0s\u001b[0m 32ms/step\n",
      "predicted digit: 5\n"
     ]
    },
    {
     "data": {
      "image/png": "[encoded data removed]",
      "text/plain": [
       "<Figure size 400x400 with 1 Axes>"
      ]
     },
     "metadata": {},
     "output_type": "display_data"
    },
    {
     "name": "stdout",
     "output_type": "stream",
     "text": [
      "\u001b[1m1/1\u001b[0m \u001b[32m━━━━━━━━━━━━━━━━━━━━\u001b[0m\u001b[37m\u001b[0m \u001b[1m0s\u001b[0m 30ms/step\n",
      "predicted digit: 5\n"
     ]
    },
    {
     "data": {
      "image/png": "[encoded data removed]",
      "text/plain": [
       "<Figure size 400x400 with 1 Axes>"
      ]
     },
     "metadata": {},
     "output_type": "display_data"
    },
    {
     "name": "stdout",
     "output_type": "stream",
     "text": [
      "\u001b[1m1/1\u001b[0m \u001b[32m━━━━━━━━━━━━━━━━━━━━\u001b[0m\u001b[37m\u001b[0m \u001b[1m0s\u001b[0m 33ms/step\n",
      "predicted digit: 5\n"
     ]
    },
    {
     "data": {
      "image/png": "[encoded data removed]",
      "text/plain": [
       "<Figure size 400x400 with 1 Axes>"
      ]
     },
     "metadata": {},
     "output_type": "display_data"
    },
    {
     "name": "stdout",
     "output_type": "stream",
     "text": [
      "\u001b[1m1/1\u001b[0m \u001b[32m━━━━━━━━━━━━━━━━━━━━\u001b[0m\u001b[37m\u001b[0m \u001b[1m0s\u001b[0m 32ms/step\n",
      "predicted digit: 5\n"
     ]
    },
    {
     "data": {
      "image/png": "[encoded data removed]",
      "text/plain": [
       "<Figure size 400x400 with 1 Axes>"
      ]
     },
     "metadata": {},
     "output_type": "display_data"
    },
    {
     "name": "stdout",
     "output_type": "stream",
     "text": [
      "\u001b[1m1/1\u001b[0m \u001b[32m━━━━━━━━━━━━━━━━━━━━\u001b[0m\u001b[37m\u001b[0m \u001b[1m0s\u001b[0m 27ms/step\n",
      "predicted digit: 5\n"
     ]
    },
    {
     "data": {
      "image/png": "[encoded data removed]",
      "text/plain": [
       "<Figure size 400x400 with 1 Axes>"
      ]
     },
     "metadata": {},
     "output_type": "display_data"
    },
    {
     "name": "stdout",
     "output_type": "stream",
     "text": [
      "\u001b[1m1/1\u001b[0m \u001b[32m━━━━━━━━━━━━━━━━━━━━\u001b[0m\u001b[37m\u001b[0m \u001b[1m0s\u001b[0m 28ms/step\n",
      "predicted digit: 5\n"
     ]
    },
    {
     "data": {
      "image/png": "[encoded data removed]",
      "text/plain": [
       "<Figure size 400x400 with 1 Axes>"
      ]
     },
     "metadata": {},
     "output_type": "display_data"
    },
    {
     "name": "stdout",
     "output_type": "stream",
     "text": [
      "\u001b[1m1/1\u001b[0m \u001b[32m━━━━━━━━━━━━━━━━━━━━\u001b[0m\u001b[37m\u001b[0m \u001b[1m0s\u001b[0m 40ms/step\n",
      "predicted digit: 5\n"
     ]
    },
    {
     "data": {
      "image/png": "[encoded data removed]",
      "text/plain": [
       "<Figure size 400x400 with 1 Axes>"
      ]
     },
     "metadata": {},
     "output_type": "display_data"
    },
    {
     "name": "stdout",
     "output_type": "stream",
     "text": [
      "\u001b[1m1/1\u001b[0m \u001b[32m━━━━━━━━━━━━━━━━━━━━\u001b[0m\u001b[37m\u001b[0m \u001b[1m0s\u001b[0m 35ms/step\n",
      "predicted digit: 5\n"
     ]
    },
    {
     "data": {
      "image/png": "[encoded data removed]",
      "text/plain": [
       "<Figure size 400x400 with 1 Axes>"
      ]
     },
     "metadata": {},
     "output_type": "display_data"
    },
    {
     "name": "stdout",
     "output_type": "stream",
     "text": [
      "\u001b[1m1/1\u001b[0m \u001b[32m━━━━━━━━━━━━━━━━━━━━\u001b[0m\u001b[37m\u001b[0m \u001b[1m0s\u001b[0m 27ms/step\n",
      "predicted digit: 5\n"
     ]
    },
    {
     "data": {
      "image/png": "[encoded data removed]",
      "text/plain": [
       "<Figure size 400x400 with 1 Axes>"
      ]
     },
     "metadata": {},
     "output_type": "display_data"
    },
    {
     "name": "stdout",
     "output_type": "stream",
     "text": [
      "\u001b[1m1/1\u001b[0m \u001b[32m━━━━━━━━━━━━━━━━━━━━\u001b[0m\u001b[37m\u001b[0m \u001b[1m0s\u001b[0m 32ms/step\n",
      "predicted digit: 3\n"
     ]
    },
    {
     "data": {
      "image/png": "[encoded data removed]",
      "text/plain": [
       "<Figure size 400x400 with 1 Axes>"
      ]
     },
     "metadata": {},
     "output_type": "display_data"
    },
    {
     "name": "stdout",
     "output_type": "stream",
     "text": [
      "\u001b[1m1/1\u001b[0m \u001b[32m━━━━━━━━━━━━━━━━━━━━\u001b[0m\u001b[37m\u001b[0m \u001b[1m0s\u001b[0m 31ms/step\n",
      "predicted digit: 5\n"
     ]
    },
    {
     "data": {
      "image/png": "[encoded data removed]",
      "text/plain": [
       "<Figure size 400x400 with 1 Axes>"
      ]
     },
     "metadata": {},
     "output_type": "display_data"
    },
    {
     "name": "stdout",
     "output_type": "stream",
     "text": [
      "\u001b[1m1/1\u001b[0m \u001b[32m━━━━━━━━━━━━━━━━━━━━\u001b[0m\u001b[37m\u001b[0m \u001b[1m0s\u001b[0m 28ms/step\n",
      "predicted digit: 5\n"
     ]
    },
    {
     "data": {
      "image/png": "[encoded data removed]",
      "text/plain": [
       "<Figure size 400x400 with 1 Axes>"
      ]
     },
     "metadata": {},
     "output_type": "display_data"
    },
    {
     "name": "stdout",
     "output_type": "stream",
     "text": [
      "\u001b[1m1/1\u001b[0m \u001b[32m━━━━━━━━━━━━━━━━━━━━\u001b[0m\u001b[37m\u001b[0m \u001b[1m0s\u001b[0m 33ms/step\n",
      "predicted digit: 5\n"
     ]
    },
    {
     "data": {
      "image/png": "[encoded data removed]",
      "text/plain": [
       "<Figure size 400x400 with 1 Axes>"
      ]
     },
     "metadata": {},
     "output_type": "display_data"
    }
   ],
   "source": [
    "\n",
    "from PIL import Image\n",
    "\n",
    "image_path = \"C:/Users/Dell/Downloads/pixil-frame-0 (2).png\"\n",
    "img = Image.open(image_path).convert('L')\n",
    "\n",
    "img=img.resize((28,28))\n",
    "\n",
    "img_arr = np.array(img)\n",
    "\n",
    "img_arr = img_arr/255.0\n",
    "\n",
    "img_arr = (img_arr > 0.3).astype(float)\n",
    "\n",
    "img_arr = img_arr.reshape(1, 784)\n",
    "\n",
    "for i in range(len(models)):\n",
    "    pred = models[i].predict(img_arr)\n",
    "    \n",
    "    pred_class = np.argmax(pred)\n",
    "    \n",
    "    print(\"predicted digit:\",pred_class)\n",
    "    plt.figure(figsize=(4,4))\n",
    "    plt.subplot(2,5,digit+1)\n",
    "   \n",
    "    plt.imshow(img_arr.reshape(28,28), cmap='gray')\n",
    "    plt.title(f\"model: {i+1}: predicted: {pred_class}\")\n",
    "    plt.axis('off')\n",
    "    plt.tight_layout()\n",
    "    plt.show()"
   ]
  },
  {
   "cell_type": "code",
   "execution_count": 23,
   "id": "7417cfc0-2486-4b7b-8c6a-efefe83bd271",
   "metadata": {},
   "outputs": [
    {
     "name": "stdout",
     "output_type": "stream",
     "text": [
      "Digit 0: 0.0000\n",
      "Digit 1: 0.0000\n",
      "Digit 2: 0.0000\n",
      "Digit 3: 0.0000\n",
      "Digit 4: 0.0000\n",
      "Digit 5: 1.0000\n",
      "Digit 6: 0.0000\n",
      "Digit 7: 0.0000\n",
      "Digit 8: 0.0000\n",
      "Digit 9: 0.0000\n"
     ]
    }
   ],
   "source": [
    "\n",
    "for i, prob in enumerate(pred[0]):\n",
    "    print(f\"Digit {i}: {prob:.4f}\")\n"
   ]
  }
 ],
 "metadata": {
  "kernelspec": {
   "display_name": ".venv",
   "language": "python",
   "name": "python3"
  },
  "language_info": {
   "codemirror_mode": {
    "name": "ipython",
    "version": 3
   },
   "file_extension": ".py",
   "mimetype": "text/x-python",
   "name": "python",
   "nbconvert_exporter": "python",
   "pygments_lexer": "ipython3",
   "version": "3.11.0"
  }
 },
 "nbformat": 4,
 "nbformat_minor": 5
}
